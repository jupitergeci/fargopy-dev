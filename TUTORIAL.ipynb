{
 "cells": [
  {
   "cell_type": "markdown",
   "metadata": {},
   "source": [
    "# FARGOpy"
   ]
  },
  {
   "cell_type": "markdown",
   "metadata": {},
   "source": [
    "## Tutorial"
   ]
  },
  {
   "cell_type": "markdown",
   "metadata": {},
   "source": [
    "<a target=\"_blank\" href=\"https://colab.research.google.com/github/seap-udea/fargopy/blob/main/TUTORIAL.ipynb\">\n",
    "  <img src=\"https://colab.research.google.com/assets/colab-badge.svg\" alt=\"Open In Colab\"/>\n",
    "</a>"
   ]
  },
  {
   "cell_type": "markdown",
   "metadata": {},
   "source": [
    "We will need the following external modules for this example:"
   ]
  },
  {
   "cell_type": "code",
   "execution_count": 1,
   "metadata": {},
   "outputs": [
    {
     "name": "stdout",
     "output_type": "stream",
     "text": [
      "Running FARGOpy version 0.2.1\n"
     ]
    }
   ],
   "source": [
    "import numpy as np\n",
    "import matplotlib.pyplot as plt\n",
    "from IPython.display import HTML\n",
    "\n",
    "import fargopy as fp\n",
    "from fargopy import DEG, RAD\n",
    "%load_ext autoreload\n",
    "%autoreload 2"
   ]
  },
  {
   "cell_type": "markdown",
   "metadata": {},
   "source": [
    "There are two main functionalities of `FARGOpy`:\n",
    "\n",
    "- **Output postprocessing**: `FARGOpy` allows you to load the outputs of a simulation with `FARGO3D` and postprocess the resulting data. You may to calculate derivative quantities, plot the fields or slices of them or any other computation.\n",
    "\n",
    "- **FARGO3D Control**: `FARGOpy` allows you to download, compile, run and control `FARGO3D`. These functionalities could be very useful if you are starting using `FARGO3D`, you do not want to bother with Linux commands or you are using the package in `Google Colab`.\n",
    "\n",
    "- **Simulation configuration**: `FARGOpy` is also intended to create or modify `FARGO3D` setups."
   ]
  },
  {
   "cell_type": "markdown",
   "metadata": {},
   "source": [
    "### Results postprocessing"
   ]
  },
  {
   "cell_type": "markdown",
   "metadata": {},
   "source": [
    "For illustrating the usage of `FARGOpy` let's get some precomputed examples:"
   ]
  },
  {
   "cell_type": "code",
   "execution_count": 3,
   "metadata": {},
   "outputs": [
    {
     "name": "stdout",
     "output_type": "stream",
     "text": [
      "Precomputed output directory '/tmp/fargo' already exist\n"
     ]
    },
    {
     "data": {
      "text/plain": [
       "'/tmp/fargo'"
      ]
     },
     "execution_count": 3,
     "metadata": {},
     "output_type": "execute_result"
    }
   ],
   "source": [
    "fp.Simulation.download_precomputed(setup='fargo')"
   ]
  },
  {
   "cell_type": "markdown",
   "metadata": {},
   "source": [
    "Any operation in `fargopy` requires the creation of a simulation:"
   ]
  },
  {
   "cell_type": "code",
   "execution_count": 4,
   "metadata": {},
   "outputs": [
    {
     "name": "stdout",
     "output_type": "stream",
     "text": [
      "Your simulation is now connected with '/home/jzuluaga/fargo3d/'\n"
     ]
    }
   ],
   "source": [
    "sim = fp.Simulation()"
   ]
  },
  {
   "cell_type": "markdown",
   "metadata": {},
   "source": [
    "Set the directory where the outputs are located: "
   ]
  },
  {
   "cell_type": "code",
   "execution_count": 5,
   "metadata": {},
   "outputs": [
    {
     "name": "stdout",
     "output_type": "stream",
     "text": [
      "Now you are connected with output directory '/tmp/fargo'\n"
     ]
    }
   ],
   "source": [
    "sim.set_output_dir('/tmp/fargo')"
   ]
  },
  {
   "cell_type": "markdown",
   "metadata": {},
   "source": [
    "List the files available in the output directory:"
   ]
  },
  {
   "cell_type": "code",
   "execution_count": 6,
   "metadata": {},
   "outputs": [
    {
     "name": "stdout",
     "output_type": "stream",
     "text": [
      "273 files in output directory\n",
      "IDL.var, bigplanet0.dat, dims.dat, domain_x.dat, domain_y.dat, domain_z.dat, fargo, gasdens0.dat, gasdens0_2d.dat, gasdens1.dat, \n",
      "gasdens10.dat, gasdens11.dat, gasdens12.dat, gasdens13.dat, gasdens14.dat, gasdens15.dat, gasdens16.dat, gasdens17.dat, gasdens18.dat, gasdens19.dat, \n",
      "gasdens2.dat, gasdens20.dat, gasdens21.dat, gasdens22.dat, gasdens23.dat, gasdens24.dat, gasdens25.dat, gasdens26.dat, gasdens27.dat, gasdens28.dat, \n",
      "gasdens29.dat, gasdens3.dat, gasdens30.dat, gasdens31.dat, gasdens32.dat, gasdens33.dat, gasdens34.dat, gasdens35.dat, gasdens36.dat, gasdens37.dat, \n",
      "gasdens38.dat, gasdens39.dat, gasdens4.dat, gasdens40.dat, gasdens41.dat, gasdens42.dat, gasdens43.dat, gasdens44.dat, gasdens45.dat, gasdens46.dat, \n",
      "gasdens47.dat, gasdens48.dat, gasdens49.dat, gasdens5.dat, gasdens50.dat, gasdens6.dat, gasdens7.dat, gasdens8.dat, gasdens9.dat, gasenergy0.dat, \n",
      "gasenergy1.dat, gasenergy10.dat, gasenergy11.dat, gasenergy12.dat, gasenergy13.dat, gasenergy14.dat, gasenergy15.dat, gasenergy16.dat, gasenergy17.dat, gasenergy18.dat, \n",
      "gasenergy19.dat, gasenergy2.dat, gasenergy20.dat, gasenergy21.dat, gasenergy22.dat, gasenergy23.dat, gasenergy24.dat, gasenergy25.dat, gasenergy26.dat, gasenergy27.dat, \n",
      "gasenergy28.dat, gasenergy29.dat, gasenergy3.dat, gasenergy30.dat, gasenergy31.dat, gasenergy32.dat, gasenergy33.dat, gasenergy34.dat, gasenergy35.dat, gasenergy36.dat, \n",
      "gasenergy37.dat, gasenergy38.dat, gasenergy39.dat, gasenergy4.dat, gasenergy40.dat, gasenergy41.dat, gasenergy42.dat, gasenergy43.dat, gasenergy44.dat, gasenergy45.dat, \n",
      "gasenergy46.dat, gasenergy47.dat, gasenergy48.dat, gasenergy49.dat, gasenergy5.dat, gasenergy50.dat, gasenergy6.dat, gasenergy7.dat, gasenergy8.dat, gasenergy9.dat, \n",
      "gasvx0.dat, gasvx0_2d.dat, gasvx1.dat, gasvx10.dat, gasvx11.dat, gasvx12.dat, gasvx13.dat, gasvx14.dat, gasvx15.dat, gasvx16.dat, \n",
      "gasvx17.dat, gasvx18.dat, gasvx19.dat, gasvx2.dat, gasvx20.dat, gasvx21.dat, gasvx22.dat, gasvx23.dat, gasvx24.dat, gasvx25.dat, \n",
      "gasvx26.dat, gasvx27.dat, gasvx28.dat, gasvx29.dat, gasvx3.dat, gasvx30.dat, gasvx31.dat, gasvx32.dat, gasvx33.dat, gasvx34.dat, \n",
      "gasvx35.dat, gasvx36.dat, gasvx37.dat, gasvx38.dat, gasvx39.dat, gasvx4.dat, gasvx40.dat, gasvx41.dat, gasvx42.dat, gasvx43.dat, \n",
      "gasvx44.dat, gasvx45.dat, gasvx46.dat, gasvx47.dat, gasvx48.dat, gasvx49.dat, gasvx5.dat, gasvx50.dat, gasvx6.dat, gasvx7.dat, \n",
      "gasvx8.dat, gasvx9.dat, gasvy0.dat, gasvy0_2d.dat, gasvy1.dat, gasvy10.dat, gasvy11.dat, gasvy12.dat, gasvy13.dat, gasvy14.dat, \n",
      "gasvy15.dat, gasvy16.dat, gasvy17.dat, gasvy18.dat, gasvy19.dat, gasvy2.dat, gasvy20.dat, gasvy21.dat, gasvy22.dat, gasvy23.dat, \n",
      "gasvy24.dat, gasvy25.dat, gasvy26.dat, gasvy27.dat, gasvy28.dat, gasvy29.dat, gasvy3.dat, gasvy30.dat, gasvy31.dat, gasvy32.dat, \n",
      "gasvy33.dat, gasvy34.dat, gasvy35.dat, gasvy36.dat, gasvy37.dat, gasvy38.dat, gasvy39.dat, gasvy4.dat, gasvy40.dat, gasvy41.dat, \n",
      "gasvy42.dat, gasvy43.dat, gasvy44.dat, gasvy45.dat, gasvy46.dat, gasvy47.dat, gasvy48.dat, gasvy49.dat, gasvy5.dat, gasvy50.dat, \n",
      "gasvy6.dat, gasvy7.dat, gasvy8.dat, gasvy9.dat, monitor, orbit0.dat, outputgas.dat, planet0.dat, planets, summary0.dat, \n",
      "summary1.dat, summary10.dat, summary11.dat, summary12.dat, summary13.dat, summary14.dat, summary15.dat, summary16.dat, summary17.dat, summary18.dat, \n",
      "summary19.dat, summary2.dat, summary20.dat, summary21.dat, summary22.dat, summary23.dat, summary24.dat, summary25.dat, summary26.dat, summary27.dat, \n",
      "summary28.dat, summary29.dat, summary3.dat, summary30.dat, summary31.dat, summary32.dat, summary33.dat, summary34.dat, summary35.dat, summary36.dat, \n",
      "summary37.dat, summary38.dat, summary39.dat, summary4.dat, summary40.dat, summary41.dat, summary42.dat, summary43.dat, summary44.dat, summary45.dat, \n",
      "summary46.dat, summary47.dat, summary48.dat, summary49.dat, summary5.dat, summary50.dat, summary6.dat, summary7.dat, summary8.dat, summary9.dat, \n",
      "tqwk0.dat, used_rad.dat, variables.par, \n"
     ]
    }
   ],
   "source": [
    "outputs = sim.list_outputs()"
   ]
  },
  {
   "cell_type": "markdown",
   "metadata": {},
   "source": [
    "The files describing the basic properties of the simulations are `dims.dat`, `variables.par` and `domain_*.dat`. You may load the information in these files:"
   ]
  },
  {
   "cell_type": "code",
   "execution_count": 7,
   "metadata": {},
   "outputs": [
    {
     "name": "stdout",
     "output_type": "stream",
     "text": [
      "Loading variables\n",
      "84 variables loaded\n",
      "Simulation in 2 dimensions\n",
      "Loading domain in cylindrical coordinates:\n",
      "\tVariable phi: 384 [[0, -3.1334114227210694], [-1, 3.1334114227210694]]\n",
      "\tVariable r: 128 [[0, 0.408203125], [-1, 2.491796875]]\n",
      "\tVariable z: 1 [[0, 0.0], [-1, 0.0]]\n",
      "Number of snapshots in output directory: 51\n",
      "Configuration variables and domains load into the object. See e.g. <sim>.vars\n"
     ]
    }
   ],
   "source": [
    "sim.load_properties()"
   ]
  },
  {
   "cell_type": "markdown",
   "metadata": {},
   "source": [
    "#### Load field data into memory"
   ]
  },
  {
   "cell_type": "markdown",
   "metadata": {},
   "source": [
    "The outputs of a simulation are given as datafiles containing the value of different fields in the coordinate grid. You can load a single field:"
   ]
  },
  {
   "cell_type": "code",
   "execution_count": 8,
   "metadata": {},
   "outputs": [
    {
     "data": {
      "text/plain": [
       "([[[0.00063662 0.00063662 0.00063662 ... 0.00063662 0.00063662 0.00063662]\n",
       "   [0.00063662 0.00063662 0.00063662 ... 0.00063662 0.00063662 0.00063662]\n",
       "   [0.00063662 0.00063662 0.00063662 ... 0.00063662 0.00063662 0.00063662]\n",
       "   ...\n",
       "   [0.00063662 0.00063662 0.00063662 ... 0.00063662 0.00063662 0.00063662]\n",
       "   [0.00063662 0.00063662 0.00063662 ... 0.00063662 0.00063662 0.00063662]\n",
       "   [0.00063662 0.00063662 0.00063662 ... 0.00063662 0.00063662 0.00063662]]],\n",
       " (1, 128, 384))"
      ]
     },
     "execution_count": 8,
     "metadata": {},
     "output_type": "execute_result"
    }
   ],
   "source": [
    "gasdens0 = sim.load_field('gasdens',snapshot=0)\n",
    "gasdens0, gasdens0.data.shape"
   ]
  },
  {
   "cell_type": "markdown",
   "metadata": {},
   "source": [
    "As you can see, fields are loaded as special `Field` objects (see `fp.Field?` for a list of attributes and methods), whose most important attribute is `data` which is the `numpy` array containing the values of the field in the coordinate domain."
   ]
  },
  {
   "cell_type": "markdown",
   "metadata": {},
   "source": [
    "Vectorial fields are special cases. In `FARGO3D` each component of the field is separated by file suffixes such as `x`, `y` and `z` (even if you are working in different coordinate systems). `fargopy` is able to load all components if a vector field using:"
   ]
  },
  {
   "cell_type": "code",
   "execution_count": 9,
   "metadata": {},
   "outputs": [
    {
     "data": {
      "text/plain": [
       "(2, 1, 128, 384)"
      ]
     },
     "execution_count": 9,
     "metadata": {},
     "output_type": "execute_result"
    }
   ],
   "source": [
    "vel = sim.load_field('gasv',snapshot=0,type='vector')\n",
    "vel.data.shape"
   ]
  },
  {
   "cell_type": "markdown",
   "metadata": {},
   "source": [
    "As you can see, the first index correspond to the component of the field (`x` and `y` in the `FARGO3D` convention, but actually `phi` and `r` in cylindrical coordinates). The second index is the `z` coordinate, the third the `y` coordinate (`r` in the cylindrical system of coordinates) and the fourh is the `z` coordinate (`phi` in the cylindrical system of coordinates)."
   ]
  },
  {
   "cell_type": "markdown",
   "metadata": {},
   "source": [
    "Depending on the size of the outputs, you can also load all physical fields in the output associated to a given fluid. Use this method with caution:"
   ]
  },
  {
   "cell_type": "code",
   "execution_count": 10,
   "metadata": {},
   "outputs": [
    {
     "data": {
      "text/plain": [
       "(['gasdens', 'gasenergy', 'gasvx', 'gasvy', 'size'], 1.5)"
      ]
     },
     "execution_count": 10,
     "metadata": {},
     "output_type": "execute_result"
    }
   ],
   "source": [
    "fields0 = sim.load_allfields('gas',snapshot=0)\n",
    "fields0.keys(), fields0.size"
   ]
  },
  {
   "cell_type": "markdown",
   "metadata": {},
   "source": [
    "Size here is given in Megabytes."
   ]
  },
  {
   "cell_type": "markdown",
   "metadata": {},
   "source": [
    "If you want all the fields drop the `snapshot` option (or set in `None`):"
   ]
  },
  {
   "cell_type": "code",
   "execution_count": 11,
   "metadata": {},
   "outputs": [
    {
     "name": "stdout",
     "output_type": "stream",
     "text": [
      "0, 1, 10, 11, 12, 13, 14, 15, 16, 17, \n",
      "18, 19, 2, 20, 21, 22, 23, 24, 25, 26, \n",
      "27, 28, 29, 3, 30, 31, 32, 33, 34, 35, \n",
      "36, 37, 38, 39, 4, 40, 41, 42, 43, 44, \n",
      "45, 46, 47, 48, 49, 5, 50, 6, 7, 8, \n",
      "9, snapshots, size\n"
     ]
    },
    {
     "data": {
      "text/plain": [
       "(['gasdens', 'gasenergy', 'gasvx', 'gasvy'], 76.5)"
      ]
     },
     "execution_count": 11,
     "metadata": {},
     "output_type": "execute_result"
    }
   ],
   "source": [
    "fields = sim.load_allfields('gas')\n",
    "fields.print_keys()\n",
    "fields.item('0').keys(), fields.size"
   ]
  },
  {
   "cell_type": "code",
   "execution_count": 12,
   "metadata": {},
   "outputs": [
    {
     "data": {
      "text/plain": [
       "(1, 128, 384)"
      ]
     },
     "execution_count": 12,
     "metadata": {},
     "output_type": "execute_result"
    }
   ],
   "source": [
    "fields.item('0').gasdens.data.shape"
   ]
  },
  {
   "cell_type": "markdown",
   "metadata": {},
   "source": [
    "As you may see, the size of the fields start to be considerable large (36 MB in this case), so it is important to not abusing of this command."
   ]
  },
  {
   "cell_type": "markdown",
   "metadata": {},
   "source": [
    "#### Field slices"
   ]
  },
  {
   "cell_type": "markdown",
   "metadata": {},
   "source": [
    "Once you have loaded a given field you may want to extract a slice for plotting. Let's for instance plot the density as a function of distance in the example simulation at a given snapshot:"
   ]
  },
  {
   "cell_type": "code",
   "execution_count": 13,
   "metadata": {},
   "outputs": [
    {
     "data": {
      "text/plain": [
       "(1, 128, 384)"
      ]
     },
     "execution_count": 13,
     "metadata": {},
     "output_type": "execute_result"
    }
   ],
   "source": [
    "gasdens10 = sim.load_field('gasdens',snapshot=10)\n",
    "gasdens10.data.shape"
   ]
  },
  {
   "cell_type": "markdown",
   "metadata": {},
   "source": [
    "Let's extract the density of the gas at `phi=0` and `z=0`:"
   ]
  },
  {
   "cell_type": "code",
   "execution_count": 14,
   "metadata": {},
   "outputs": [
    {
     "data": {
      "text/plain": [
       "(128,)"
      ]
     },
     "execution_count": 14,
     "metadata": {},
     "output_type": "execute_result"
    }
   ],
   "source": [
    "gasdens_r = gasdens10.slice(phi=0,z=0)\n",
    "gasdens_r.shape"
   ]
  },
  {
   "cell_type": "markdown",
   "metadata": {},
   "source": [
    "And plot:"
   ]
  },
  {
   "cell_type": "code",
   "execution_count": 15,
   "metadata": {},
   "outputs": [
    {
     "data": {
      "image/png": "[encoded data removed]",
      "text/plain": [
       "<Figure size 640x480 with 1 Axes>"
      ]
     },
     "metadata": {},
     "output_type": "display_data"
    }
   ],
   "source": [
    "fig,ax = plt.subplots()\n",
    "ax.semilogy(sim.domains.r,gasdens_r)\n",
    "ax.set_xlabel(r\"$r$ [cu]\")\n",
    "ax.set_ylabel(r\"$\\rho$ [cu]\")\n",
    "fp.Util.fargopy_mark(ax);"
   ]
  },
  {
   "cell_type": "markdown",
   "metadata": {},
   "source": [
    "We can do this in a single step with `fargopy`:"
   ]
  },
  {
   "cell_type": "code",
   "execution_count": 16,
   "metadata": {},
   "outputs": [],
   "source": [
    "gasdens, mesh = gasdens10.meshslice(slice='z=0,phi=0')"
   ]
  },
  {
   "cell_type": "markdown",
   "metadata": {},
   "source": [
    "The object `mesh` now contains matrices of the coordinates:"
   ]
  },
  {
   "cell_type": "code",
   "execution_count": 17,
   "metadata": {},
   "outputs": [
    {
     "data": {
      "text/plain": [
       "['r', 'phi', 'x', 'y', 'z']"
      ]
     },
     "execution_count": 17,
     "metadata": {},
     "output_type": "execute_result"
    }
   ],
   "source": [
    "mesh.keys()"
   ]
  },
  {
   "cell_type": "markdown",
   "metadata": {},
   "source": [
    "If you are plotting `r` vs. `gasdens` the plot will be:"
   ]
  },
  {
   "cell_type": "code",
   "execution_count": 18,
   "metadata": {},
   "outputs": [
    {
     "data": {
      "text/plain": [
       "Text(1, 1, 'FARGOpy 0.2.1')"
      ]
     },
     "execution_count": 18,
     "metadata": {},
     "output_type": "execute_result"
    },
    {
     "data": {
      "image/png": "[encoded data removed]",
      "text/plain": [
       "<Figure size 640x480 with 1 Axes>"
      ]
     },
     "metadata": {},
     "output_type": "display_data"
    }
   ],
   "source": [
    "fig,ax = plt.subplots()\n",
    "ax.semilogy(mesh.r,gasdens)\n",
    "ax.set_xlabel(r\"$r$ [cu]\")\n",
    "ax.set_ylabel(r\"$\\rho$ [cu]\")\n",
    "fp.Util.fargopy_mark(ax)"
   ]
  },
  {
   "cell_type": "markdown",
   "metadata": {},
   "source": [
    "This simple procedure reduce considerably the creation of more complex plots, for instance, a map of the density in different planes:"
   ]
  },
  {
   "cell_type": "code",
   "execution_count": 19,
   "metadata": {},
   "outputs": [],
   "source": [
    "gasdens, mesh = gasdens10.meshslice(slice='z=0')"
   ]
  },
  {
   "cell_type": "markdown",
   "metadata": {},
   "source": [
    "And plot it:"
   ]
  },
  {
   "cell_type": "code",
   "execution_count": 20,
   "metadata": {},
   "outputs": [
    {
     "data": {
      "text/plain": [
       "(-2.5002509788199982, 2.499916334793502, -2.499916334793502, 2.499916334793502)"
      ]
     },
     "execution_count": 20,
     "metadata": {},
     "output_type": "execute_result"
    },
    {
     "data": {
      "image/png": "[encoded data removed]",
      "text/plain": [
       "<Figure size 1200x600 with 2 Axes>"
      ]
     },
     "metadata": {},
     "output_type": "display_data"
    }
   ],
   "source": [
    "fig,axs = plt.subplots(1,2,figsize=(12,6))\n",
    "\n",
    "ax = axs[0]\n",
    "ax.pcolormesh(mesh.phi*RAD,mesh.r*sim.UL/fp.AU,gasdens,cmap='prism')\n",
    "ax.set_xlabel('$\\phi$ [deg]')\n",
    "ax.set_ylabel('$r$ [au]')\n",
    "fp.Util.fargopy_mark(ax)\n",
    "\n",
    "ax = axs[1]\n",
    "ax.pcolormesh(mesh.x*sim.UL/fp.AU,mesh.y*sim.UL/fp.AU,\n",
    "              gasdens,cmap='prism')\n",
    "ax.set_xlabel('$x$ [au]')\n",
    "ax.set_ylabel('$y$ [au]')\n",
    "fp.Util.fargopy_mark(ax)\n",
    "ax.axis('equal')"
   ]
  },
  {
   "cell_type": "markdown",
   "metadata": {},
   "source": [
    "Let's create an animation for illustrating how easy `FARGOpy` make life:"
   ]
  },
  {
   "cell_type": "code",
   "execution_count": 21,
   "metadata": {},
   "outputs": [
    {
     "name": "stdout",
     "output_type": "stream",
     "text": [
      "Your simulation is now connected with '/home/jzuluaga/fargo3d/'\n",
      "Now you are connected with output directory '/tmp/fargo'\n",
      "Loading variables\n",
      "84 variables loaded\n",
      "Simulation in 2 dimensions\n",
      "Loading domain in cylindrical coordinates:\n",
      "\tVariable phi: 384 [[0, -3.1334114227210694], [-1, 3.1334114227210694]]\n",
      "\tVariable r: 128 [[0, 0.408203125], [-1, 2.491796875]]\n",
      "\tVariable z: 1 [[0, 0.0], [-1, 0.0]]\n",
      "Number of snapshots in output directory: 51\n",
      "Configuration variables and domains load into the object. See e.g. <sim>.vars\n"
     ]
    },
    {
     "name": "stderr",
     "output_type": "stream",
     "text": [
      "  0%|          | 0/51 [00:00<?, ?it/s]"
     ]
    },
    {
     "name": "stderr",
     "output_type": "stream",
     "text": [
      "100%|██████████| 51/51 [00:00<00:00, 60.30it/s]\n",
      "MovieWriter ffmpeg unavailable; using Pillow instead.\n"
     ]
    },
    {
     "data": {
      "image/png": "[encoded data removed]",
      "text/plain": [
       "<Figure size 1200x600 with 2 Axes>"
      ]
     },
     "metadata": {},
     "output_type": "display_data"
    }
   ],
   "source": [
    "from celluloid import Camera\n",
    "from tqdm import tqdm\n",
    "\n",
    "sim = fp.Simulation()\n",
    "sim.set_output_dir('/tmp/fargo')\n",
    "sim.load_properties()\n",
    "\n",
    "gasdens_all = sim.load_allfields('gasdens')\n",
    "fig,axs = plt.subplots(1,2,figsize=(12,6))\n",
    "\n",
    "cmap = 'prism'\n",
    "camera = Camera(fig)\n",
    "for snapshot in tqdm(gasdens_all.snapshots):\n",
    "    gasdens_snap = gasdens_all.item(str(snapshot)).gasdens\n",
    "    gasdens,mesh = gasdens_snap.meshslice(slice='z=0')\n",
    "\n",
    "    ax = axs[0]\n",
    "    ax.pcolormesh(mesh.phi*RAD,mesh.r*sim.UL/fp.AU,gasdens,cmap=cmap)\n",
    "    ax.set_xlabel('$\\phi$ [deg]')\n",
    "    ax.set_ylabel('$r$ [au]')\n",
    "\n",
    "    ax = axs[1]\n",
    "    ax.pcolormesh(mesh.x*sim.UL/fp.AU,mesh.y*sim.UL/fp.AU,gasdens,cmap=cmap)\n",
    "    ax.set_xlabel('$x$ [au]')\n",
    "    ax.set_ylabel('$y$ [au]')\n",
    "    fp.Util.fargopy_mark(ax)\n",
    "\n",
    "    camera.snap()\n",
    "\n",
    "animation = camera.animate()\n",
    "animation.save('gallery/fargo-animation.gif')"
   ]
  },
  {
   "cell_type": "markdown",
   "metadata": {},
   "source": [
    "### Control"
   ]
  },
  {
   "cell_type": "markdown",
   "metadata": {},
   "source": [
    "Before starting you need a local copy of `FARGO3D`. For getting a copy use:"
   ]
  },
  {
   "cell_type": "code",
   "execution_count": 22,
   "metadata": {},
   "outputs": [
    {
     "name": "stdout",
     "output_type": "stream",
     "text": [
      "Downloading FARGOpy...\n",
      "\tFARGO3D directory already present in '/home/jzuluaga/fargo3d/'\n",
      "Header file for FARGO3D is in the fargo directory /home/jzuluaga/fargo3d/\n"
     ]
    }
   ],
   "source": [
    "fp.initialize('download')"
   ]
  },
  {
   "cell_type": "markdown",
   "metadata": {},
   "source": [
    "Create the simulation object:"
   ]
  },
  {
   "cell_type": "code",
   "execution_count": 23,
   "metadata": {},
   "outputs": [
    {
     "name": "stdout",
     "output_type": "stream",
     "text": [
      "Your simulation is now connected with '/home/jzuluaga/fargo3d/'\n"
     ]
    }
   ],
   "source": [
    "sim = fp.Simulation()"
   ]
  },
  {
   "cell_type": "markdown",
   "metadata": {},
   "source": [
    "> **NOTE**: If you already have a copy of `FARGO3D` you may configure the location using the method of the simulation object `sim.set_fargo3d_dir(<your_fargo3d_location>)`"
   ]
  },
  {
   "cell_type": "code",
   "execution_count": 24,
   "metadata": {},
   "outputs": [
    {
     "name": "stdout",
     "output_type": "stream",
     "text": [
      "Your simulation is now connected with '/home/jzuluaga/fargo3d'\n"
     ]
    }
   ],
   "source": [
    "sim.set_fargo3d_dir('/home/jzuluaga/fargo3d')"
   ]
  },
  {
   "cell_type": "markdown",
   "metadata": {},
   "source": [
    "Once you have connected your simulation you must choose your setup:"
   ]
  },
  {
   "cell_type": "code",
   "execution_count": 25,
   "metadata": {},
   "outputs": [
    {
     "name": "stdout",
     "output_type": "stream",
     "text": [
      "Now your simulation setup is at '/home/jzuluaga/fargo3d/setups/fargo'\n"
     ]
    },
    {
     "data": {
      "text/plain": [
       "'fargo'"
      ]
     },
     "execution_count": 25,
     "metadata": {},
     "output_type": "execute_result"
    }
   ],
   "source": [
    "sim.set_setup('fargo')"
   ]
  },
  {
   "cell_type": "markdown",
   "metadata": {},
   "source": [
    "Now you can check the properties of the simulation:"
   ]
  },
  {
   "cell_type": "code",
   "execution_count": 27,
   "metadata": {},
   "outputs": [
    {
     "name": "stdout",
     "output_type": "stream",
     "text": [
      "Simulation information:\n",
      "    FARGO3D directory: /home/jzuluaga/fargo3d\n",
      "        Outputs: /home/jzuluaga/fargo3d/outputs\n",
      "        Setups: /home/jzuluaga/fargo3d/setups\n",
      "    Units:\n",
      "        G = 1 UL^3/(UM UT^2)\n",
      "        UL, UM, UT = 14959800000000.0 m, 1.9891e+33 kg, 5022421.439871778 s\n",
      "        UE = 5271139.687948494 J/m^3\n",
      "        UV = 2978603.086001067 m/s\n",
      "        URHO = 5.941269533317109e-07 kg/m^3\n",
      "        USIGMA = 8888020.39645173 kg/m^2\n",
      "    Setup: fargo\n",
      "    Setup directory: /home/jzuluaga/fargo3d/setups/fargo\n",
      "    Output directory: None\n",
      "\n"
     ]
    }
   ],
   "source": [
    "print(sim)"
   ]
  },
  {
   "cell_type": "markdown",
   "metadata": {},
   "source": [
    "You may abbreviate the previous commands using from the beginning:"
   ]
  },
  {
   "cell_type": "code",
   "execution_count": 28,
   "metadata": {},
   "outputs": [
    {
     "name": "stdout",
     "output_type": "stream",
     "text": [
      "Your simulation is now connected with '/home/jzuluaga/fargo3d'\n",
      "Now your simulation setup is at '/home/jzuluaga/fargo3d/setups/fargo'\n"
     ]
    },
    {
     "data": {
      "text/plain": [
       "Simulation information:\n",
       "    FARGO3D directory: /home/jzuluaga/fargo3d\n",
       "        Outputs: /home/jzuluaga/fargo3d/outputs\n",
       "        Setups: /home/jzuluaga/fargo3d/setups\n",
       "    Units:\n",
       "        G = 1 UL^3/(UM UT^2)\n",
       "        UL, UM, UT = 14959800000000.0 m, 1.9891e+33 kg, 5022421.439871778 s\n",
       "        UE = 5271139.687948494 J/m^3\n",
       "        UV = 2978603.086001067 m/s\n",
       "        URHO = 5.941269533317109e-07 kg/m^3\n",
       "        USIGMA = 8888020.39645173 kg/m^2\n",
       "    Setup: fargo\n",
       "    Setup directory: /home/jzuluaga/fargo3d/setups/fargo\n",
       "    Output directory: None"
      ]
     },
     "execution_count": 28,
     "metadata": {},
     "output_type": "execute_result"
    }
   ],
   "source": [
    "sim = fp.Simulation(fargo3d_dir='/home/jzuluaga/fargo3d',setup='fargo')\n",
    "sim"
   ]
  },
  {
   "cell_type": "markdown",
   "metadata": {},
   "source": [
    "Now you can compile `FARGO3D` using a given setup:"
   ]
  },
  {
   "cell_type": "code",
   "execution_count": 32,
   "metadata": {},
   "outputs": [
    {
     "name": "stdout",
     "output_type": "stream",
     "text": [
      "Now your simulation setup is at '/home/jzuluaga/fargo3d/setups/fargo'\n",
      "Cleaning FARGO3D directory /home/jzuluaga/fargo3d...\n",
      "Compiling fargo3d_SETUP-fargo_PARALLEL-0_GPU-0...\n",
      "Succesful compilation of FARGO3D binary fargo3d_SETUP-fargo_PARALLEL-0_GPU-0\n"
     ]
    },
    {
     "data": {
      "text/plain": [
       "True"
      ]
     },
     "execution_count": 32,
     "metadata": {},
     "output_type": "execute_result"
    }
   ],
   "source": [
    "sim.compile(setup='fargo',parallel=0,gpu=0,force=True)"
   ]
  },
  {
   "cell_type": "markdown",
   "metadata": {},
   "source": [
    "If successful, you may run the simulation:"
   ]
  },
  {
   "cell_type": "code",
   "execution_count": 33,
   "metadata": {},
   "outputs": [
    {
     "name": "stdout",
     "output_type": "stream",
     "text": [
      "Cleaning output directory /home/jzuluaga/fargo3d/outputs/fargo\n",
      "Running asynchronously (test = False):  ./fargo3d_SETUP-fargo_PARALLEL-0_GPU-0 -m -t setups/fargo/fargo.par\n",
      "Now you are connected with output directory '/home/jzuluaga/fargo3d/outputs/fargo'\n"
     ]
    }
   ],
   "source": [
    "sim.run(cleanrun=True)"
   ]
  },
  {
   "cell_type": "markdown",
   "metadata": {},
   "source": [
    "Once running, check the status:"
   ]
  },
  {
   "cell_type": "code",
   "execution_count": 34,
   "metadata": {},
   "outputs": [
    {
     "name": "stdout",
     "output_type": "stream",
     "text": [
      "\n",
      "################################################################################\n",
      "Running status of the process:\n",
      "\tThe process is running.\n"
     ]
    }
   ],
   "source": [
    "sim.status()"
   ]
  },
  {
   "cell_type": "markdown",
   "metadata": {},
   "source": [
    "There are several ways to check the status. This way will allow you to check the status in real time:"
   ]
  },
  {
   "cell_type": "code",
   "execution_count": 35,
   "metadata": {},
   "outputs": [
    {
     "name": "stdout",
     "output_type": "stream",
     "text": [
      "OUTPUTS 3 at date t = 18.849556 OK [output pace = 0.1 secs]\n",
      "OUTPUTS 4 at date t = 25.132741 OK [output pace = 0.1 secs]\n",
      "OUTPUTS 5 at date t = 31.415927 OK [output pace = 0.9 secs]\n",
      "OUTPUTS 6 at date t = 37.699112 OK [output pace = 1.9 secs]\n",
      "OUTPUTS 7 at date t = 43.982297 OK [output pace = 1.9 secs]\n",
      "OUTPUTS 8 at date t = 50.265482 OK [output pace = 1.9 secs]\n",
      "OUTPUTS 9 at date t = 56.548668 OK [output pace = 1.9 secs]\n",
      "OUTPUTS 10 at date t = 62.831853 OK [output pace = 1.9 secs]\n",
      "OUTPUTS 11 at date t = 69.115038 OK [output pace = 1.9 secs]\n",
      "OUTPUTS 12 at date t = 75.398224 OK [output pace = 1.9 secs]\n",
      "OUTPUTS 13 at date t = 81.681409 OK [output pace = 1.0 secs]\n",
      "OUTPUTS 14 at date t = 87.964594 OK [output pace = 2.0 secs]\n",
      "OUTPUTS 15 at date t = 94.247780 OK [output pace = 2.0 secs]\n",
      "OUTPUTS 16 at date t = 100.530965 OK [output pace = 2.0 secs]\n",
      "OUTPUTS 17 at date t = 106.814150 OK [output pace = 2.0 secs]\n",
      "OUTPUTS 18 at date t = 113.097336 OK [output pace = 2.0 secs]\n",
      "OUTPUTS 19 at date t = 119.380521 OK [output pace = 1.0 secs]\n",
      "OUTPUTS 20 at date t = 125.663706 OK [output pace = 1.5 secs]\n"
     ]
    }
   ],
   "source": [
    "sim.status('progress')"
   ]
  },
  {
   "cell_type": "markdown",
   "metadata": {},
   "source": [
    "You may stop the simulation:"
   ]
  },
  {
   "cell_type": "code",
   "execution_count": 36,
   "metadata": {},
   "outputs": [
    {
     "name": "stdout",
     "output_type": "stream",
     "text": [
      "Stopping FARGO3D process (pid = 9809)\n"
     ]
    }
   ],
   "source": [
    "sim.stop()"
   ]
  },
  {
   "cell_type": "markdown",
   "metadata": {},
   "source": [
    "Once stopped you may resume it:"
   ]
  },
  {
   "cell_type": "code",
   "execution_count": 40,
   "metadata": {},
   "outputs": [
    {
     "name": "stdout",
     "output_type": "stream",
     "text": [
      "The process has ended with termination code 0.\n"
     ]
    }
   ],
   "source": [
    "sim.resume()"
   ]
  },
  {
   "cell_type": "code",
   "execution_count": 39,
   "metadata": {},
   "outputs": [
    {
     "name": "stdout",
     "output_type": "stream",
     "text": [
      "The simulation is not running anymore\n"
     ]
    }
   ],
   "source": [
    "sim.status('progress')"
   ]
  },
  {
   "cell_type": "markdown",
   "metadata": {},
   "source": [
    "This will resume the simulation from the *latest resumable snapshot*. You may also resume from a different snapshot using: "
   ]
  }
 ],
 "metadata": {
  "kernelspec": {
   "display_name": "base",
   "language": "python",
   "name": "python3"
  },
  "language_info": {
   "codemirror_mode": {
    "name": "ipython",
    "version": 3
   },
   "file_extension": ".py",
   "mimetype": "text/x-python",
   "name": "python",
   "nbconvert_exporter": "python",
   "pygments_lexer": "ipython3",
   "version": "3.10.12"
  }
 },
 "nbformat": 4,
 "nbformat_minor": 2
}
