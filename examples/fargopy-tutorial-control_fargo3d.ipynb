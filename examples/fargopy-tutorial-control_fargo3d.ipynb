{
 "cells": [
  {
   "cell_type": "markdown",
   "metadata": {},
   "source": [
    "# FARGOpy\n",
    "## Wrapping FRAGO3D"
   ]
  },
  {
   "cell_type": "markdown",
   "metadata": {},
   "source": [
    "## Tutorial: configuration variables\n",
    "\n",
    "<a target=\"_blank\" href=\"https://colab.research.google.com/github/seap-udea/fargopy/blob/main/examples/fargopy-tutorial-control_fargo3d.ipynb\">\n",
    "  <img src=\"https://colab.research.google.com/assets/colab-badge.svg\" alt=\"Open In Colab\"/>\n",
    "</a>"
   ]
  },
  {
   "cell_type": "markdown",
   "metadata": {},
   "source": [
    "### What's in this notebook"
   ]
  },
  {
   "cell_type": "markdown",
   "metadata": {},
   "source": [
    "In this notebook we illustrate in depth **how to control `FARGO3D` (setup, compile and run)** in `FARGOpy`."
   ]
  },
  {
   "cell_type": "markdown",
   "metadata": {},
   "source": [
    "### Before starting"
   ]
  },
  {
   "cell_type": "markdown",
   "metadata": {},
   "source": [
    "If you are in `Google Colab`, install the latest version of the package:"
   ]
  },
  {
   "cell_type": "code",
   "execution_count": 1,
   "metadata": {},
   "outputs": [],
   "source": [
    "# @title Install fargopy\n",
    "import sys\n",
    "if 'google.colab' in sys.modules:\n",
    "    !sudo pip install -Uq fargopy"
   ]
  },
  {
   "cell_type": "markdown",
   "metadata": {},
   "source": [
    "For this tutorial you will need the following external modules and tools:"
   ]
  },
  {
   "cell_type": "code",
   "execution_count": 2,
   "metadata": {},
   "outputs": [
    {
     "name": "stdout",
     "output_type": "stream",
     "text": [
      "Running FARGOpy version 0.3.6\n"
     ]
    }
   ],
   "source": [
    "import fargopy as fp\n",
    "import numpy as np \n",
    "import matplotlib.pyplot as plt\n",
    "import pandas as pd\n",
    "\n",
    "%load_ext autoreload\n",
    "%autoreload 2"
   ]
  },
  {
   "cell_type": "markdown",
   "metadata": {},
   "source": [
    "### Let's `FARGOpy`"
   ]
  },
  {
   "cell_type": "markdown",
   "metadata": {},
   "source": [
    "We call control the possibility to setup and run `FARGO3D` from an `IPython/Jupyter` session."
   ]
  },
  {
   "cell_type": "markdown",
   "metadata": {},
   "source": [
    "First we need to create an empty `Simulation` object:"
   ]
  },
  {
   "cell_type": "code",
   "execution_count": 3,
   "metadata": {},
   "outputs": [
    {
     "name": "stdout",
     "output_type": "stream",
     "text": [
      "Your simulation is now connected with '/home/jzuluaga/fargo3d/'\n"
     ]
    }
   ],
   "source": [
    "sim = fp.Simulation()"
   ]
  },
  {
   "cell_type": "markdown",
   "metadata": {},
   "source": [
    "You can verify that the simulation is clean by printing the object:"
   ]
  },
  {
   "cell_type": "code",
   "execution_count": 4,
   "metadata": {},
   "outputs": [
    {
     "name": "stdout",
     "output_type": "stream",
     "text": [
      "Simulation information:\n",
      "    FARGO3D directory: /home/jzuluaga/fargo3d/\n",
      "        Outputs: /home/jzuluaga/fargo3d/outputs\n",
      "        Setups: /home/jzuluaga/fargo3d/setups\n",
      "    Units:\n",
      "        G = 1 UL^3/(UM UT^2)\n",
      "        UL, UM, UT = 14959800000000.0 m, 1.9891e+33 kg, 5022421.439871778 s\n",
      "        UE = 5271139.687948494 J/m^3\n",
      "        UV = 2978603.086001067 m/s\n",
      "        URHO = 5.941269533317109e-07 kg/m^3\n",
      "        USIGMA = 8888020.39645173 kg/m^2\n",
      "    Setup: None\n",
      "    Setup directory: None\n",
      "    Output directory: None\n",
      "\n"
     ]
    }
   ],
   "source": [
    "print(sim)"
   ]
  },
  {
   "cell_type": "markdown",
   "metadata": {},
   "source": [
    "Next thing to do is to select the `setup` you want to control. You can obtain a list of setups using:"
   ]
  },
  {
   "cell_type": "code",
   "execution_count": null,
   "metadata": {},
   "outputs": [],
   "source": [
    "fp.Simulation.list_setups()"
   ]
  }
 ],
 "metadata": {
  "kernelspec": {
   "display_name": "Python 3",
   "language": "python",
   "name": "python3"
  },
  "language_info": {
   "codemirror_mode": {
    "name": "ipython",
    "version": 3
   },
   "file_extension": ".py",
   "mimetype": "text/x-python",
   "name": "python",
   "nbconvert_exporter": "python",
   "pygments_lexer": "ipython3",
   "version": "3.10.12"
  }
 },
 "nbformat": 4,
 "nbformat_minor": 2
}
