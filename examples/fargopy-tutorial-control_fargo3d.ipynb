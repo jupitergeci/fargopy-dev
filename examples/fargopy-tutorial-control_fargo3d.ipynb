{
 "cells": [
  {
   "cell_type": "markdown",
   "metadata": {},
   "source": [
    "# FARGOpy\n",
    "## Wrapping FRAGO3D"
   ]
  },
  {
   "cell_type": "markdown",
   "metadata": {},
   "source": [
    "## Tutorial: configuration variables\n",
    "\n",
    "<a target=\"_blank\" href=\"https://colab.research.google.com/github/seap-udea/fargopy/blob/main/examples/fargopy-tutorial-control_fargo3d.ipynb\">\n",
    "  <img src=\"https://colab.research.google.com/assets/colab-badge.svg\" alt=\"Open In Colab\"/>\n",
    "</a>"
   ]
  },
  {
   "cell_type": "markdown",
   "metadata": {},
   "source": [
    "### What's in this notebook"
   ]
  },
  {
   "cell_type": "markdown",
   "metadata": {},
   "source": [
    "In this notebook we illustrate in depth **how to control `FARGO3D` (setup, compile and run)** in `FARGOpy`."
   ]
  },
  {
   "cell_type": "markdown",
   "metadata": {},
   "source": [
    "### Before starting"
   ]
  },
  {
   "cell_type": "markdown",
   "metadata": {},
   "source": [
    "If you are in `Google Colab`, install the latest version of the package:"
   ]
  },
  {
   "cell_type": "code",
   "execution_count": 1,
   "metadata": {},
   "outputs": [],
   "source": [
    "# @title Install fargopy\n",
    "import sys\n",
    "if 'google.colab' in sys.modules:\n",
    "    !sudo pip install -Uq fargopy"
   ]
  },
  {
   "cell_type": "markdown",
   "metadata": {},
   "source": [
    "For this tutorial you will need the following external modules and tools:"
   ]
  },
  {
   "cell_type": "code",
   "execution_count": 2,
   "metadata": {},
   "outputs": [
    {
     "name": "stdout",
     "output_type": "stream",
     "text": [
      "Running FARGOpy version 0.3.7\n"
     ]
    }
   ],
   "source": [
    "import fargopy as fp\n",
    "import numpy as np \n",
    "import matplotlib.pyplot as plt\n",
    "import pandas as pd\n",
    "\n",
    "%load_ext autoreload\n",
    "%autoreload 2"
   ]
  },
  {
   "cell_type": "markdown",
   "metadata": {},
   "source": [
    "### Let's `FARGOpy`"
   ]
  },
  {
   "cell_type": "markdown",
   "metadata": {},
   "source": [
    "We call *control* the possibility to setup and run `FARGO3D` from an `IPython/Jupyter` session."
   ]
  },
  {
   "cell_type": "markdown",
   "metadata": {},
   "source": [
    "First we need to create an empty `Simulation` object:"
   ]
  },
  {
   "cell_type": "code",
   "execution_count": 30,
   "metadata": {},
   "outputs": [
    {
     "name": "stdout",
     "output_type": "stream",
     "text": [
      "Your simulation is now connected with '/home/jzuluaga/fargo3d/'\n"
     ]
    }
   ],
   "source": [
    "sim = fp.Simulation()"
   ]
  },
  {
   "cell_type": "markdown",
   "metadata": {},
   "source": [
    "You can verify that the simulation is clean by printing the object:"
   ]
  },
  {
   "cell_type": "code",
   "execution_count": 20,
   "metadata": {},
   "outputs": [
    {
     "name": "stdout",
     "output_type": "stream",
     "text": [
      "Simulation information:\n",
      "    FARGO3D directory: /home/jzuluaga/fargo3d/\n",
      "        Outputs: /home/jzuluaga/fargo3d/outputs\n",
      "        Setups: /home/jzuluaga/fargo3d/setups\n",
      "    Units:\n",
      "        G = 1 UL^3/(UM UT^2)\n",
      "        UL, UM, UT = 14959800000000.0 m, 1.9891e+33 kg, 5022421.439871778 s\n",
      "        UE = 5271139.687948494 J/m^3\n",
      "        UV = 2978603.086001067 m/s\n",
      "        URHO = 5.941269533317109e-07 kg/m^3\n",
      "        USIGMA = 8888020.39645173 kg/m^2\n",
      "    Setup: None\n",
      "    Setup directory: None\n",
      "    Output directory: None\n",
      "\n"
     ]
    }
   ],
   "source": [
    "print(sim)"
   ]
  },
  {
   "cell_type": "markdown",
   "metadata": {},
   "source": [
    "Next thing to do is to select the `setup` you want to control. You can obtain a list of setups using:"
   ]
  },
  {
   "cell_type": "code",
   "execution_count": 21,
   "metadata": {},
   "outputs": [
    {
     "name": "stdout",
     "output_type": "stream",
     "text": [
      "Setup 'binary' in '/home/jzuluaga/fargo3d/setups/binary'\n",
      "Setup 'fargo' in '/home/jzuluaga/fargo3d/setups/fargo'\n",
      "Setup 'fargo_multifluid' in '/home/jzuluaga/fargo3d/setups/fargo_multifluid'\n",
      "Setup 'fargo_nu' in '/home/jzuluaga/fargo3d/setups/fargo_nu'\n",
      "Setup 'mri' in '/home/jzuluaga/fargo3d/setups/mri'\n",
      "Setup 'otvortex' in '/home/jzuluaga/fargo3d/setups/otvortex'\n",
      "Setup 'p3diso' in '/home/jzuluaga/fargo3d/setups/p3diso'\n",
      "Setup 'p3disof' in '/home/jzuluaga/fargo3d/setups/p3disof'\n",
      "Setup 'sod1d' in '/home/jzuluaga/fargo3d/setups/sod1d'\n",
      "\n"
     ]
    }
   ],
   "source": [
    "fp.Simulation.list_setups()"
   ]
  },
  {
   "cell_type": "markdown",
   "metadata": {},
   "source": [
    "Choose a setup:"
   ]
  },
  {
   "cell_type": "code",
   "execution_count": 22,
   "metadata": {},
   "outputs": [
    {
     "name": "stdout",
     "output_type": "stream",
     "text": [
      "Now your simulation setup is at '/home/jzuluaga/fargo3d/setups/fargo'\n"
     ]
    },
    {
     "data": {
      "text/plain": [
       "'fargo'"
      ]
     },
     "execution_count": 22,
     "metadata": {},
     "output_type": "execute_result"
    }
   ],
   "source": [
    "sim.set_setup('fargo')"
   ]
  },
  {
   "cell_type": "markdown",
   "metadata": {},
   "source": [
    "Compile the `FARGO3D` binary to run the simulation:"
   ]
  },
  {
   "cell_type": "code",
   "execution_count": 23,
   "metadata": {},
   "outputs": [
    {
     "name": "stdout",
     "output_type": "stream",
     "text": [
      "Compiling fargo3d-SETUP_fargo-PARALLEL_0-GPU_0...\n",
      "Succesful compilation of FARGO3D binary fargo3d-SETUP_fargo-PARALLEL_0-GPU_0\n"
     ]
    }
   ],
   "source": [
    "sim.compile(parallel=0,gpu=0)"
   ]
  },
  {
   "cell_type": "markdown",
   "metadata": {},
   "source": [
    "Run the simulation:"
   ]
  },
  {
   "cell_type": "code",
   "execution_count": 24,
   "metadata": {},
   "outputs": [
    {
     "name": "stdout",
     "output_type": "stream",
     "text": [
      "Cleaning output directory /home/jzuluaga/fargo3d/outputs/fargo\n",
      "Running asynchronously (test = False):  ./fargo3d-SETUP_fargo-PARALLEL_0-GPU_0 -m -t setups/fargo/fargo.par\n",
      "Now you are connected with output directory '/home/jzuluaga/fargo3d/outputs/fargo'\n",
      "Found a variables.par file in '/home/jzuluaga/fargo3d/outputs/fargo', loading properties\n",
      "Loading variables\n",
      "84 variables loaded\n",
      "Simulation in 2 dimensions\n",
      "Loading domain in cylindrical coordinates:\n",
      "\tVariable phi: 384 [[0, -3.1334114227210694], [-1, 3.1334114227210694]]\n",
      "\tVariable r: 128 [[0, 0.408203125], [-1, 2.491796875]]\n",
      "\tVariable z: 1 [[0, 0.0], [-1, 0.0]]\n",
      "Number of snapshots in output directory: 1\n",
      "Configuration variables and domains load into the object. See e.g. <sim>.vars\n"
     ]
    }
   ],
   "source": [
    "sim.run(cleanrun=True,unlock=True)"
   ]
  },
  {
   "cell_type": "markdown",
   "metadata": {},
   "source": [
    "Or check the progress of the simulation:"
   ]
  },
  {
   "cell_type": "code",
   "execution_count": 25,
   "metadata": {},
   "outputs": [
    {
     "name": "stdout",
     "output_type": "stream",
     "text": [
      "\n",
      "################################################################################\n",
      "\n",
      "Progress of the simulation (interrupt by pressing 'enter' or the stop button):\n",
      "1:OUTPUTS 0 at date t = 0.000000 OK [output pace = 0.1 secs] <Press 'enter' to interrupt>\n",
      "2:OUTPUTS 1 at date t = 6.283185 OK [output pace = 0.1 secs] <Press 'enter' to interrupt>\n",
      "3:OUTPUTS 2 at date t = 12.566371 OK [output pace = 0.2 secs] <Press 'enter' to interrupt>\n",
      "4:OUTPUTS 3 at date t = 18.849556 OK [output pace = 1.9 secs] <Press 'enter' to interrupt>\n",
      "5:OUTPUTS 4 at date t = 25.132741 OK [output pace = 1.9 secs] <Press 'enter' to interrupt>\n",
      "6:OUTPUTS 5 at date t = 31.415927 OK [output pace = 1.9 secs] <Press 'enter' to interrupt>\n",
      "Interrupting\n",
      "\n",
      "Other status modes: 'isrunning', 'logfile', 'outputs', 'progress', 'summary'\n"
     ]
    }
   ],
   "source": [
    "sim.status('progress')"
   ]
  },
  {
   "cell_type": "markdown",
   "metadata": {},
   "source": [
    "You may stop the simulation at any time using:"
   ]
  },
  {
   "cell_type": "code",
   "execution_count": 26,
   "metadata": {},
   "outputs": [
    {
     "name": "stdout",
     "output_type": "stream",
     "text": [
      "Stopping FARGO3D process (pid = 1370)\n"
     ]
    }
   ],
   "source": [
    "sim.stop()"
   ]
  },
  {
   "cell_type": "markdown",
   "metadata": {},
   "source": [
    "Check the status of the simulation using:"
   ]
  },
  {
   "cell_type": "code",
   "execution_count": 27,
   "metadata": {},
   "outputs": [
    {
     "name": "stdout",
     "output_type": "stream",
     "text": [
      "\n",
      "################################################################################\n",
      "Running status of the process:\n",
      "\tThe process is stopped.\n",
      "\n",
      "################################################################################\n",
      "Summary:\n",
      "The simulation has been ran for 8 time-steps (including the initial one).\n",
      "\n",
      "################################################################################\n",
      "\n",
      "Progress of the simulation (interrupt by pressing 'enter' or the stop button):\n",
      "The simulation is not running anymore\n",
      "\n",
      "Other status modes: 'isrunning', 'logfile', 'outputs', 'progress', 'summary'\n"
     ]
    }
   ],
   "source": [
    "sim.status('isrunning summary progress')"
   ]
  },
  {
   "cell_type": "markdown",
   "metadata": {},
   "source": [
    "Once stopped you may resume the simulation at any snapshot or at the latest resumable snapshot:"
   ]
  },
  {
   "cell_type": "code",
   "execution_count": 28,
   "metadata": {},
   "outputs": [
    {
     "name": "stdout",
     "output_type": "stream",
     "text": [
      "Resuming from snapshot 6...\n",
      "Running asynchronously (test = False):  ./fargo3d-SETUP_fargo-PARALLEL_0-GPU_0 -m -t -S 6 -t setups/fargo/fargo.par\n",
      "Now you are connected with output directory '/home/jzuluaga/fargo3d/outputs/fargo'\n",
      "Found a variables.par file in '/home/jzuluaga/fargo3d/outputs/fargo', loading properties\n",
      "Loading variables\n",
      "84 variables loaded\n",
      "Simulation in 2 dimensions\n",
      "Loading domain in cylindrical coordinates:\n",
      "\tVariable phi: 384 [[0, -3.1334114227210694], [-1, 3.1334114227210694]]\n",
      "\tVariable r: 128 [[0, 0.408203125], [-1, 2.491796875]]\n",
      "\tVariable z: 1 [[0, 0.0], [-1, 0.0]]\n",
      "Number of snapshots in output directory: 8\n",
      "Configuration variables and domains load into the object. See e.g. <sim>.vars\n"
     ]
    }
   ],
   "source": [
    "sim.resume()"
   ]
  },
  {
   "cell_type": "markdown",
   "metadata": {},
   "source": [
    "Once the simulation has been completed you will notice by ran:"
   ]
  },
  {
   "cell_type": "code",
   "execution_count": 18,
   "metadata": {},
   "outputs": [
    {
     "name": "stdout",
     "output_type": "stream",
     "text": [
      "Stopping FARGO3D process (pid = 31850)\n"
     ]
    }
   ],
   "source": [
    "sim.stop()"
   ]
  },
  {
   "cell_type": "code",
   "execution_count": 36,
   "metadata": {},
   "outputs": [
    {
     "name": "stdout",
     "output_type": "stream",
     "text": [
      "Your simulation is now connected with '/home/jzuluaga/tmp/fargo3d'\n"
     ]
    }
   ],
   "source": [
    "sim = fp.Simulation(fargo3d_dir='/home/jzuluaga/tmp/fargo3d')"
   ]
  },
  {
   "cell_type": "code",
   "execution_count": 33,
   "metadata": {},
   "outputs": [
    {
     "name": "stdout",
     "output_type": "stream",
     "text": [
      "Setup 'binary' in '/home/jzuluaga/fargo3d/setups/binary'\n",
      "Setup 'fargo' in '/home/jzuluaga/fargo3d/setups/fargo'\n",
      "Setup 'fargo_multifluid' in '/home/jzuluaga/fargo3d/setups/fargo_multifluid'\n",
      "Setup 'fargo_nu' in '/home/jzuluaga/fargo3d/setups/fargo_nu'\n",
      "Setup 'mri' in '/home/jzuluaga/fargo3d/setups/mri'\n",
      "Setup 'otvortex' in '/home/jzuluaga/fargo3d/setups/otvortex'\n",
      "Setup 'p3diso' in '/home/jzuluaga/fargo3d/setups/p3diso'\n",
      "Setup 'p3disof' in '/home/jzuluaga/fargo3d/setups/p3disof'\n",
      "Setup 'sod1d' in '/home/jzuluaga/fargo3d/setups/sod1d'\n",
      "\n"
     ]
    }
   ],
   "source": [
    "sim.list_setups()"
   ]
  },
  {
   "cell_type": "code",
   "execution_count": 44,
   "metadata": {},
   "outputs": [
    {
     "name": "stdout",
     "output_type": "stream",
     "text": [
      "Loading simulation from '/home/jzuluaga/fargo3d/setups/fargo/fargopy_simulation.json'\n",
      "Your simulation is now connected with '/home/jzuluaga/fargo3d/'\n",
      "Now your simulation setup is at '/home/jzuluaga/fargo3d/setups/fargo'\n",
      "Now you are connected with output directory '/home/jzuluaga/fargo3d/outputs/fargo'\n",
      "Found a variables.par file in '/home/jzuluaga/fargo3d/outputs/fargo', loading properties\n",
      "Loading variables\n",
      "84 variables loaded\n",
      "Simulation in 2 dimensions\n",
      "Loading domain in cylindrical coordinates:\n",
      "\tVariable phi: 384 [[0, -3.1334114227210694], [-1, 3.1334114227210694]]\n",
      "\tVariable r: 128 [[0, 0.408203125], [-1, 2.491796875]]\n",
      "\tVariable z: 1 [[0, 0.0], [-1, 0.0]]\n",
      "Number of snapshots in output directory: 51\n",
      "Configuration variables and domains load into the object. See e.g. <sim>.vars\n"
     ]
    }
   ],
   "source": [
    "sim = fp.Simulation(setup='fargo',load=True)"
   ]
  },
  {
   "cell_type": "code",
   "execution_count": 47,
   "metadata": {},
   "outputs": [
    {
     "name": "stdout",
     "output_type": "stream",
     "text": [
      "\n",
      "################################################################################\n",
      "Running status of the process:\n",
      "\tThe process is stopped.\n",
      "\n",
      "################################################################################\n",
      "Logfile content:\n",
      "The latest 10 lines of the logfile:\n",
      "\n",
      ".............\n",
      ".............\n",
      ".............\n",
      "Total Real Time elapsed    : 144.670 s\n",
      "Total CPU Time of process  : 143.930 s (99.5 %)\n",
      "CPU Time since last time step : 3.210 s\n",
      "Mean CPU Time between time steps : 3.271 s\n",
      "CPU Load on last time step : 100.0 % \n",
      "OUTPUTS 50 at date t = 314.159265 OK\n",
      "End of the simulation!\n",
      "\n",
      "################################################################################\n",
      "Output content:\n",
      "\n",
      "268 available datafiles:\n",
      "\n",
      "bigplanet0.dat, dims.dat, domain_x.dat, domain_y.dat, domain_z.dat, gasdens0.dat, gasdens0_2d.dat, gasdens1.dat, gasdens10.dat, gasdens11.dat, \n",
      "gasdens12.dat, gasdens13.dat, gasdens14.dat, gasdens15.dat, gasdens16.dat, gasdens17.dat, gasdens18.dat, gasdens19.dat, gasdens2.dat, gasdens20.dat, \n",
      "gasdens21.dat, gasdens22.dat, gasdens23.dat, gasdens24.dat, gasdens25.dat, gasdens26.dat, gasdens27.dat, gasdens28.dat, gasdens29.dat, gasdens3.dat, \n",
      "gasdens30.dat, gasdens31.dat, gasdens32.dat, gasdens33.dat, gasdens34.dat, gasdens35.dat, gasdens36.dat, gasdens37.dat, gasdens38.dat, gasdens39.dat, \n",
      "gasdens4.dat, gasdens40.dat, gasdens41.dat, gasdens42.dat, gasdens43.dat, gasdens44.dat, gasdens45.dat, gasdens46.dat, gasdens47.dat, gasdens48.dat, \n",
      "gasdens49.dat, gasdens5.dat, gasdens50.dat, gasdens6.dat, gasdens7.dat, gasdens8.dat, gasdens9.dat, gasenergy0.dat, gasenergy1.dat, gasenergy10.dat, \n",
      "gasenergy11.dat, gasenergy12.dat, gasenergy13.dat, gasenergy14.dat, gasenergy15.dat, gasenergy16.dat, gasenergy17.dat, gasenergy18.dat, gasenergy19.dat, gasenergy2.dat, \n",
      "gasenergy20.dat, gasenergy21.dat, gasenergy22.dat, gasenergy23.dat, gasenergy24.dat, gasenergy25.dat, gasenergy26.dat, gasenergy27.dat, gasenergy28.dat, gasenergy29.dat, \n",
      "gasenergy3.dat, gasenergy30.dat, gasenergy31.dat, gasenergy32.dat, gasenergy33.dat, gasenergy34.dat, gasenergy35.dat, gasenergy36.dat, gasenergy37.dat, gasenergy38.dat, \n",
      "gasenergy39.dat, gasenergy4.dat, gasenergy40.dat, gasenergy41.dat, gasenergy42.dat, gasenergy43.dat, gasenergy44.dat, gasenergy45.dat, gasenergy46.dat, gasenergy47.dat, \n",
      "gasenergy48.dat, gasenergy49.dat, gasenergy5.dat, gasenergy50.dat, gasenergy6.dat, gasenergy7.dat, gasenergy8.dat, gasenergy9.dat, gasvx0.dat, gasvx0_2d.dat, \n",
      "gasvx1.dat, gasvx10.dat, gasvx11.dat, gasvx12.dat, gasvx13.dat, gasvx14.dat, gasvx15.dat, gasvx16.dat, gasvx17.dat, gasvx18.dat, \n",
      "gasvx19.dat, gasvx2.dat, gasvx20.dat, gasvx21.dat, gasvx22.dat, gasvx23.dat, gasvx24.dat, gasvx25.dat, gasvx26.dat, gasvx27.dat, \n",
      "gasvx28.dat, gasvx29.dat, gasvx3.dat, gasvx30.dat, gasvx31.dat, gasvx32.dat, gasvx33.dat, gasvx34.dat, gasvx35.dat, gasvx36.dat, \n",
      "gasvx37.dat, gasvx38.dat, gasvx39.dat, gasvx4.dat, gasvx40.dat, gasvx41.dat, gasvx42.dat, gasvx43.dat, gasvx44.dat, gasvx45.dat, \n",
      "gasvx46.dat, gasvx47.dat, gasvx48.dat, gasvx49.dat, gasvx5.dat, gasvx50.dat, gasvx6.dat, gasvx7.dat, gasvx8.dat, gasvx9.dat, \n",
      "gasvy0.dat, gasvy0_2d.dat, gasvy1.dat, gasvy10.dat, gasvy11.dat, gasvy12.dat, gasvy13.dat, gasvy14.dat, gasvy15.dat, gasvy16.dat, \n",
      "gasvy17.dat, gasvy18.dat, gasvy19.dat, gasvy2.dat, gasvy20.dat, gasvy21.dat, gasvy22.dat, gasvy23.dat, gasvy24.dat, gasvy25.dat, \n",
      "gasvy26.dat, gasvy27.dat, gasvy28.dat, gasvy29.dat, gasvy3.dat, gasvy30.dat, gasvy31.dat, gasvy32.dat, gasvy33.dat, gasvy34.dat, \n",
      "gasvy35.dat, gasvy36.dat, gasvy37.dat, gasvy38.dat, gasvy39.dat, gasvy4.dat, gasvy40.dat, gasvy41.dat, gasvy42.dat, gasvy43.dat, \n",
      "gasvy44.dat, gasvy45.dat, gasvy46.dat, gasvy47.dat, gasvy48.dat, gasvy49.dat, gasvy5.dat, gasvy50.dat, gasvy6.dat, gasvy7.dat, \n",
      "gasvy8.dat, gasvy9.dat, orbit0.dat, outputgas.dat, planet0.dat, summary0.dat, summary1.dat, summary10.dat, summary11.dat, summary12.dat, \n",
      "summary13.dat, summary14.dat, summary15.dat, summary16.dat, summary17.dat, summary18.dat, summary19.dat, summary2.dat, summary20.dat, summary21.dat, \n",
      "summary22.dat, summary23.dat, summary24.dat, summary25.dat, summary26.dat, summary27.dat, summary28.dat, summary29.dat, summary3.dat, summary30.dat, \n",
      "summary31.dat, summary32.dat, summary33.dat, summary34.dat, summary35.dat, summary36.dat, summary37.dat, summary38.dat, summary39.dat, summary4.dat, \n",
      "summary40.dat, summary41.dat, summary42.dat, summary43.dat, summary44.dat, summary45.dat, summary46.dat, summary47.dat, summary48.dat, summary49.dat, \n",
      "summary5.dat, summary50.dat, summary6.dat, summary7.dat, summary8.dat, summary9.dat, tqwk0.dat, used_rad.dat, \n",
      "\n",
      "################################################################################\n",
      "Summary:\n",
      "The simulation has been ran for 51 time-steps (including the initial one).\n",
      "\n",
      "Other status modes: 'isrunning', 'logfile', 'outputs', 'progress', 'summary'\n"
     ]
    }
   ],
   "source": [
    "sim.status('all')"
   ]
  },
  {
   "cell_type": "code",
   "execution_count": 48,
   "metadata": {},
   "outputs": [
    {
     "data": {
      "text/plain": [
       "'fargo3d-SETUP_fargo-PARALLEL_0-GPU_0'"
      ]
     },
     "execution_count": 48,
     "metadata": {},
     "output_type": "execute_result"
    }
   ],
   "source": [
    "sim.fargo3d_binary"
   ]
  },
  {
   "cell_type": "code",
   "execution_count": 49,
   "metadata": {},
   "outputs": [
    {
     "name": "stdout",
     "output_type": "stream",
     "text": [
      "Running asynchronously (test = False):  ./fargo3d-SETUP_fargo-PARALLEL_0-GPU_0 -m -t setups/fargo/fargo.par\n",
      "Now you are connected with output directory '/home/jzuluaga/fargo3d/outputs/fargo'\n",
      "Found a variables.par file in '/home/jzuluaga/fargo3d/outputs/fargo', loading properties\n",
      "Loading variables\n",
      "84 variables loaded\n",
      "Simulation in 2 dimensions\n",
      "Loading domain in cylindrical coordinates:\n",
      "\tVariable phi: 384 [[0, -3.1334114227210694], [-1, 3.1334114227210694]]\n",
      "\tVariable r: 128 [[0, 0.408203125], [-1, 2.491796875]]\n",
      "\tVariable z: 1 [[0, 0.0], [-1, 0.0]]\n",
      "Number of snapshots in output directory: 51\n",
      "Configuration variables and domains load into the object. See e.g. <sim>.vars\n"
     ]
    }
   ],
   "source": [
    "sim.run()"
   ]
  },
  {
   "cell_type": "code",
   "execution_count": 50,
   "metadata": {},
   "outputs": [
    {
     "name": "stdout",
     "output_type": "stream",
     "text": [
      "\n",
      "################################################################################\n",
      "Running status of the process:\n",
      "\tThe process is running.\n",
      "\n",
      "Other status modes: 'isrunning', 'logfile', 'outputs', 'progress', 'summary'\n"
     ]
    }
   ],
   "source": [
    "sim.status()"
   ]
  },
  {
   "cell_type": "code",
   "execution_count": 51,
   "metadata": {},
   "outputs": [
    {
     "name": "stdout",
     "output_type": "stream",
     "text": [
      "\n",
      "################################################################################\n",
      "\n",
      "Progress of the simulation (interrupt by pressing 'enter' or the stop button):\n",
      "1:OUTPUTS 6 at date t = 37.699112 OK [output pace = 0.1 secs] <Press 'enter' to interrupt>\n",
      "2:OUTPUTS 7 at date t = 43.982297 OK [output pace = 0.1 secs] <Press 'enter' to interrupt>\n",
      "3:OUTPUTS 8 at date t = 50.265482 OK [output pace = 1.8 secs] <Press 'enter' to interrupt>\n",
      "Interrupting\n",
      "\n",
      "Other status modes: 'isrunning', 'logfile', 'outputs', 'progress', 'summary'\n"
     ]
    }
   ],
   "source": [
    "sim.status('progress')"
   ]
  },
  {
   "cell_type": "code",
   "execution_count": 52,
   "metadata": {},
   "outputs": [
    {
     "name": "stdout",
     "output_type": "stream",
     "text": [
      "Stopping FARGO3D process (pid = 11144)\n"
     ]
    }
   ],
   "source": [
    "sim.stop()"
   ]
  },
  {
   "cell_type": "code",
   "execution_count": 55,
   "metadata": {},
   "outputs": [
    {
     "name": "stdout",
     "output_type": "stream",
     "text": [
      "Resuming from snapshot 20...\n",
      "Running asynchronously (test = False):  ./fargo3d-SETUP_fargo-PARALLEL_0-GPU_0 -m -t -S 20 -t setups/fargo/fargo.par\n",
      "Process running failed. Please check the logfile /home/jzuluaga/fargo3d/setups/fargo/fargo.log\n"
     ]
    }
   ],
   "source": [
    "sim.resume(snapshot=20)"
   ]
  },
  {
   "cell_type": "code",
   "execution_count": 56,
   "metadata": {},
   "outputs": [
    {
     "name": "stdout",
     "output_type": "stream",
     "text": [
      "\n",
      "################################################################################\n",
      "Logfile content:\n",
      "The latest 10 lines of the logfile:\n",
      "\n",
      "Field2D vz0 has been created\n",
      "Restarting simulation...\n",
      "Reading ./outputs/fargo/gasdens20.dat\n",
      "./outputs/fargo/gasdens20.dat OK\n",
      "Reading ./outputs/fargo/gasvx20.dat\n",
      "./outputs/fargo/gasvx20.dat OK\n",
      "Reading ./outputs/fargo/gasvy20.dat\n",
      "./outputs/fargo/gasvy20.dat OK\n",
      "Reading ./outputs/fargo/gasenergy20.dat\n",
      "./outputs/fargo/gasenergy20.dat OK\n",
      "\n",
      "Other status modes: 'isrunning', 'logfile', 'outputs', 'progress', 'summary'\n"
     ]
    }
   ],
   "source": [
    "sim.status('logfile')"
   ]
  },
  {
   "cell_type": "code",
   "execution_count": 57,
   "metadata": {},
   "outputs": [
    {
     "name": "stdout",
     "output_type": "stream",
     "text": [
      "Your simulation is now connected with '/home/jzuluaga/fargo3d/'\n",
      "Now your simulation setup is at '/home/jzuluaga/fargo3d/setups/fargo'\n"
     ]
    }
   ],
   "source": [
    "sim=fp.Simulation(setup='fargo')"
   ]
  },
  {
   "cell_type": "code",
   "execution_count": 58,
   "metadata": {},
   "outputs": [
    {
     "name": "stdout",
     "output_type": "stream",
     "text": [
      "Compiling fargo3d-SETUP_fargo-PARALLEL_0-GPU_0...\n",
      "Succesful compilation of FARGO3D binary fargo3d-SETUP_fargo-PARALLEL_0-GPU_0\n"
     ]
    }
   ],
   "source": [
    "sim.compile()"
   ]
  },
  {
   "cell_type": "code",
   "execution_count": 60,
   "metadata": {},
   "outputs": [
    {
     "name": "stdout",
     "output_type": "stream",
     "text": [
      "Cleaning output directory /home/jzuluaga/fargo3d/outputs/fargo\n",
      "Running asynchronously (test = False):  ./fargo3d-SETUP_fargo-PARALLEL_0-GPU_0 -m -t setups/fargo/fargo.par\n",
      "Now you are connected with output directory '/home/jzuluaga/fargo3d/outputs/fargo'\n",
      "Found a variables.par file in '/home/jzuluaga/fargo3d/outputs/fargo', loading properties\n",
      "Loading variables\n",
      "84 variables loaded\n",
      "Simulation in 2 dimensions\n",
      "Loading domain in cylindrical coordinates:\n",
      "\tVariable phi: 384 [[0, -3.1334114227210694], [-1, 3.1334114227210694]]\n",
      "\tVariable r: 128 [[0, 0.408203125], [-1, 2.491796875]]\n",
      "\tVariable z: 1 [[0, 0.0], [-1, 0.0]]\n",
      "Number of snapshots in output directory: 1\n",
      "Configuration variables and domains load into the object. See e.g. <sim>.vars\n"
     ]
    }
   ],
   "source": [
    "sim.run(cleanrun=True)"
   ]
  },
  {
   "cell_type": "code",
   "execution_count": 63,
   "metadata": {},
   "outputs": [
    {
     "name": "stdout",
     "output_type": "stream",
     "text": [
      "\n",
      "################################################################################\n",
      "\n",
      "Progress of the simulation (interrupt by pressing 'enter' or the stop button):\n",
      "The simulation is not running anymore\n",
      "\n",
      "Other status modes: 'isrunning', 'logfile', 'outputs', 'progress', 'summary'\n"
     ]
    }
   ],
   "source": [
    "sim.status('progress')"
   ]
  },
  {
   "cell_type": "code",
   "execution_count": 89,
   "metadata": {},
   "outputs": [
    {
     "name": "stdout",
     "output_type": "stream",
     "text": [
      "Your simulation is now connected with '/home/jzuluaga/fargo3d/'\n",
      "Now your simulation setup is at '/home/jzuluaga/fargo3d/setups/fargo'\n",
      "FARGO3D binary 'fargo3d-SETUP_fargo-PARALLEL_0-GPU_0' found.\n"
     ]
    }
   ],
   "source": [
    "sim = fp.Simulation(setup='fargo')"
   ]
  },
  {
   "cell_type": "code",
   "execution_count": 91,
   "metadata": {},
   "outputs": [
    {
     "name": "stdout",
     "output_type": "stream",
     "text": [
      "\n",
      "################################################################################\n",
      "Running status of the process:\n",
      "\tThe process is stopped.\n",
      "\n",
      "Other status modes: 'isrunning', 'logfile', 'outputs', 'progress', 'summary'\n"
     ]
    }
   ],
   "source": [
    "sim.status()"
   ]
  },
  {
   "cell_type": "code",
   "execution_count": 93,
   "metadata": {},
   "outputs": [],
   "source": [
    "sim.logfile"
   ]
  },
  {
   "cell_type": "code",
   "execution_count": 92,
   "metadata": {},
   "outputs": [
    {
     "name": "stdout",
     "output_type": "stream",
     "text": [
      "\n",
      "################################################################################\n",
      "Logfile content:\n"
     ]
    },
    {
     "ename": "TypeError",
     "evalue": "stat: path should be string, bytes, os.PathLike or integer, not NoneType",
     "output_type": "error",
     "traceback": [
      "\u001b[0;31m---------------------------------------------------------------------------\u001b[0m",
      "\u001b[0;31mTypeError\u001b[0m                                 Traceback (most recent call last)",
      "Cell \u001b[0;32mIn[92], line 1\u001b[0m\n\u001b[0;32m----> 1\u001b[0m \u001b[43msim\u001b[49m\u001b[38;5;241;43m.\u001b[39;49m\u001b[43mstatus\u001b[49m\u001b[43m(\u001b[49m\u001b[38;5;124;43m'\u001b[39;49m\u001b[38;5;124;43mlogfile\u001b[39;49m\u001b[38;5;124;43m'\u001b[39;49m\u001b[43m)\u001b[49m\n",
      "File \u001b[0;32m~/fargopy/fargopy/simulation.py:484\u001b[0m, in \u001b[0;36mSimulation.status\u001b[0;34m(self, mode, verbose, **kwargs)\u001b[0m\n\u001b[1;32m    482\u001b[0m \u001b[38;5;28;01mif\u001b[39;00m \u001b[38;5;124m'\u001b[39m\u001b[38;5;124mlogfile\u001b[39m\u001b[38;5;124m'\u001b[39m \u001b[38;5;129;01min\u001b[39;00m mode \u001b[38;5;129;01mor\u001b[39;00m mode\u001b[38;5;241m==\u001b[39m\u001b[38;5;124m'\u001b[39m\u001b[38;5;124mall\u001b[39m\u001b[38;5;124m'\u001b[39m:\n\u001b[1;32m    483\u001b[0m     vprint(bar\u001b[38;5;241m+\u001b[39m\u001b[38;5;124m\"\u001b[39m\u001b[38;5;124mLogfile content:\u001b[39m\u001b[38;5;124m\"\u001b[39m)\n\u001b[0;32m--> 484\u001b[0m     \u001b[38;5;28;01mif\u001b[39;00m \u001b[38;5;124m'\u001b[39m\u001b[38;5;124mlogfile\u001b[39m\u001b[38;5;124m'\u001b[39m \u001b[38;5;129;01min\u001b[39;00m \u001b[38;5;28mself\u001b[39m\u001b[38;5;241m.\u001b[39m\u001b[38;5;18m__dict__\u001b[39m\u001b[38;5;241m.\u001b[39mkeys() \u001b[38;5;129;01mand\u001b[39;00m \u001b[43mos\u001b[49m\u001b[38;5;241;43m.\u001b[39;49m\u001b[43mpath\u001b[49m\u001b[38;5;241;43m.\u001b[39;49m\u001b[43misfile\u001b[49m\u001b[43m(\u001b[49m\u001b[38;5;28;43mself\u001b[39;49m\u001b[38;5;241;43m.\u001b[39;49m\u001b[43mlogfile\u001b[49m\u001b[43m)\u001b[49m:\n\u001b[1;32m    485\u001b[0m         vprint(\u001b[38;5;124m\"\u001b[39m\u001b[38;5;124mThe latest 10 lines of the logfile:\u001b[39m\u001b[38;5;130;01m\\n\u001b[39;00m\u001b[38;5;124m\"\u001b[39m)\n\u001b[1;32m    486\u001b[0m         \u001b[38;5;28;01mif\u001b[39;00m verbose:\n",
      "File \u001b[0;32m/usr/lib/python3.10/genericpath.py:30\u001b[0m, in \u001b[0;36misfile\u001b[0;34m(path)\u001b[0m\n\u001b[1;32m     28\u001b[0m \u001b[38;5;250m\u001b[39m\u001b[38;5;124;03m\"\"\"Test whether a path is a regular file\"\"\"\u001b[39;00m\n\u001b[1;32m     29\u001b[0m \u001b[38;5;28;01mtry\u001b[39;00m:\n\u001b[0;32m---> 30\u001b[0m     st \u001b[38;5;241m=\u001b[39m \u001b[43mos\u001b[49m\u001b[38;5;241;43m.\u001b[39;49m\u001b[43mstat\u001b[49m\u001b[43m(\u001b[49m\u001b[43mpath\u001b[49m\u001b[43m)\u001b[49m\n\u001b[1;32m     31\u001b[0m \u001b[38;5;28;01mexcept\u001b[39;00m (\u001b[38;5;167;01mOSError\u001b[39;00m, \u001b[38;5;167;01mValueError\u001b[39;00m):\n\u001b[1;32m     32\u001b[0m     \u001b[38;5;28;01mreturn\u001b[39;00m \u001b[38;5;28;01mFalse\u001b[39;00m\n",
      "\u001b[0;31mTypeError\u001b[0m: stat: path should be string, bytes, os.PathLike or integer, not NoneType"
     ]
    }
   ],
   "source": [
    "sim.status('logfile')"
   ]
  },
  {
   "cell_type": "code",
   "execution_count": 82,
   "metadata": {},
   "outputs": [
    {
     "name": "stdout",
     "output_type": "stream",
     "text": [
      "Compiling fargo3d-SETUP_fargo-PARALLEL_0-GPU_0...\n",
      "Succesful compilation of FARGO3D binary fargo3d-SETUP_fargo-PARALLEL_0-GPU_0\n"
     ]
    }
   ],
   "source": [
    "sim.compile()"
   ]
  },
  {
   "cell_type": "code",
   "execution_count": 83,
   "metadata": {},
   "outputs": [
    {
     "name": "stdout",
     "output_type": "stream",
     "text": [
      "Running asynchronously (test = False):  ./fargo3d-SETUP_fargo-PARALLEL_0-GPU_0 -m -t setups/fargo/fargo.par\n",
      "Now you are connected with output directory '/home/jzuluaga/fargo3d/outputs/fargo'\n",
      "Found a variables.par file in '/home/jzuluaga/fargo3d/outputs/fargo', loading properties\n",
      "Loading variables\n",
      "84 variables loaded\n",
      "Simulation in 2 dimensions\n",
      "Loading domain in cylindrical coordinates:\n",
      "\tVariable phi: 384 [[0, -3.1334114227210694], [-1, 3.1334114227210694]]\n",
      "\tVariable r: 128 [[0, 0.408203125], [-1, 2.491796875]]\n",
      "\tVariable z: 1 [[0, 0.0], [-1, 0.0]]\n",
      "Number of snapshots in output directory: 51\n",
      "Configuration variables and domains load into the object. See e.g. <sim>.vars\n"
     ]
    }
   ],
   "source": [
    "sim.run()"
   ]
  },
  {
   "cell_type": "code",
   "execution_count": 68,
   "metadata": {},
   "outputs": [
    {
     "name": "stdout",
     "output_type": "stream",
     "text": [
      "Stopping FARGO3D process (pid = 15484)\n"
     ]
    }
   ],
   "source": [
    "sim.stop()"
   ]
  },
  {
   "cell_type": "code",
   "execution_count": 90,
   "metadata": {},
   "outputs": [
    {
     "name": "stdout",
     "output_type": "stream",
     "text": [
      "\n",
      "################################################################################\n",
      "Running status of the process:\n",
      "\tThe process is stopped.\n",
      "\n",
      "Other status modes: 'isrunning', 'logfile', 'outputs', 'progress', 'summary'\n"
     ]
    }
   ],
   "source": [
    "sim.status()"
   ]
  },
  {
   "cell_type": "code",
   "execution_count": 85,
   "metadata": {},
   "outputs": [
    {
     "name": "stdout",
     "output_type": "stream",
     "text": [
      "Stopping FARGO3D process (pid = 20961)\n"
     ]
    }
   ],
   "source": [
    "sim.stop()"
   ]
  },
  {
   "cell_type": "code",
   "execution_count": null,
   "metadata": {},
   "outputs": [],
   "source": []
  }
 ],
 "metadata": {
  "kernelspec": {
   "display_name": "Python 3",
   "language": "python",
   "name": "python3"
  },
  "language_info": {
   "codemirror_mode": {
    "name": "ipython",
    "version": 3
   },
   "file_extension": ".py",
   "mimetype": "text/x-python",
   "name": "python",
   "nbconvert_exporter": "python",
   "pygments_lexer": "ipython3",
   "version": "3.10.12"
  }
 },
 "nbformat": 4,
 "nbformat_minor": 2
}
