{
 "cells": [
  {
   "cell_type": "markdown",
   "metadata": {},
   "source": [
    "# FARGOpy\n",
    "## Wrapping FRAGO3D"
   ]
  },
  {
   "cell_type": "markdown",
   "metadata": {},
   "source": [
    "## Tutorial: configuration variables\n",
    "\n",
    "<a target=\"_blank\" href=\"https://colab.research.google.com/github/seap-udea/fargopy/blob/main/examples/fargopy-tutorial-control_fargo3d.ipynb\">\n",
    "  <img src=\"https://colab.research.google.com/assets/colab-badge.svg\" alt=\"Open In Colab\"/>\n",
    "</a>"
   ]
  },
  {
   "cell_type": "markdown",
   "metadata": {},
   "source": [
    "### What's in this notebook"
   ]
  },
  {
   "cell_type": "markdown",
   "metadata": {},
   "source": [
    "In this notebook we illustrate in depth **how to control `FARGO3D` (setup, compile and run)** in `FARGOpy`."
   ]
  },
  {
   "cell_type": "markdown",
   "metadata": {},
   "source": [
    "### Before starting"
   ]
  },
  {
   "cell_type": "markdown",
   "metadata": {},
   "source": [
    "If you are in `Google Colab`, install the latest version of the package:"
   ]
  },
  {
   "cell_type": "code",
   "execution_count": 1,
   "metadata": {},
   "outputs": [],
   "source": [
    "# @title Install fargopy\n",
    "import sys\n",
    "if 'google.colab' in sys.modules:\n",
    "    !sudo pip install -Uq fargopy"
   ]
  },
  {
   "cell_type": "markdown",
   "metadata": {},
   "source": [
    "For this tutorial you will need the following external modules and tools:"
   ]
  },
  {
   "cell_type": "code",
   "execution_count": 2,
   "metadata": {},
   "outputs": [
    {
     "name": "stdout",
     "output_type": "stream",
     "text": [
      "Running FARGOpy version 0.3.7\n"
     ]
    }
   ],
   "source": [
    "import fargopy as fp\n",
    "import numpy as np \n",
    "import matplotlib.pyplot as plt\n",
    "import pandas as pd\n",
    "\n",
    "%load_ext autoreload\n",
    "%autoreload 2"
   ]
  },
  {
   "cell_type": "markdown",
   "metadata": {},
   "source": [
    "### Let's `FARGOpy`"
   ]
  },
  {
   "cell_type": "markdown",
   "metadata": {},
   "source": [
    "We call control the possibility to setup and run `FARGO3D` from an `IPython/Jupyter` session."
   ]
  },
  {
   "cell_type": "markdown",
   "metadata": {},
   "source": [
    "First we need to create an empty `Simulation` object:"
   ]
  },
  {
   "cell_type": "code",
   "execution_count": 3,
   "metadata": {},
   "outputs": [
    {
     "name": "stdout",
     "output_type": "stream",
     "text": [
      "Your simulation is now connected with '/home/jzuluaga/fargo3d/'\n"
     ]
    }
   ],
   "source": [
    "sim = fp.Simulation()"
   ]
  },
  {
   "cell_type": "markdown",
   "metadata": {},
   "source": [
    "You can verify that the simulation is clean by printing the object:"
   ]
  },
  {
   "cell_type": "code",
   "execution_count": 4,
   "metadata": {},
   "outputs": [
    {
     "name": "stdout",
     "output_type": "stream",
     "text": [
      "Simulation information:\n",
      "    FARGO3D directory: /home/jzuluaga/fargo3d/\n",
      "        Outputs: /home/jzuluaga/fargo3d/outputs\n",
      "        Setups: /home/jzuluaga/fargo3d/setups\n",
      "    Units:\n",
      "        G = 1 UL^3/(UM UT^2)\n",
      "        UL, UM, UT = 14959800000000.0 m, 1.9891e+33 kg, 5022421.439871778 s\n",
      "        UE = 5271139.687948494 J/m^3\n",
      "        UV = 2978603.086001067 m/s\n",
      "        URHO = 5.941269533317109e-07 kg/m^3\n",
      "        USIGMA = 8888020.39645173 kg/m^2\n",
      "    Setup: None\n",
      "    Setup directory: None\n",
      "    Output directory: None\n",
      "\n"
     ]
    }
   ],
   "source": [
    "print(sim)"
   ]
  },
  {
   "cell_type": "markdown",
   "metadata": {},
   "source": [
    "Next thing to do is to select the `setup` you want to control. You can obtain a list of setups using:"
   ]
  },
  {
   "cell_type": "code",
   "execution_count": 5,
   "metadata": {},
   "outputs": [
    {
     "name": "stdout",
     "output_type": "stream",
     "text": [
      "Setup 'binary' in '/home/jzuluaga/fargo3d/setups/binary'\n",
      "Setup 'fargo' in '/home/jzuluaga/fargo3d/setups/fargo'\n",
      "Setup 'fargo_multifluid' in '/home/jzuluaga/fargo3d/setups/fargo_multifluid'\n",
      "Setup 'fargo_nu' in '/home/jzuluaga/fargo3d/setups/fargo_nu'\n",
      "Setup 'mri' in '/home/jzuluaga/fargo3d/setups/mri'\n",
      "Setup 'otvortex' in '/home/jzuluaga/fargo3d/setups/otvortex'\n",
      "Setup 'p3diso' in '/home/jzuluaga/fargo3d/setups/p3diso'\n",
      "Setup 'p3disof' in '/home/jzuluaga/fargo3d/setups/p3disof'\n",
      "Setup 'sod1d' in '/home/jzuluaga/fargo3d/setups/sod1d'\n",
      "\n"
     ]
    }
   ],
   "source": [
    "fp.Simulation.list_setups()"
   ]
  },
  {
   "cell_type": "markdown",
   "metadata": {},
   "source": [
    "Choose a setup:"
   ]
  },
  {
   "cell_type": "code",
   "execution_count": 11,
   "metadata": {},
   "outputs": [
    {
     "name": "stdout",
     "output_type": "stream",
     "text": [
      "Now your simulation setup is at '/home/jzuluaga/fargo3d/setups/fargo'\n"
     ]
    },
    {
     "data": {
      "text/plain": [
       "'fargo'"
      ]
     },
     "execution_count": 11,
     "metadata": {},
     "output_type": "execute_result"
    }
   ],
   "source": [
    "sim.set_setup('fargo')"
   ]
  },
  {
   "cell_type": "markdown",
   "metadata": {},
   "source": [
    "Compile the `FARGO3D` binary to run the simulation:"
   ]
  },
  {
   "cell_type": "code",
   "execution_count": 24,
   "metadata": {},
   "outputs": [
    {
     "name": "stdout",
     "output_type": "stream",
     "text": [
      "Compiling fargo3d-SETUP_fargo-PARALLEL_0-GPU_0...\n",
      "Succesful compilation of FARGO3D binary fargo3d-SETUP_fargo-PARALLEL_0-GPU_0\n"
     ]
    }
   ],
   "source": [
    "sim.compile(parallel=0,gpu=0)"
   ]
  },
  {
   "cell_type": "markdown",
   "metadata": {},
   "source": [
    "Run the simulation:"
   ]
  },
  {
   "cell_type": "code",
   "execution_count": 37,
   "metadata": {},
   "outputs": [
    {
     "name": "stdout",
     "output_type": "stream",
     "text": [
      "Cleaning output directory /home/jzuluaga/fargo3d/outputs/fargo\n",
      "Running asynchronously (test = False):  ./fargo3d-SETUP_fargo-PARALLEL_0-GPU_0 -m -t setups/fargo/fargo.par\n",
      "Now you are connected with output directory '/home/jzuluaga/fargo3d/outputs/fargo'\n",
      "Found a variables.par file in '/home/jzuluaga/fargo3d/outputs/fargo', loading properties\n",
      "Loading variables\n",
      "84 variables loaded\n",
      "Simulation in 2 dimensions\n",
      "Loading domain in cylindrical coordinates:\n",
      "\tVariable phi: 384 [[0, -3.1334114227210694], [-1, 3.1334114227210694]]\n",
      "\tVariable r: 128 [[0, 0.408203125], [-1, 2.491796875]]\n",
      "\tVariable z: 1 [[0, 0.0], [-1, 0.0]]\n",
      "Number of snapshots in output directory: 1\n",
      "Configuration variables and domains load into the object. See e.g. <sim>.vars\n"
     ]
    }
   ],
   "source": [
    "sim.run(cleanrun=True,unlock=True)"
   ]
  },
  {
   "cell_type": "markdown",
   "metadata": {},
   "source": [
    "You may check the status:"
   ]
  },
  {
   "cell_type": "code",
   "execution_count": 40,
   "metadata": {},
   "outputs": [
    {
     "name": "stdout",
     "output_type": "stream",
     "text": [
      "\n",
      "################################################################################\n",
      "Logfile content:\n",
      "The latest 10 lines of the logfile:\n",
      "\n",
      "\n",
      "Other status modes: 'isrunning', 'logfile', 'outputs', 'progress', 'summary'\n",
      ".............\n",
      ".............\n",
      ".............\n",
      "Total Real Time elapsed    : 164.200 s\n",
      "Total CPU Time of process  : 163.900 s (99.8 %)\n",
      "CPU Time since last time step : 3.190 s\n",
      "Mean CPU Time between time steps : 3.278 s\n",
      "CPU Load on last time step : 100.0 % \n",
      "OUTPUTS 50 at date t = 314.159265 OK\n",
      "End of the simulation!\n"
     ]
    }
   ],
   "source": [
    "sim.status('logfile')"
   ]
  },
  {
   "cell_type": "markdown",
   "metadata": {},
   "source": [
    "Or check the progress of the simulation:"
   ]
  },
  {
   "cell_type": "code",
   "execution_count": 20,
   "metadata": {},
   "outputs": [
    {
     "name": "stdout",
     "output_type": "stream",
     "text": [
      "Progress of the simulation (numstatus = 5, interrupting may stop the process):\n",
      "The simulation is not running anymore\n"
     ]
    }
   ],
   "source": [
    "sim.status('progress')"
   ]
  },
  {
   "cell_type": "markdown",
   "metadata": {},
   "source": [
    "You may stop the simulation at any time using:"
   ]
  },
  {
   "cell_type": "code",
   "execution_count": 35,
   "metadata": {},
   "outputs": [
    {
     "name": "stdout",
     "output_type": "stream",
     "text": [
      "Stopping FARGO3D process (pid = 5561)\n"
     ]
    }
   ],
   "source": [
    "sim.stop()"
   ]
  },
  {
   "cell_type": "markdown",
   "metadata": {},
   "source": [
    "Check the status of the simulation using:"
   ]
  },
  {
   "cell_type": "code",
   "execution_count": 17,
   "metadata": {},
   "outputs": [
    {
     "name": "stdout",
     "output_type": "stream",
     "text": [
      "The simulation has been ran for 10 time-steps (including the initial one).\n"
     ]
    }
   ],
   "source": [
    "sim.status('summary')"
   ]
  },
  {
   "cell_type": "markdown",
   "metadata": {},
   "source": [
    "Once stopped you may resume the simulation at any snapshot or at the latest resumable snapshot:"
   ]
  },
  {
   "cell_type": "code",
   "execution_count": 22,
   "metadata": {},
   "outputs": [
    {
     "name": "stdout",
     "output_type": "stream",
     "text": [
      "Resuming from snapshot 49...\n",
      "Running asynchronously (test = False):  ./fargo3d_SETUP-fargo_PARALLEL-0_GPU-0 -m -t -S 8 -t -S 49 -t setups/fargo/fargo.par\n",
      "Now you are connected with output directory '/home/jzuluaga/fargo3d/outputs/fargo'\n",
      "Found a variables.par file in '/home/jzuluaga/fargo3d/outputs/fargo', loading properties\n",
      "Loading variables\n",
      "84 variables loaded\n",
      "Simulation in 2 dimensions\n",
      "Loading domain in cylindrical coordinates:\n",
      "\tVariable phi: 384 [[0, -3.1334114227210694], [-1, 3.1334114227210694]]\n",
      "\tVariable r: 128 [[0, 0.408203125], [-1, 2.491796875]]\n",
      "\tVariable z: 1 [[0, 0.0], [-1, 0.0]]\n",
      "Number of snapshots in output directory: 51\n",
      "Configuration variables and domains load into the object. See e.g. <sim>.vars\n"
     ]
    }
   ],
   "source": [
    "sim.resume()"
   ]
  },
  {
   "cell_type": "markdown",
   "metadata": {},
   "source": [
    "Once the simulation has been completed you will notice by ran:"
   ]
  },
  {
   "cell_type": "code",
   "execution_count": 23,
   "metadata": {},
   "outputs": [
    {
     "name": "stdout",
     "output_type": "stream",
     "text": [
      "The process has finished. Check logfile /home/jzuluaga/fargo3d/setups/fargo/fargo.log.\n"
     ]
    }
   ],
   "source": [
    "sim.stop()"
   ]
  }
 ],
 "metadata": {
  "kernelspec": {
   "display_name": "Python 3",
   "language": "python",
   "name": "python3"
  },
  "language_info": {
   "codemirror_mode": {
    "name": "ipython",
    "version": 3
   },
   "file_extension": ".py",
   "mimetype": "text/x-python",
   "name": "python",
   "nbconvert_exporter": "python",
   "pygments_lexer": "ipython3",
   "version": "3.10.12"
  }
 },
 "nbformat": 4,
 "nbformat_minor": 2
}
