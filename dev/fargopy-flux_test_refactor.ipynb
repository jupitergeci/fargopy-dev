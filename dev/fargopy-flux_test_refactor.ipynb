{
 "cells": [
  {
   "cell_type": "markdown",
   "metadata": {},
   "source": [
    "# FARGOpy\n",
    "## Wrapping FRAGO3D"
   ]
  },
  {
   "cell_type": "markdown",
   "metadata": {},
   "source": [
    "## Tutorial: flux computation\n",
    "\n",
    "<a target=\"_blank\" href=\"https://colab.research.google.com/github/seap-udea/fargopy/blob/main/dev/fargopy-flux_test_refactor.ipynb\">\n",
    "  <img src=\"https://colab.research.google.com/assets/colab-badge.svg\" alt=\"Open In Colab\"/>\n",
    "</a>"
   ]
  },
  {
   "cell_type": "markdown",
   "id": "bc58dc39",
   "metadata": {},
   "source": [
    "### What's in this notebook"
   ]
  },
  {
   "cell_type": "markdown",
   "id": "99a58103",
   "metadata": {},
   "source": [
    "In this notebook we illustrate **configuration variables** in `FARGOpy`."
   ]
  },
  {
   "cell_type": "markdown",
   "id": "e9573f28",
   "metadata": {},
   "source": [
    "### Before starting"
   ]
  },
  {
   "cell_type": "markdown",
   "id": "97363650",
   "metadata": {},
   "source": [
    "If you are in `Google Colab`, install the latest version of the package:"
   ]
  },
  {
   "cell_type": "code",
   "execution_count": 1,
   "id": "5ee94500",
   "metadata": {},
   "outputs": [],
   "source": [
    "# @title Install fargopy\n",
    "import sys\n",
    "if 'google.colab' in sys.modules:\n",
    "    !sudo pip install -Uq fargopy"
   ]
  },
  {
   "cell_type": "markdown",
   "id": "ef3b48f2",
   "metadata": {},
   "source": [
    "For this tutorial you will need the following external modules and tools:"
   ]
  },
  {
   "cell_type": "code",
   "execution_count": 1,
   "id": "e4c3d548",
   "metadata": {},
   "outputs": [
    {
     "name": "stdout",
     "output_type": "stream",
     "text": [
      "Running FARGOpy version 0.3.15\n"
     ]
    }
   ],
   "source": [
    "import fargopy as fp\n",
    "import numpy as np \n",
    "import matplotlib.pyplot as plt\n",
    "import pandas as pd\n",
    "\n",
    "%load_ext autoreload\n",
    "%autoreload 2"
   ]
  },
  {
   "cell_type": "markdown",
   "metadata": {},
   "source": [
    "### Cargar datos"
   ]
  },
  {
   "cell_type": "code",
   "execution_count": 2,
   "metadata": {},
   "outputs": [
    {
     "name": "stdout",
     "output_type": "stream",
     "text": [
      "Precomputed output directory '/tmp/p3disoj' already exist\n",
      "FARGO3D directory '/Users/jzuluaga/fargo3d/' does not exist.\n",
      "Now you are connected with output directory '/tmp/p3disoj'\n",
      "Found a variables.par file in '/tmp/p3disoj', loading properties\n",
      "Loading variables\n",
      "85 variables loaded\n",
      "Simulation in 3 dimensions\n",
      "Loading domain in spherical coordinates:\n",
      "\tVariable phi: 128 [[0, np.float64(-3.117048960983623)], [-1, np.float64(3.117048960983623)]]\n",
      "\tVariable r: 64 [[0, np.float64(0.5078125)], [-1, np.float64(1.4921875)]]\n",
      "\tVariable theta: 32 [[0, np.float64(1.4231400767948967)], [-1, np.float64(1.5684525767948965)]]\n",
      "Number of snapshots in output directory: 11\n",
      "Configuration variables and domains load into the object. See e.g. <sim>.vars\n"
     ]
    }
   ],
   "source": [
    "fp.Simulation.download_precomputed('p3disoj')\n",
    "sim = fp.Simulation(output_dir='/tmp/p3disoj')"
   ]
  },
  {
   "cell_type": "markdown",
   "metadata": {},
   "source": [
    "## Interpolación en XYZ"
   ]
  },
  {
   "cell_type": "markdown",
   "id": "b79f4a20",
   "metadata": {},
   "source": [
    "La interpolación ahora se puede realizar en 3 dimensiones espaciales"
   ]
  },
  {
   "cell_type": "markdown",
   "metadata": {},
   "source": [
    "Creamos la instancia de la clase DataHandler y cargamos los datos de la simulación:"
   ]
  },
  {
   "cell_type": "markdown",
   "metadata": {},
   "source": [
    "Así estaba: \n",
    "\n",
    "```python\n",
    "data_handler = DataHandler(sim) # Instanciamos el manejador de datos\n",
    "data_handler.load_data(\n",
    "   # Definimos el snapshot inicial y el final sobre el que queremos trabajar\n",
    "    snapi=1,\n",
    "    snapf=10\n",
    ");\n",
    "```"
   ]
  },
  {
   "cell_type": "markdown",
   "metadata": {},
   "source": [
    "Así me lo sueño:"
   ]
  },
  {
   "cell_type": "code",
   "execution_count": null,
   "metadata": {},
   "outputs": [],
   "source": [
    "# Carga normal \n",
    "# gasdens = sim.load_field('gasdens', snapshot=1, interpolate=False)\n",
    "# Carga con interpolación\n",
    "gasdens_interp = sim.load_field('gasdens', snapshot=(1, 10), interpolate=True) # Ahora gasdens es un objeto DataHandler\n",
    "velocity_interp = sim.load_field('gasv', snapshot=(1, 10), interpolate=True)\n",
    "\n",
    "# Cargar varios campos\n",
    "gasens_interp, velocity_interp = sim.load_field(['gasdens','gasv'], snapshot=(1, 10), interpolate=True)\n",
    "\n",
    "# Cargar los datos\n",
    "gasens, velocity = sim.load_field(['gasdens','gasv'], snapshot=1, interpolate=False)"
   ]
  },
  {
   "cell_type": "markdown",
   "metadata": {},
   "source": [
    "Veamos de que tipos son:"
   ]
  },
  {
   "cell_type": "code",
   "execution_count": null,
   "metadata": {},
   "outputs": [],
   "source": [
    "type(gasens), type(gasdens_interp)"
   ]
  },
  {
   "cell_type": "markdown",
   "metadata": {},
   "source": [
    "Sugiero: DataHandler -> FieldInterpolator"
   ]
  },
  {
   "cell_type": "markdown",
   "metadata": {},
   "source": [
    "Original: \n",
    "\n",
    "```python\n",
    "# Interpolamos el campo de densidad\"\n",
    "\n",
    "# Definimos las coordenadas y el tiempo en el que queremos interpolar\n",
    "time=0.54\n",
    "x=1.0\n",
    "y=-0.25\n",
    "z=0.05\n",
    "\n",
    "# Interpolamos el campo de densidad\n",
    "density = data_handler.interpolate_field(time,x,y,z,field_name=\"gasdens\")\n",
    "print(f\"La densidad en las coordenadas {(x,y,z)} en el tiempo:{time}\\n es : {density*sim.URHO*1e3:.3e}[kg/m^3]\")\n",
    "\n",
    "# Interpolar el campo de velocidad\n",
    "velx,vely,velz = data_handler.interpolate_velocity(time,x,y,z)\n",
    "```"
   ]
  },
  {
   "cell_type": "markdown",
   "metadata": {},
   "source": [
    "Que me sueño:"
   ]
  },
  {
   "cell_type": "markdown",
   "metadata": {},
   "source": [
    "Definimos las coordenadas y el tiempo en el que queremos interpolar"
   ]
  },
  {
   "cell_type": "code",
   "execution_count": 4,
   "metadata": {},
   "outputs": [],
   "source": [
    "time=0.54 # This is the time of the claculation of the flux (it is not required to be a time of a specific snapshot)\n",
    "\n",
    "# Coordinates where I will calculate the field\n",
    "x=1.0\n",
    "y=-0.25\n",
    "z=0.05"
   ]
  },
  {
   "cell_type": "markdown",
   "metadata": {},
   "source": [
    "Interpolamos el campo de densidad\""
   ]
  },
  {
   "cell_type": "code",
   "execution_count": null,
   "metadata": {},
   "outputs": [],
   "source": [
    "# Interpolamos el campo de densidad\n",
    "density = gasden_interp.evaluate(time=time, x=x, y=y, z=z)\n",
    "print(f\"La densidad en las coordenadas {(x,y,z)} en el tiempo:{time}\\n es : {density*sim.URHO*1e3:.3e}[kg/m^3]\")\n",
    "\n",
    "# Interpolamos el campo de densidad\n",
    "density = gasden_interp.evaluate(snapshot=5, x=x, y=y, z=z)\n",
    "print(f\"La densidad en las coordenadas {(x,y,z)} en el tiempo:{time}\\n es : {density*sim.URHO*1e3:.3e}[kg/m^3]\")\n",
    "\n",
    "# Interpolar el campo de velocidad\n",
    "velx,vely,velz = velocity_interp.evaluate(time, x=x, y=y, z=z)\n",
    "```"
   ]
  },
  {
   "cell_type": "markdown",
   "metadata": {},
   "source": [
    "Este era el orginal:\n",
    "\n",
    "```python\n",
    "from fargopy.flux import FluxAnalyzer3D\n",
    "from fargopy import flux\n",
    "import fargopy as fp\n",
    "from fargopy.Fsimulation import DataHandler\n",
    "%load_ext autoreload\n",
    "%autoreload 2\n",
    "\n",
    "\n",
    "# Cambiar dir_path por la ruta donde se tienen los outputs de Fargo3D\n",
    "output_dir = '/tmp/p3disoj' # Cambiar por la ruta donde se tienen los outputs de Fargo3D\n",
    "sim = fp.Simulation()\n",
    "\n",
    "\n",
    "# Creamos el objeto\n",
    "analyzer = FluxAnalyzer3D(\n",
    "    output_dir=output_dir, # Cambiar por la ruta donde se tienen los outputs de Fargo3D\n",
    "    sphere_center=(1, 0, 0), # Centro de la esfera (centrada en el planeta)\n",
    "    radius=0.08,    # Radio de la esfera\n",
    "    subdivisions=6,     # Número de subdivisiones\n",
    "    snapi=1,        # Snapshot inicial\n",
    "    snapf=10       # Snapshot final\n",
    ")\n",
    "```"
   ]
  },
  {
   "cell_type": "markdown",
   "metadata": {},
   "source": [
    "Este es el sueño (caso de uso):"
   ]
  },
  {
   "cell_type": "markdown",
   "metadata": {},
   "source": [
    "Crear la superficie de observación:"
   ]
  },
  {
   "cell_type": "code",
   "execution_count": null,
   "metadata": {},
   "outputs": [],
   "source": [
    "sphere = fp.Sphere(\n",
    "    sphere_center=(1, 0, 0), # Centro de la esfera (centrada en el planeta)\n",
    "    radius=0.08,    # Radio de la esfera\n",
    "    subdivisions=6,     # Número de subdivisiones\n",
    ")"
   ]
  },
  {
   "cell_type": "markdown",
   "metadata": {},
   "source": [
    "Mostrar qué es lo que creaste:"
   ]
  },
  {
   "cell_type": "code",
   "execution_count": null,
   "metadata": {},
   "outputs": [],
   "source": [
    "type(sphere), sphere.center, sphere.radius, sphere.subdivisions"
   ]
  },
  {
   "cell_type": "markdown",
   "metadata": {},
   "source": [
    "Gráfico de la esfera:"
   ]
  },
  {
   "cell_type": "code",
   "execution_count": null,
   "metadata": {},
   "outputs": [],
   "source": [
    "fig,axs = plt.subplots(1,1,figsize=(6,6))\n",
    "\n",
    "cmap = 'viridis'\n",
    "ax = axs\n",
    "\n",
    "# Heat map of the vertical component of velocity\n",
    "c = ax.pcolormesh(mesh.x*sim.UL/fp.AU,mesh.z*sim.UL/fp.AU,gasvz_planet*sim.UV/(1e5),cmap=cmap)\n",
    "cbar = fig.colorbar(c)\n",
    "cbar.set_label('$v_z$ [km/s]')\n",
    "\n",
    "# Idea de como meter una superficie de control dentro de un gráfico\n",
    "sphere.plot(ax=ax)\n",
    "\n",
    "ax.set_xlabel('$x$ [au]')\n",
    "ax.set_ylabel('$z$ [au]')\n",
    "fp.Plot.fargopy_mark(ax)"
   ]
  },
  {
   "cell_type": "markdown",
   "metadata": {},
   "source": [
    "Calculamos flujo:"
   ]
  },
  {
   "cell_type": "code",
   "execution_count": null,
   "metadata": {},
   "outputs": [],
   "source": [
    "flux_analyzer = fp.FluxAnalyzer3D(\n",
    "    simulation=sim,\n",
    "    surface=sphere,\n",
    "    #function=density*velocity*area\n",
    "    desnity=gasdens_interp,\n",
    "    velocity=velocity_interp,\n",
    ")\n",
    "\n",
    "analyzer.calculate_fluxes() # Escondes debajo la interpolación"
   ]
  },
  {
   "cell_type": "markdown",
   "metadata": {},
   "source": [
    "Existe una alternativa:"
   ]
  },
  {
   "cell_type": "code",
   "execution_count": null,
   "metadata": {},
   "outputs": [],
   "source": [
    "# Flujo \n",
    "vector_function = fp.FieldIntegrals(\n",
    "    simulation=sim,\n",
    "    surface=sphere,\n",
    "    type='surface',\n",
    "    integrand=lambda f1,f2: f1*f2, # \\int f1*f2*dS \n",
    "    fields=[gasdens_interp, velocity_interp],\n",
    ")\n",
    "vector_function.evaluate(time=0.4)\n",
    "\n",
    "# Masa\n",
    "vector_function = fp.FieldIntegrals(\n",
    "    simulation=sim,\n",
    "    surface=sphere,\n",
    "    tyep='volume',\n",
    "    integrand=lambda f1: f1, # \\int f1*dV\n",
    "    fields=[gasdens_interp],\n",
    ")\n",
    "vector_function.evaluate(time=0.4)\n"
   ]
  }
 ],
 "metadata": {
  "kernelspec": {
   "display_name": ".fargopyenv",
   "language": "python",
   "name": "python3"
  },
  "language_info": {
   "codemirror_mode": {
    "name": "ipython",
    "version": 3
   },
   "file_extension": ".py",
   "mimetype": "text/x-python",
   "name": "python",
   "nbconvert_exporter": "python",
   "pygments_lexer": "ipython3",
   "version": "3.12.5"
  }
 },
 "nbformat": 4,
 "nbformat_minor": 5
}
