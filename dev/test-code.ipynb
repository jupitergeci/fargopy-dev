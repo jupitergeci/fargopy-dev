{
 "cells": [
  {
   "cell_type": "code",
   "execution_count": 1,
   "metadata": {},
   "outputs": [
    {
     "name": "stdout",
     "output_type": "stream",
     "text": [
      "Running FARGOpy version 0.0.3\n"
     ]
    }
   ],
   "source": [
    "import fargopy as fp\n",
    "\n",
    "# For developing purpose. Remove during production\n",
    "%load_ext autoreload\n",
    "%autoreload 2"
   ]
  },
  {
   "cell_type": "markdown",
   "metadata": {},
   "source": [
    "## Util"
   ]
  },
  {
   "cell_type": "code",
   "execution_count": 2,
   "metadata": {},
   "outputs": [
    {
     "name": "stdout",
     "output_type": "stream",
     "text": [
      "total 44K\n",
      "-rw-r--r--  1 jzuluaga jzuluaga  24K Nov 16 11:04 Vel_XY.py\n",
      "drwxr-xr-x 13 jzuluaga jzuluaga 4.0K Nov 17 09:53 public\n",
      "-rw-r--r--  1 jzuluaga jzuluaga  15K Nov 17 09:55 test-code.ipynb\n",
      "['total 44K', '-rw-r--r--  1 jzuluaga jzuluaga  24K Nov 16 11:04 Vel_XY.py', 'drwxr-xr-x 13 jzuluaga jzuluaga 4.0K Nov 17 09:53 public', '-rw-r--r--  1 jzuluaga jzuluaga  15K Nov 17 09:55 test-code.ipynb', (0, '')]\n"
     ]
    }
   ],
   "source": [
    "error,out = fp.Util.sysrun('ls -lh',verbose=True)\n",
    "print(out)"
   ]
  },
  {
   "cell_type": "code",
   "execution_count": 43,
   "metadata": {},
   "outputs": [
    {
     "name": "stdout",
     "output_type": "stream",
     "text": [
      "::FARGOpy::sysrun::cmd = ls -lh ..\n",
      "total 124K\n",
      "-rw-r--r--  1 jzuluaga jzuluaga 1.1K Nov 15 15:54 LICENSE\n",
      "-rwxr-xr-x  1 jzuluaga jzuluaga 8.4K Nov 16 01:35 README.ipynb\n",
      "-rw-r--r--  1 jzuluaga jzuluaga  69K Nov 15 15:58 README.md\n",
      "drwxr-xr-x  2 jzuluaga jzuluaga 4.0K Nov 15 15:58 bin\n",
      "drwxr-xr-x  2 jzuluaga jzuluaga 4.0K Nov 16 00:49 dev\n",
      "drwxr-xr-x  4 jzuluaga jzuluaga 4.0K Nov 15 23:15 fargopy\n",
      "drwxr-xr-x  2 jzuluaga jzuluaga 4.0K Nov 16 00:03 fargopy.egg-info\n",
      "-rwxr-xr-x  1 jzuluaga jzuluaga  975 Nov 15 15:58 makefile\n",
      "drwxr-xr-x 13 jzuluaga jzuluaga 4.0K Nov 16 01:36 public\n",
      "drwxr-xr-x 11 jzuluaga jzuluaga 4.0K Nov 15 23:24 public.save\n",
      "-rwxr-xr-x  1 jzuluaga jzuluaga  127 Nov 16 00:02 pyproject.toml\n",
      "-rwxr-xr-x  1 jzuluaga jzuluaga 2.2K Nov 16 00:02 setup.py\n",
      "::FARGOpy::sysrun::Done. Check Util.STDOUT and Util.STDERR for details.\n",
      "['total 124K', '-rw-r--r--  1 jzuluaga jzuluaga 1.1K Nov 15 15:54 LICENSE', '-rwxr-xr-x  1 jzuluaga jzuluaga 8.4K Nov 16 01:35 README.ipynb', '-rw-r--r--  1 jzuluaga jzuluaga  69K Nov 15 15:58 README.md', 'drwxr-xr-x  2 jzuluaga jzuluaga 4.0K Nov 15 15:58 bin', 'drwxr-xr-x  2 jzuluaga jzuluaga 4.0K Nov 16 00:49 dev', 'drwxr-xr-x  4 jzuluaga jzuluaga 4.0K Nov 15 23:15 fargopy', 'drwxr-xr-x  2 jzuluaga jzuluaga 4.0K Nov 16 00:03 fargopy.egg-info', '-rwxr-xr-x  1 jzuluaga jzuluaga  975 Nov 15 15:58 makefile', 'drwxr-xr-x 13 jzuluaga jzuluaga 4.0K Nov 16 01:36 public', 'drwxr-xr-x 11 jzuluaga jzuluaga 4.0K Nov 15 23:24 public.save', '-rwxr-xr-x  1 jzuluaga jzuluaga  127 Nov 16 00:02 pyproject.toml', '-rwxr-xr-x  1 jzuluaga jzuluaga 2.2K Nov 16 00:02 setup.py', (0, '')]\n",
      "STDOUT:\n",
      " total 124K\n",
      "-rw-r--r--  1 jzuluaga jzuluaga 1.1K Nov 15 15:54 LICENSE\n",
      "-rwxr-xr-x  1 jzuluaga jzuluaga 8.4K Nov 16 01:35 README.ipynb\n",
      "-rw-r--r--  1 jzuluaga jzuluaga  69K Nov 15 15:58 README.md\n",
      "drwxr-xr-x  2 jzuluaga jzuluaga 4.0K Nov 15 15:58 bin\n",
      "drwxr-xr-x  2 jzuluaga jzuluaga 4.0K Nov 16 00:49 dev\n",
      "drwxr-xr-x  4 jzuluaga jzuluaga 4.0K Nov 15 23:15 fargopy\n",
      "drwxr-xr-x  2 jzuluaga jzuluaga 4.0K Nov 16 00:03 fargopy.egg-info\n",
      "-rwxr-xr-x  1 jzuluaga jzuluaga  975 Nov 15 15:58 makefile\n",
      "drwxr-xr-x 13 jzuluaga jzuluaga 4.0K Nov 16 01:36 public\n",
      "drwxr-xr-x 11 jzuluaga jzuluaga 4.0K Nov 15 23:24 public.save\n",
      "-rwxr-xr-x  1 jzuluaga jzuluaga  127 Nov 16 00:02 pyproject.toml\n",
      "-rwxr-xr-x  1 jzuluaga jzuluaga 2.2K Nov 16 00:02 setup.py\n",
      "STDERR:\n",
      " \n",
      "QERROR:\n",
      " 0\n"
     ]
    }
   ],
   "source": [
    "error,out = fp.Util.sysrun('ls -lh ..',verbose=True)\n",
    "print(out)\n",
    "print(\"STDOUT:\\n\",fp.Util.STDOUT)\n",
    "print(\"STDERR:\\n\",fp.Util.STDERR)\n",
    "print(\"QERROR:\\n\",fp.Util.QERROR)"
   ]
  },
  {
   "cell_type": "code",
   "execution_count": 70,
   "metadata": {},
   "outputs": [
    {
     "name": "stdout",
     "output_type": "stream",
     "text": [
      "::FARGOpy::sysrun::cmd = pwd -q\n",
      "::FARGOpy::sysrun::Error check Util.STDERR.\n",
      "[(2, '/bin/sh: 1: pwd: Illegal option -q\\n')]\n",
      "STDOUT:\n",
      " \n",
      "STDERR:\n",
      " /bin/sh: 1: pwd: Illegal option -q\n",
      "\n",
      "QERROR:\n",
      " 2\n"
     ]
    }
   ],
   "source": [
    "error,out = fp.Util.sysrun('pwd -q',verbose=True)\n",
    "print(out)\n",
    "print(\"STDOUT:\\n\",fp.Util.STDOUT)\n",
    "print(\"STDERR:\\n\",fp.Util.STDERR)\n",
    "print(\"QERROR:\\n\",fp.Util.QERROR)"
   ]
  },
  {
   "cell_type": "code",
   "execution_count": 75,
   "metadata": {},
   "outputs": [
    {
     "name": "stdout",
     "output_type": "stream",
     "text": [
      "::FARGOpy::sysrun::cmd = make -C ../public PARALLEL=1\n",
      "make: Entering directory '/home/jzuluaga/fargopy/public'\n",
      "Skipping w\n",
      "Skipping --\n",
      "make[1]: Entering directory '/home/jzuluaga/fargopy/public/bin'\n",
      "::FARGOpy::sysrun::Error check Util.STDERR.\n"
     ]
    }
   ],
   "source": [
    "error, out = fp.Util.sysrun(\"make -C ../public PARALLEL=1\")\n",
    "#error, out = fp.Util.sysrun(\"make -C ../public clean\")"
   ]
  },
  {
   "cell_type": "code",
   "execution_count": 76,
   "metadata": {},
   "outputs": [
    {
     "data": {
      "text/plain": [
       "-1"
      ]
     },
     "execution_count": 76,
     "metadata": {},
     "output_type": "execute_result"
    }
   ],
   "source": [
    "error"
   ]
  },
  {
   "cell_type": "code",
   "execution_count": 77,
   "metadata": {},
   "outputs": [
    {
     "data": {
      "text/plain": [
       "[\"make: Entering directory '/home/jzuluaga/fargopy/public'\",\n",
       " 'Skipping w',\n",
       " 'Skipping --',\n",
       " \"make[1]: Entering directory '/home/jzuluaga/fargopy/public/bin'\",\n",
       " (0,\n",
       "  '/bin/sh: 1: /bin/sh: 1: /bin/sh: 1: mpicc: not foundmpicc: not foundmpicc: not found\\n\\n\\nmake[1]: *** [psys.o] Error 127\\nmake[1]: *** Waiting for unfinished jobs....\\nmake[1]: *** [main.o] Error 127\\nmake[1]: *** [var.o] Error 127\\n/bin/sh: 1: mpicc: not found\\nmake[1]: *** [LowTasks.o] Error 127\\n/bin/sh: 1: mpicc: not found\\nmake[1]: *** [param.o] Error 127\\n/bin/sh: 1: mpicc: not found\\nmake[1]: *** [usage.o] Error 127\\n/bin/sh: 1: mpicc: not found\\nmake[1]: *** [split.o] Error 127\\n')]"
      ]
     },
     "execution_count": 77,
     "metadata": {},
     "output_type": "execute_result"
    }
   ],
   "source": [
    "out"
   ]
  },
  {
   "cell_type": "code",
   "execution_count": 74,
   "metadata": {},
   "outputs": [
    {
     "data": {
      "text/plain": [
       "-1"
      ]
     },
     "execution_count": 74,
     "metadata": {},
     "output_type": "execute_result"
    }
   ],
   "source": [
    "fp.Util.QERROR"
   ]
  },
  {
   "cell_type": "code",
   "execution_count": 81,
   "metadata": {},
   "outputs": [
    {
     "data": {
      "text/plain": [
       "'a_b_1'"
      ]
     },
     "execution_count": 81,
     "metadata": {},
     "output_type": "execute_result"
    }
   ],
   "source": [
    "ster = 'a b=1'\n",
    "'_'.join('_'.join(ster.split('=')).split(' '))"
   ]
  },
  {
   "cell_type": "code",
   "execution_count": 83,
   "metadata": {},
   "outputs": [
    {
     "data": {
      "text/plain": [
       "'a_b_1'"
      ]
     },
     "execution_count": 83,
     "metadata": {},
     "output_type": "execute_result"
    }
   ],
   "source": [
    "ster.replace(' ','_').replace('=','_')"
   ]
  },
  {
   "cell_type": "code",
   "execution_count": 2,
   "metadata": {},
   "outputs": [
    {
     "ename": "KeyboardInterrupt",
     "evalue": "",
     "output_type": "error",
     "traceback": [
      "\u001b[0;31m---------------------------------------------------------------------------\u001b[0m",
      "\u001b[0;31mKeyboardInterrupt\u001b[0m                         Traceback (most recent call last)",
      "\u001b[1;32m/home/jzuluaga/fargopy/dev/test-code.ipynb Cell 12\u001b[0m line \u001b[0;36m1\n\u001b[0;32m----> <a href='vscode-notebook-cell:/home/jzuluaga/fargopy/dev/test-code.ipynb#Y204sZmlsZQ%3D%3D?line=0'>1</a>\u001b[0m fp\u001b[39m.\u001b[39;49mUtil\u001b[39m.\u001b[39;49msysrun(\u001b[39m'\u001b[39;49m\u001b[39msleep 100\u001b[39;49m\u001b[39m'\u001b[39;49m)\n",
      "File \u001b[0;32m~/fargopy/fargopy/__init__.py:84\u001b[0m, in \u001b[0;36mUtil.sysrun\u001b[0;34m(cmd, verbose)\u001b[0m\n\u001b[1;32m     81\u001b[0m     \u001b[39mprint\u001b[39m(\u001b[39mf\u001b[39m\u001b[39m\"\u001b[39m\u001b[39m::FARGOpy::sysrun::cmd = \u001b[39m\u001b[39m{\u001b[39;00mcmd\u001b[39m}\u001b[39;00m\u001b[39m\"\u001b[39m)\n\u001b[1;32m     83\u001b[0m out\u001b[39m=\u001b[39m[]\n\u001b[0;32m---> 84\u001b[0m \u001b[39mfor\u001b[39;00m path \u001b[39min\u001b[39;00m Util\u001b[39m.\u001b[39m_run(cmd):\n\u001b[1;32m     85\u001b[0m     \u001b[39mtry\u001b[39;00m:\n\u001b[1;32m     86\u001b[0m         \u001b[39mif\u001b[39;00m verbose:\n",
      "File \u001b[0;32m~/fargopy/fargopy/__init__.py:69\u001b[0m, in \u001b[0;36mUtil._run\u001b[0;34m(cmd)\u001b[0m\n\u001b[1;32m     67\u001b[0m p\u001b[39m=\u001b[39msubprocess\u001b[39m.\u001b[39mPopen(cmd,stdout\u001b[39m=\u001b[39msubprocess\u001b[39m.\u001b[39mPIPE,stderr\u001b[39m=\u001b[39msubprocess\u001b[39m.\u001b[39mPIPE,shell\u001b[39m=\u001b[39m\u001b[39mTrue\u001b[39;00m)\n\u001b[1;32m     68\u001b[0m \u001b[39mwhile\u001b[39;00m \u001b[39mTrue\u001b[39;00m:\n\u001b[0;32m---> 69\u001b[0m     line \u001b[39m=\u001b[39m p\u001b[39m.\u001b[39;49mstdout\u001b[39m.\u001b[39;49mreadline()\u001b[39m.\u001b[39mrstrip()\n\u001b[1;32m     70\u001b[0m     \u001b[39mif\u001b[39;00m \u001b[39mnot\u001b[39;00m line:\n\u001b[1;32m     71\u001b[0m         \u001b[39mbreak\u001b[39;00m\n",
      "\u001b[0;31mKeyboardInterrupt\u001b[0m: "
     ]
    }
   ],
   "source": [
    "fp.Util.sysrun('sleep 100')"
   ]
  },
  {
   "cell_type": "code",
   "execution_count": 3,
   "metadata": {},
   "outputs": [],
   "source": [
    "sim = fp.Simulation()"
   ]
  },
  {
   "cell_type": "code",
   "execution_count": 4,
   "metadata": {},
   "outputs": [
    {
     "ename": "AssertionError",
     "evalue": "FARGO3D source code has not been checked. Run Conf.set_fargo3d().",
     "output_type": "error",
     "traceback": [
      "\u001b[0;31m---------------------------------------------------------------------------\u001b[0m",
      "\u001b[0;31mAssertionError\u001b[0m                            Traceback (most recent call last)",
      "\u001b[1;32m/home/jzuluaga/fargopy/dev/test-code.ipynb Cell 14\u001b[0m line \u001b[0;36m1\n\u001b[0;32m----> <a href='vscode-notebook-cell:/home/jzuluaga/fargopy/dev/test-code.ipynb#Y206sZmlsZQ%3D%3D?line=0'>1</a>\u001b[0m sim\u001b[39m.\u001b[39;49m_is_fargo_here()\n",
      "File \u001b[0;32m~/fargopy/fargopy/util.py:294\u001b[0m, in \u001b[0;36mConf._is_fargo_here\u001b[0;34m()\u001b[0m\n\u001b[1;32m    291\u001b[0m \u001b[39m@staticmethod\u001b[39m\n\u001b[1;32m    292\u001b[0m \u001b[39mdef\u001b[39;00m \u001b[39m_is_fargo_here\u001b[39m():\n\u001b[1;32m    293\u001b[0m     \u001b[39mif\u001b[39;00m \u001b[39mnot\u001b[39;00m Conf\u001b[39m.\u001b[39mFARGO3D_IS_HERE:\n\u001b[0;32m--> 294\u001b[0m         \u001b[39mraise\u001b[39;00m \u001b[39mAssertionError\u001b[39;00m(\u001b[39mf\u001b[39m\u001b[39m\"\u001b[39m\u001b[39mFARGO3D source code has not been checked. Run Conf.set_fargo3d().\u001b[39m\u001b[39m\"\u001b[39m)\n\u001b[1;32m    295\u001b[0m     \u001b[39mreturn\u001b[39;00m \u001b[39mTrue\u001b[39;00m\n",
      "\u001b[0;31mAssertionError\u001b[0m: FARGO3D source code has not been checked. Run Conf.set_fargo3d()."
     ]
    }
   ],
   "source": [
    "sim._is_fargo_here()"
   ]
  },
  {
   "cell_type": "code",
   "execution_count": 5,
   "metadata": {},
   "outputs": [
    {
     "name": "stdout",
     "output_type": "stream",
     "text": [
      "> Checking for FARGO3D directroy:\n",
      "\t✓FARGO3D source code is available in your system at './public/'\n",
      "> Checking for FARGO3D normal binary:\n",
      "\t✓Binary in normal mode compiling correctly\n",
      "> Checking for FARGO3D parallel binary:\n",
      "\t✓Binary in parallel mode compiling correctly\n",
      "> Checking for FARGO3D GPU binary:\n",
      "FARGO3D binary with options 'GPU=1' not compiled at './public/'\n",
      "\tCompiling FARGO3D with GPU (it may take a while)...\n",
      "\tNo GPU available\n"
     ]
    }
   ],
   "source": [
    "fp.Conf.set_fargo3d()"
   ]
  },
  {
   "cell_type": "code",
   "execution_count": 6,
   "metadata": {},
   "outputs": [
    {
     "data": {
      "text/plain": [
       "True"
      ]
     },
     "execution_count": 6,
     "metadata": {},
     "output_type": "execute_result"
    }
   ],
   "source": [
    "sim._is_fargo_here()"
   ]
  },
  {
   "cell_type": "code",
   "execution_count": 7,
   "metadata": {},
   "outputs": [],
   "source": [
    "sim2 = fp.Simulation()"
   ]
  },
  {
   "cell_type": "code",
   "execution_count": 8,
   "metadata": {},
   "outputs": [
    {
     "data": {
      "text/plain": [
       "['binary',\n",
       " 'fargo',\n",
       " 'fargo_multifluid',\n",
       " 'fargo_nu',\n",
       " 'mri',\n",
       " 'otvortex',\n",
       " 'p3diso',\n",
       " 'p3disof',\n",
       " 'sod1d']"
      ]
     },
     "execution_count": 8,
     "metadata": {},
     "output_type": "execute_result"
    }
   ],
   "source": [
    "sim2.list_setups()"
   ]
  },
  {
   "cell_type": "code",
   "execution_count": null,
   "metadata": {},
   "outputs": [],
   "source": []
  }
 ],
 "metadata": {
  "kernelspec": {
   "display_name": "Python 3",
   "language": "python",
   "name": "python3"
  },
  "language_info": {
   "codemirror_mode": {
    "name": "ipython",
    "version": 3
   },
   "file_extension": ".py",
   "mimetype": "text/x-python",
   "name": "python",
   "nbconvert_exporter": "python",
   "pygments_lexer": "ipython3",
   "version": "3.9.16"
  }
 },
 "nbformat": 4,
 "nbformat_minor": 2
}
