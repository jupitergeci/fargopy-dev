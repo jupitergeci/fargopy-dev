{
 "cells": [
  {
   "cell_type": "markdown",
   "metadata": {},
   "source": [
    "# FARGOpy\n",
    "## Wrapping FRAGO3D"
   ]
  },
  {
   "cell_type": "markdown",
   "metadata": {},
   "source": [
    "<!-- This are visual tags that you may add to your package at the beginning with useful information on your package --> \n",
    "[![version](https://img.shields.io/pypi/v/fargopy?color=blue)](https://pypi.org/project/fargopy/)\n",
    "[![downloads](https://img.shields.io/pypi/dw/fargopy)](https://pypi.org/project/fargopy/)"
   ]
  },
  {
   "cell_type": "markdown",
   "metadata": {},
   "source": [
    "`FARGOpy` is a python wrapping for [`FARGO3D`](https://fargo3d.bitbucket.io/intro.html)., the well-knwon hydrodynamics and magnetohydrodynamics parallel code. This wrapping is intended to ensue the interaction with FARGO3D especially for those starting using the code, for instance for teaching and training purposes, but also provide functionalities for most advanced users in tasks related to the postprocessing of output files and plotting."
   ]
  },
  {
   "cell_type": "markdown",
   "metadata": {},
   "source": [
    "## Download and install"
   ]
  },
  {
   "cell_type": "markdown",
   "metadata": {},
   "source": [
    "For using `FARGOpy` you first need to download and install `FARGO3D` and all its prerequisites. For a detailed guide please see the [FARGO documentation](https://fargo3d.bitbucket.io/index.html) or the [project repo at bitbucket](https://bitbucket.org/fargo3d/public/src/ae0fcdc67bb7c83aed85fc9a4d4a2d5061324597/?at=release%2Fpublic). Still, `FARGOpy` provides some useful commands and tools to test the platform on which you are working and check if it is prepared to use the whole functionalities of the packages or part of them.\n",
    "\n",
    "> **NOTE**: It is important to understand that `FARGO3D` works especially well on Linux plaforms (including `MacOS`). The same condition applies for `FARGOpy`. Because of that, most internal as well as public features of the packages are designed to work in a `Linux` environment. For working in another operating systems, for instance for teaching or training purposes, please consider to use virtual machines."
   ]
  },
  {
   "cell_type": "markdown",
   "metadata": {},
   "source": [
    "For installing `FARGOpy` run:"
   ]
  },
  {
   "cell_type": "code",
   "execution_count": 1,
   "metadata": {},
   "outputs": [],
   "source": [
    "# Uncomment if you are in Google Colab\n",
    "# !pip install -q fargopy"
   ]
  },
  {
   "cell_type": "markdown",
   "metadata": {},
   "source": [
    "Once installed import it:"
   ]
  },
  {
   "cell_type": "code",
   "execution_count": 1,
   "metadata": {},
   "outputs": [
    {
     "name": "stdout",
     "output_type": "stream",
     "text": [
      "Running FARGOpy version 0.1.1\n"
     ]
    }
   ],
   "source": [
    "import fargopy as fp\n",
    "\n",
    "# Set in True to see all messages\n",
    "fp.Conf.VERBOSE = False\n",
    "\n",
    "# For developing purpose. Remove during production\n",
    "%load_ext autoreload\n",
    "%autoreload 2"
   ]
  },
  {
   "cell_type": "markdown",
   "metadata": {},
   "source": [
    "## Install FARGO3D"
   ]
  },
  {
   "cell_type": "markdown",
   "metadata": {},
   "source": [
    "For obvious reasons `FARGO3D` is not provided with `FARGOpy`. Get and set the package using:"
   ]
  },
  {
   "cell_type": "code",
   "execution_count": 2,
   "metadata": {},
   "outputs": [
    {
     "name": "stdout",
     "output_type": "stream",
     "text": [
      "> Checking for FARGO3D directroy:\n",
      "FARGO3D source code is not available at './public/'\n",
      "\tGetting FARGO3D public repo...\n",
      "\t✓Package downloaded to './public/'\n",
      "> Checking for FARGO3D normal binary:\n",
      "FARGO3D binary with options '' not compiled at './public/'\n",
      "\tCompiling FARGO3D (it may take a while)...\n",
      "\t✓Binary in normal mode compiling correctly\n",
      "> Checking for FARGO3D parallel binary:\n",
      "FARGO3D binary with options 'PARALLEL=1' not compiled at './public/'\n",
      "\t✓Binary in parallel mode compiling correctly\n",
      "> Checking for FARGO3D GPU binary:\n",
      "FARGO3D binary with options 'GPU=1' not compiled at './public/'\n",
      "\tCompiling FARGO3D with GPU (it may take a while)...\n",
      "\tNo GPU available\n"
     ]
    }
   ],
   "source": [
    "fp.Conf.set_fargo3d()"
   ]
  },
  {
   "cell_type": "markdown",
   "metadata": {},
   "source": [
    "Once set, check configuration:"
   ]
  },
  {
   "cell_type": "code",
   "execution_count": 3,
   "metadata": {},
   "outputs": [
    {
     "name": "stdout",
     "output_type": "stream",
     "text": [
      "Is FARGO3D installed:  True\n",
      "Is FARGO3D compiling:  True\n",
      "Is FARGO3D compiling in parallel:  True\n",
      "Is FARGO3D compiling in GPU:  False\n",
      "FARGO3D clone repositoty command:  git clone https://bitbucket.org/fargo3d/public.git\n",
      "FARGO3D directories: \n",
      "\tBase directory:  ./\n",
      "\tPackage directory:  public/\n",
      "\tBasic package header:  src/fargo3d.h\n",
      "\tSetups location:  setups/\n",
      "\tSetups location:  ./public/\n",
      "Compile in parallel:  1\n",
      "Compile in GPU:  0\n"
     ]
    }
   ],
   "source": [
    "fp.Conf.show_fargo3d_configuration()"
   ]
  },
  {
   "cell_type": "markdown",
   "metadata": {},
   "source": [
    "If you already have a copy of `FARGO3D` you just need to set the configuration variables telling `FARGOpy` where the source code is located:"
   ]
  },
  {
   "cell_type": "code",
   "execution_count": 4,
   "metadata": {},
   "outputs": [],
   "source": [
    "fp.Conf.configure_fargo3d(basedir='/tmp',packdir='public',parallel=1,gpu=0)\n"
   ]
  },
  {
   "cell_type": "markdown",
   "metadata": {},
   "source": [
    "Once the variables has been set, you should set the package:"
   ]
  },
  {
   "cell_type": "code",
   "execution_count": 5,
   "metadata": {},
   "outputs": [
    {
     "name": "stdout",
     "output_type": "stream",
     "text": [
      "> Checking for FARGO3D directroy:\n",
      "\t✓FARGO3D source code is available in your system at '/tmp/public/'\n",
      "> Checking for FARGO3D normal binary:\n",
      "\t✓Binary in normal mode compiling correctly\n",
      "> Checking for FARGO3D parallel binary:\n",
      "\t✓Binary in parallel mode compiling correctly\n",
      "> Checking for FARGO3D GPU binary:\n",
      "FARGO3D binary with options 'GPU=1' not compiled at '/tmp/public/'\n",
      "\tCompiling FARGO3D with GPU (it may take a while)...\n",
      "\tNo GPU available\n",
      "Is FARGO3D installed:  True\n",
      "Is FARGO3D compiling:  True\n",
      "Is FARGO3D compiling in parallel:  True\n",
      "Is FARGO3D compiling in GPU:  False\n",
      "FARGO3D clone repositoty command:  git clone https://bitbucket.org/fargo3d/public.git\n",
      "FARGO3D directories: \n",
      "\tBase directory:  /tmp/\n",
      "\tPackage directory:  public/\n",
      "\tBasic package header:  src/fargo3d.h\n",
      "\tSetups location:  setups/\n",
      "\tSetups location:  /tmp/public/\n",
      "Compile in parallel:  1\n",
      "Compile in GPU:  0\n"
     ]
    }
   ],
   "source": [
    "fp.Conf.set_fargo3d()\n",
    "fp.Conf.show_fargo3d_configuration()"
   ]
  },
  {
   "cell_type": "markdown",
   "metadata": {},
   "source": [
    "## Quickstart"
   ]
  },
  {
   "cell_type": "markdown",
   "metadata": {},
   "source": [
    "The first thing you need to run `FARGOpy` is to create a simulation:"
   ]
  },
  {
   "cell_type": "code",
   "execution_count": 5,
   "metadata": {},
   "outputs": [],
   "source": [
    "sim = fp.Simulation()"
   ]
  },
  {
   "cell_type": "markdown",
   "metadata": {},
   "source": [
    "`FARGO3D` comes along with several test simulations configured as `setups`. You may list which setups are available using:\n",
    "\n"
   ]
  },
  {
   "cell_type": "code",
   "execution_count": 6,
   "metadata": {},
   "outputs": [
    {
     "data": {
      "text/plain": [
       "['binary',\n",
       " 'fargo',\n",
       " 'fargo_multifluid',\n",
       " 'fargo_nu',\n",
       " 'mri',\n",
       " 'otvortex',\n",
       " 'p3diso',\n",
       " 'p3disof',\n",
       " 'sod1d']"
      ]
     },
     "execution_count": 6,
     "metadata": {},
     "output_type": "execute_result"
    }
   ],
   "source": [
    "sim.list_setups()"
   ]
  },
  {
   "cell_type": "markdown",
   "metadata": {},
   "source": [
    "Once you select the setup, you may load it into the simulation:"
   ]
  },
  {
   "cell_type": "code",
   "execution_count": 7,
   "metadata": {},
   "outputs": [],
   "source": [
    "sim.load_setup('fargo')"
   ]
  },
  {
   "cell_type": "markdown",
   "metadata": {},
   "source": [
    "Alternatively, you may create the simulation from the beginning using the `setup` option:"
   ]
  },
  {
   "cell_type": "code",
   "execution_count": 8,
   "metadata": {},
   "outputs": [],
   "source": [
    "sim = fp.Simulation(setup='fargo')"
   ]
  },
  {
   "cell_type": "markdown",
   "metadata": {},
   "source": [
    "Before start, it's a good idea to clean all outputs (if they exists):"
   ]
  },
  {
   "cell_type": "code",
   "execution_count": 9,
   "metadata": {},
   "outputs": [
    {
     "name": "stdout",
     "output_type": "stream",
     "text": [
      "Cleaning simulation outputs...\n",
      "Done.\n"
     ]
    }
   ],
   "source": [
    "sim.clean_output()"
   ]
  },
  {
   "cell_type": "markdown",
   "metadata": {},
   "source": [
    "You may compile the simulation:"
   ]
  },
  {
   "cell_type": "code",
   "execution_count": 10,
   "metadata": {},
   "outputs": [
    {
     "name": "stdout",
     "output_type": "stream",
     "text": [
      "Compiling FARGO3D with options 'SETUP=fargo PARALLEL=1 GPU=0 ' (it may take a while... go for a coffee)\n"
     ]
    }
   ],
   "source": [
    "sim.compile(force=True)"
   ]
  },
  {
   "cell_type": "markdown",
   "metadata": {},
   "source": [
    "Once you have loaded the setup we may proceed compiling and running the simulation:"
   ]
  },
  {
   "cell_type": "code",
   "execution_count": 11,
   "metadata": {},
   "outputs": [
    {
     "name": "stdout",
     "output_type": "stream",
     "text": [
      "Running asynchronously: mpirun -np 1 ./.fargo3d_SETUP-fargo_PARALLEL-1_GPU-0_ -m -t setups/fargo/fargo.par\n",
      "Command is running in background\n"
     ]
    }
   ],
   "source": [
    "sim.run()"
   ]
  },
  {
   "cell_type": "markdown",
   "metadata": {},
   "source": [
    "You can check the status:"
   ]
  },
  {
   "cell_type": "code",
   "execution_count": 12,
   "metadata": {},
   "outputs": [
    {
     "name": "stdout",
     "output_type": "stream",
     "text": [
      "\n",
      "################################################################################\n",
      "Running status of the process:\n",
      "\tThe process is running.\n"
     ]
    }
   ],
   "source": [
    "sim.status(mode='isrunning')"
   ]
  },
  {
   "cell_type": "markdown",
   "metadata": {},
   "source": [
    "There are several status modes:"
   ]
  },
  {
   "cell_type": "markdown",
   "metadata": {},
   "source": [
    "- Show progress of the simulation"
   ]
  },
  {
   "cell_type": "code",
   "execution_count": 13,
   "metadata": {},
   "outputs": [
    {
     "name": "stdout",
     "output_type": "stream",
     "text": [
      "OUTPUTS 0 at date t = 0.000000 OK [output pace = 0.1 secs]\n",
      "OUTPUTS 1 at date t = 6.283185 OK [output pace = 0.1 secs]\n",
      "OUTPUTS 2 at date t = 12.566371 OK [output pace = 1.5 secs]\n",
      "OUTPUTS 3 at date t = 18.849556 OK [output pace = 3.0 secs]\n",
      "OUTPUTS 4 at date t = 25.132741 OK [output pace = 3.0 secs]\n",
      "OUTPUTS 5 at date t = 31.415927 OK [output pace = 3.0 secs]\n"
     ]
    }
   ],
   "source": [
    "sim.status(mode='progress')"
   ]
  },
  {
   "cell_type": "markdown",
   "metadata": {},
   "source": [
    "- Check the latest lines of the `logfile`: "
   ]
  },
  {
   "cell_type": "code",
   "execution_count": 14,
   "metadata": {},
   "outputs": [
    {
     "name": "stdout",
     "output_type": "stream",
     "text": [
      "\n",
      "################################################################################\n",
      "Logfile content:\n",
      "The latest 10 lines of the logfile:\n",
      "\n",
      "..............\n",
      "..............\n",
      "..............\n",
      "..............\n",
      "..............\n",
      "..............\n",
      "..............\n",
      "..............\n",
      "..............\n",
      "..."
     ]
    }
   ],
   "source": [
    "sim.status(mode='logfile')"
   ]
  },
  {
   "cell_type": "markdown",
   "metadata": {},
   "source": [
    "- Check (and return) the output files:"
   ]
  },
  {
   "cell_type": "code",
   "execution_count": 15,
   "metadata": {},
   "outputs": [
    {
     "name": "stdout",
     "output_type": "stream",
     "text": [
      "\n",
      "################################################################################\n",
      "Output content:\n",
      "\n",
      "58 available datafiles:\n",
      "\n",
      "bigplanet0.dat, dims.dat, domain_x.dat, domain_y.dat, domain_z.dat, gasdens0.dat, gasdens0_2d.dat, gasdens1.dat, gasdens2.dat, gasdens3.dat, \n",
      "gasdens4.dat, gasdens5.dat, gasdens6.dat, gasdens7.dat, gasdens8.dat, gasenergy0.dat, gasenergy1.dat, gasenergy2.dat, gasenergy3.dat, gasenergy4.dat, \n",
      "gasenergy5.dat, gasenergy6.dat, gasenergy7.dat, gasenergy8.dat, gasvx0.dat, gasvx0_2d.dat, gasvx1.dat, gasvx2.dat, gasvx3.dat, gasvx4.dat, \n",
      "gasvx5.dat, gasvx6.dat, gasvx7.dat, gasvx8.dat, gasvy0.dat, gasvy0_2d.dat, gasvy1.dat, gasvy2.dat, gasvy3.dat, gasvy4.dat, \n",
      "gasvy5.dat, gasvy6.dat, gasvy7.dat, gasvy8.dat, orbit0.dat, outputgas.dat, planet0.dat, summary0.dat, summary1.dat, summary2.dat, \n",
      "summary3.dat, summary4.dat, summary5.dat, summary6.dat, summary7.dat, summary8.dat, tqwk0.dat, used_rad.dat, \n"
     ]
    }
   ],
   "source": [
    "sim.status(mode='outputs')"
   ]
  },
  {
   "cell_type": "markdown",
   "metadata": {},
   "source": [
    "- Check the available snapshots:"
   ]
  },
  {
   "cell_type": "code",
   "execution_count": 16,
   "metadata": {},
   "outputs": [
    {
     "name": "stdout",
     "output_type": "stream",
     "text": [
      "\n",
      "################################################################################\n",
      "Snapshots:\n",
      "\tNumber of available snapshots: 10\n",
      "\tLatest resumable snapshot: 8\n"
     ]
    }
   ],
   "source": [
    "sim.status(mode='snapshots')"
   ]
  },
  {
   "cell_type": "markdown",
   "metadata": {},
   "source": [
    "You may also combine them:"
   ]
  },
  {
   "cell_type": "code",
   "execution_count": 17,
   "metadata": {},
   "outputs": [
    {
     "name": "stdout",
     "output_type": "stream",
     "text": [
      "\n",
      "################################################################################\n",
      "Running status of the process:\n",
      "\tThe process is running.\n",
      "\n",
      "################################################################################\n",
      "Snapshots:\n",
      "\tNumber of available snapshots: 11\n",
      "\tLatest resumable snapshot: 9\n"
     ]
    }
   ],
   "source": [
    "sim.status(mode='isrunning snapshots')"
   ]
  },
  {
   "cell_type": "markdown",
   "metadata": {},
   "source": [
    "Or ran all of them:"
   ]
  },
  {
   "cell_type": "code",
   "execution_count": 18,
   "metadata": {},
   "outputs": [
    {
     "name": "stdout",
     "output_type": "stream",
     "text": [
      "\n",
      "################################################################################\n",
      "Running status of the process:\n",
      "\tThe process is running.\n",
      "\n",
      "################################################################################\n",
      "Logfile content:\n",
      "The latest 10 lines of the logfile:\n",
      "\n",
      "..............\n",
      "..............\n",
      "..............\n",
      "..............\n",
      "..............\n",
      "..............\n",
      "..............\n",
      "..............\n",
      "..............\n",
      "..............\n",
      "\n",
      "################################################################################\n",
      "Output content:\n",
      "\n",
      "68 available datafiles:\n",
      "\n",
      "bigplanet0.dat, dims.dat, domain_x.dat, domain_y.dat, domain_z.dat, gasdens0.dat, gasdens0_2d.dat, gasdens1.dat, gasdens10.dat, gasdens2.dat, \n",
      "gasdens3.dat, gasdens4.dat, gasdens5.dat, gasdens6.dat, gasdens7.dat, gasdens8.dat, gasdens9.dat, gasenergy0.dat, gasenergy1.dat, gasenergy10.dat, \n",
      "gasenergy2.dat, gasenergy3.dat, gasenergy4.dat, gasenergy5.dat, gasenergy6.dat, gasenergy7.dat, gasenergy8.dat, gasenergy9.dat, gasvx0.dat, gasvx0_2d.dat, \n",
      "gasvx1.dat, gasvx10.dat, gasvx2.dat, gasvx3.dat, gasvx4.dat, gasvx5.dat, gasvx6.dat, gasvx7.dat, gasvx8.dat, gasvx9.dat, \n",
      "gasvy0.dat, gasvy0_2d.dat, gasvy1.dat, gasvy10.dat, gasvy2.dat, gasvy3.dat, gasvy4.dat, gasvy5.dat, gasvy6.dat, gasvy7.dat, \n",
      "gasvy8.dat, gasvy9.dat, orbit0.dat, outputgas.dat, planet0.dat, summary0.dat, summary1.dat, summary10.dat, summary2.dat, summary3.dat, \n",
      "summary4.dat, summary5.dat, summary6.dat, summary7.dat, summary8.dat, summary9.dat, tqwk0.dat, used_rad.dat, \n",
      "\n",
      "################################################################################\n",
      "Snapshots:\n",
      "\tNumber of available snapshots: 11\n",
      "\tLatest resumable snapshot: 9\n"
     ]
    }
   ],
   "source": [
    "sim.status(mode='all')"
   ]
  },
  {
   "cell_type": "markdown",
   "metadata": {},
   "source": [
    "You may stop the run at any time:"
   ]
  },
  {
   "cell_type": "code",
   "execution_count": 19,
   "metadata": {},
   "outputs": [
    {
     "name": "stdout",
     "output_type": "stream",
     "text": [
      "The process is already running with pid '30287'\n",
      "Stopping FARGO3D process (pid = 30287)\n"
     ]
    }
   ],
   "source": [
    "sim.stop()"
   ]
  },
  {
   "cell_type": "markdown",
   "metadata": {},
   "source": [
    "Before resuming get the latest resumable snapshot:"
   ]
  },
  {
   "cell_type": "code",
   "execution_count": 20,
   "metadata": {},
   "outputs": [
    {
     "name": "stdout",
     "output_type": "stream",
     "text": [
      "\n",
      "################################################################################\n",
      "Snapshots:\n",
      "\tNumber of available snapshots: 13\n",
      "\tLatest resumable snapshot: 11\n"
     ]
    }
   ],
   "source": [
    "sim.status(mode='snapshots')"
   ]
  },
  {
   "cell_type": "markdown",
   "metadata": {},
   "source": [
    "And resume since the latest resumable snapshot:"
   ]
  },
  {
   "cell_type": "code",
   "execution_count": 21,
   "metadata": {},
   "outputs": [
    {
     "name": "stdout",
     "output_type": "stream",
     "text": [
      "Resuming from snapshot 11\n",
      "Running asynchronously: mpirun -np 1 ./.fargo3d_SETUP-fargo_PARALLEL-1_GPU-0_ -m -t -S 11 -t setups/fargo/fargo.par\n",
      "Command is running in background\n"
     ]
    }
   ],
   "source": [
    "sim.resume(since=sim.resumable_snapshot)"
   ]
  },
  {
   "cell_type": "markdown",
   "metadata": {},
   "source": [
    "Check the status again:"
   ]
  },
  {
   "cell_type": "code",
   "execution_count": 22,
   "metadata": {},
   "outputs": [
    {
     "name": "stdout",
     "output_type": "stream",
     "text": [
      "\n",
      "################################################################################\n",
      "Snapshots:\n",
      "\tNumber of available snapshots: 16\n",
      "\tLatest resumable snapshot: 12\n"
     ]
    }
   ],
   "source": [
    "sim.status(mode='snapshots')"
   ]
  },
  {
   "cell_type": "markdown",
   "metadata": {},
   "source": [
    "Once the running is finished you will get:"
   ]
  },
  {
   "cell_type": "code",
   "execution_count": 58,
   "metadata": {},
   "outputs": [
    {
     "name": "stdout",
     "output_type": "stream",
     "text": [
      "\n",
      "################################################################################\n",
      "Running status of the process:\n",
      "\tThe process has ended with termination code 0.\n"
     ]
    }
   ],
   "source": [
    "sim.status(mode='isrunning')"
   ]
  },
  {
   "cell_type": "markdown",
   "metadata": {},
   "source": [
    "## What's new\n"
   ]
  },
  {
   "cell_type": "markdown",
   "metadata": {},
   "source": [
    "Version 0.1.*:\n",
    "\n",
    "- Package is now provided with a script 'ifargopy' to run 'ipython' with fargopy initialized.\n",
    "- A new 'progress' mode has been added to status method.\n",
    "- All the dynamics of loading/compiling/running/stoppìng/resuming FARGO3D has been developed.\n",
    "\n",
    "Version 0.0.*:\n",
    "\n",
    "- First classes created.\n",
    "- The project is started!"
   ]
  },
  {
   "cell_type": "markdown",
   "metadata": {},
   "source": [
    "------------\n",
    "\n",
    "This package has been designed and written mostly by Jorge I. Zuluaga with advising and contributions by Matías Montesinos (C) 2023\n"
   ]
  }
 ],
 "metadata": {
  "kernelspec": {
   "display_name": "base",
   "language": "python",
   "name": "python3"
  },
  "language_info": {
   "codemirror_mode": {
    "name": "ipython",
    "version": 3
   },
   "file_extension": ".py",
   "mimetype": "text/x-python",
   "name": "python",
   "nbconvert_exporter": "python",
   "pygments_lexer": "ipython3",
   "version": "3.9.16"
  }
 },
 "nbformat": 4,
 "nbformat_minor": 2
}
