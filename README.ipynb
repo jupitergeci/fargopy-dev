{
 "cells": [
  {
   "cell_type": "markdown",
   "metadata": {},
   "source": [
    "# FARGOpy\n",
    "## Wrapping FRAGO3D"
   ]
  },
  {
   "cell_type": "markdown",
   "metadata": {},
   "source": [
    "<!-- This are visual tags that you may add to your package at the beginning with useful information on your package --> \n",
    "[![version](https://img.shields.io/pypi/v/fargopy?color=blue)](https://pypi.org/project/fargopy/)\n",
    "[![downloads](https://img.shields.io/pypi/dw/fargopy)](https://pypi.org/project/fargopy/)"
   ]
  },
  {
   "cell_type": "markdown",
   "metadata": {},
   "source": [
    "`FARGOpy` is a python wrapping for [`FARGO3D`](https://fargo3d.bitbucket.io/intro.html)., the well-knwon hydrodynamics and magnetohydrodynamics parallel code. This wrapping is intended to ensue the interaction with FARGO3D especially for those starting using the code, for instance for teaching and training purposes, but also provide functionalities for most advanced users in tasks related to the postprocessing of output files and plotting.\n",
    "\n",
    "This is an example of what can be done using `FARGOpy`:\n",
    "\n",
    "<p align=\"center\"><img src=\"https://github.com/seap-udea/fargopy/blob/main/gallery/fargo-animation.gif?raw=true\" alt=\"Animation\"\"/></p>"
   ]
  },
  {
   "cell_type": "markdown",
   "metadata": {},
   "source": [
    "## Install `FARGOpy` "
   ]
  },
  {
   "cell_type": "markdown",
   "metadata": {},
   "source": [
    "To install the package run:\n",
    "\n",
    "```bash\n",
    "$ pip3 install fargopy\n",
    "```\n",
    "\n",
    "Since `FARGOpy` is a python wrap for `FARGO3D` the ideal environment to work with the package is `IPython` or other similar environments such as `jupyter-lab`, `Google Colab`, etc. \n",
    "\n",
    "If you are working on a Linux server it is better to run the package for the first time using the `IPython` initialization command:\n",
    "\n",
    "```bash\n",
    "$ ifargopy\n",
    "```\n",
    "\n",
    "The first time you run this command, it will create the configuration directory `$HOME/.fargopy`. This directory contains a set of basic configuration variables `$HOME/.fargopy/fargopyrc`, that can be customized, and the `IPython` initialization script `$HOME/.fargopy/ifargopy.py`.\n",
    "\n",
    "If you are working in `Jupyter` or in `Google Colab`, the configuration directory and its content will be crated the first time you import the package:"
   ]
  },
  {
   "cell_type": "code",
   "execution_count": 1,
   "metadata": {},
   "outputs": [
    {
     "name": "stdout",
     "output_type": "stream",
     "text": [
      "Running FARGOpy version 0.2.1\n"
     ]
    }
   ],
   "source": [
    "import fargopy as fp\n",
    "%load_ext autoreload\n",
    "%autoreload 2"
   ]
  },
  {
   "cell_type": "markdown",
   "metadata": {},
   "source": [
    "## Download and install FARGO3D"
   ]
  },
  {
   "cell_type": "markdown",
   "metadata": {},
   "source": [
    "`FARGOpy` can be used either to *control* `FARGO3D`, ie. download, compile and run it, and/or read and manipulate the output of simulations.  In either case it would be convenient to obtain a copy of the package and all its prerequisites. For a detailed guide please see the [FARGO documentation](https://fargo3d.bitbucket.io/index.html) or the [project repo at bitbucket](https://bitbucket.org/fargo3d/public/src/ae0fcdc67bb7c83aed85fc9a4d4a2d5061324597/?at=release%2Fpublic). \n",
    "\n",
    "> **NOTE**: It is important to understand that `FARGO3D` works especially well on Linux plaforms (including `MacOS`). The same condition applies for `FARGOpy`. Because of that, most internal as well as public features of the packages are designed to work in a `Linux` environment. For working in another operating systems, for instance for teaching or training purposes, please consider to use virtual machines."
   ]
  },
  {
   "cell_type": "markdown",
   "metadata": {},
   "source": [
    "`FARGOpy` provides a simple way to get the latest version of `FARGO3D`. In the terminal run:\n",
    "\n",
    " ```shell\n",
    "$ ifargopy download\n",
    "```"
   ]
  },
  {
   "cell_type": "markdown",
   "metadata": {},
   "source": [
    "A copy of `FARGO3D` will be download in the HOME directory `~/fargo3d/`.\n",
    "\n",
    "If you are working in a `Jupyter` environment you may run:"
   ]
  },
  {
   "cell_type": "code",
   "execution_count": 56,
   "metadata": {},
   "outputs": [
    {
     "name": "stdout",
     "output_type": "stream",
     "text": [
      "Downloading FARGOpy...\n"
     ]
    },
    {
     "name": "stderr",
     "output_type": "stream",
     "text": [
      "Cloning into 'fargo3d'...\n"
     ]
    },
    {
     "name": "stdout",
     "output_type": "stream",
     "text": [
      "\tFARGO3D downloaded to /home/jzuluaga/fargo3d/\n",
      "Header file for FARGO3D is in the fargo directory /home/jzuluaga/fargo3d/\n"
     ]
    }
   ],
   "source": [
    "fp.initialize('download')"
   ]
  },
  {
   "cell_type": "markdown",
   "metadata": {},
   "source": [
    "> **NOTE**: As you may see the default directory where FARGO3D is download is `~/` and the name of the directory is `fargo3d`. You may change this by setting the configuration variables `FP_FARGO3D_BASEDIR` or `FP_FARGO3D_PACKDIR` brefore downloading the package."
   ]
  },
  {
   "cell_type": "markdown",
   "metadata": {},
   "source": [
    "## Quickstart"
   ]
  },
  {
   "cell_type": "markdown",
   "metadata": {},
   "source": [
    "Here we will illustrate the minimal commands you may run to test the package. A more detailed set of examples can be found in [this file](EXAMPLES.md). \n",
    "\n",
    "For this example we will assume that you already have a set of FARGO3D simulation results. You may download a precomputed set of results prepared by the developers of `FARGOpy` using the command: "
   ]
  },
  {
   "cell_type": "code",
   "execution_count": 57,
   "metadata": {},
   "outputs": [
    {
     "name": "stdout",
     "output_type": "stream",
     "text": [
      "Downloading fargo.tgz from cloud (compressed size around 55 MB) into /tmp\n",
      "Uncompressing fargo.tgz into /tmp/fargo\n",
      "Done.\n"
     ]
    },
    {
     "data": {
      "text/plain": [
       "'/tmp/fargo'"
      ]
     },
     "execution_count": 57,
     "metadata": {},
     "output_type": "execute_result"
    }
   ],
   "source": [
    "fp.Util.download_precomputed(setup='fargo')"
   ]
  },
  {
   "cell_type": "markdown",
   "metadata": {},
   "source": [
    "Create a simulation object:"
   ]
  },
  {
   "cell_type": "code",
   "execution_count": 10,
   "metadata": {},
   "outputs": [],
   "source": [
    "sim = fp.Simulation()"
   ]
  },
  {
   "cell_type": "markdown",
   "metadata": {},
   "source": [
    "Set the output directory (in this case, the directory where the precomputed simulation has been stored):"
   ]
  },
  {
   "cell_type": "code",
   "execution_count": 12,
   "metadata": {},
   "outputs": [
    {
     "name": "stdout",
     "output_type": "stream",
     "text": [
      "Now you are connected with output directory '/tmp/fargo'\n"
     ]
    }
   ],
   "source": [
    "sim.set_output_dir('/tmp/fargo')"
   ]
  },
  {
   "cell_type": "markdown",
   "metadata": {},
   "source": [
    "Load the properties of the simulation:"
   ]
  },
  {
   "cell_type": "code",
   "execution_count": 20,
   "metadata": {},
   "outputs": [
    {
     "name": "stdout",
     "output_type": "stream",
     "text": [
      "Loading variables\n",
      "84 variables loaded\n",
      "Simulation in 2 dimensions\n",
      "Loading domain in cylindrical coordinates:\n",
      "\tVariable phi: 384 [[0, -3.1334114227210694], [-1, 3.1334114227210694]]\n",
      "\tVariable r: 128 [[0, 0.408203125], [-1, 2.491796875]]\n",
      "\tVariable z: 1 [[0, 0.0], [-1, 0.0]]\n",
      "Number of snapshots in output directory: 51\n",
      "Configuration variables and domains load into the object. See e.g. <sim>.vars\n"
     ]
    }
   ],
   "source": [
    "sim.load_properties()"
   ]
  },
  {
   "cell_type": "markdown",
   "metadata": {},
   "source": [
    "Load gas density from a given snapshot:"
   ]
  },
  {
   "cell_type": "code",
   "execution_count": 46,
   "metadata": {},
   "outputs": [],
   "source": [
    "gasdens = sim.load_field('gasdens',snapshot=20)"
   ]
  },
  {
   "cell_type": "markdown",
   "metadata": {},
   "source": [
    "Create a `meshslice` of the field:"
   ]
  },
  {
   "cell_type": "code",
   "execution_count": 93,
   "metadata": {},
   "outputs": [],
   "source": [
    "gasdens_r, mesh = gasdens.meshslice(slice='z=0,phi=0')"
   ]
  },
  {
   "cell_type": "markdown",
   "metadata": {},
   "source": [
    "And plot the slice:"
   ]
  },
  {
   "cell_type": "code",
   "execution_count": 95,
   "metadata": {},
   "outputs": [],
   "source": [
    "import matplotlib.pyplot as plt\n",
    "plt.ioff() # Drop this out of this tutorial\n",
    "fig,ax = plt.subplots()\n",
    "ax.semilogy(mesh.r,gasdens_r)\n",
    "ax.set_xlabel(r\"$r$ [cu]\")\n",
    "ax.set_ylabel(r\"$\\rho$ [cu]\")\n",
    "fp.Util.fargopy_mark(ax)\n",
    "fig.savefig('gallery/example-dens_r.png') # Drop this out of this tutorial"
   ]
  },
  {
   "cell_type": "markdown",
   "metadata": {},
   "source": [
    "<p align=\"center\"><img src=\"https://github.com/seap-udea/fargopy/blob/main/gallery/example-dens_r.png?raw=true\" alt=\"Animation\"\"/></p>"
   ]
  },
  {
   "cell_type": "markdown",
   "metadata": {},
   "source": [
    "You may also create a 2-dimensional slice:"
   ]
  },
  {
   "cell_type": "code",
   "execution_count": 96,
   "metadata": {},
   "outputs": [],
   "source": [
    "gasdens_plane, mesh = gasdens.meshslice(slice='z=0')"
   ]
  },
  {
   "cell_type": "markdown",
   "metadata": {},
   "source": [
    "And plot it:"
   ]
  },
  {
   "cell_type": "code",
   "execution_count": 97,
   "metadata": {},
   "outputs": [],
   "source": [
    "plt.ioff() # Drop this out of this tutorial\n",
    "fig,axs = plt.subplots(1,2,figsize=(12,6))\n",
    "\n",
    "ax = axs[0]\n",
    "ax.pcolormesh(mesh.phi,mesh.r,gasdens_plane,cmap='prism')\n",
    "ax.set_xlabel('$\\phi$ [rad]')\n",
    "ax.set_ylabel('$r$ [UL]')\n",
    "fp.Util.fargopy_mark(ax)\n",
    "\n",
    "ax = axs[1]\n",
    "ax.pcolormesh(mesh.x,mesh.y,gasdens_plane,cmap='prism')\n",
    "ax.set_xlabel('$x$ [UL]')\n",
    "ax.set_ylabel('$y$ [UL]')\n",
    "fp.Util.fargopy_mark(ax)\n",
    "ax.axis('equal')\n",
    "fig.savefig('gallery/example-dens_disk.png') # Drop this out of this tutorial"
   ]
  },
  {
   "cell_type": "markdown",
   "metadata": {},
   "source": [
    "<p align=\"center\"><img src=\"https://github.com/seap-udea/fargopy/blob/main/gallery/example-dens_disk.png?raw=true\" alt=\"Animation\"\"/></p>"
   ]
  },
  {
   "cell_type": "markdown",
   "metadata": {},
   "source": [
    "## What's new\n"
   ]
  },
  {
   "cell_type": "markdown",
   "metadata": {},
   "source": [
    "Version 0.3.*:\n",
    "\n",
    "- Refactoring of initializing routines.\n",
    "- Improvements in documentation of basic classes in `__init__.py`.\n",
    "\n",
    "Version 0.2.*:\n",
    "\n",
    "- First real applications tested with FARGOpy.\n",
    "- All basic routines for reading output created.\n",
    "- Major refactoring. \n",
    "\n",
    "Version 0.1.*:\n",
    "\n",
    "- Package is now provided with a script 'ifargopy' to run 'ipython' with fargopy initialized.\n",
    "- A new 'progress' mode has been added to status method.\n",
    "- All the dynamics of loading/compiling/running/stoppìng/resuming FARGO3D has been developed.\n",
    "\n",
    "Version 0.0.*:\n",
    "\n",
    "- First classes created.\n",
    "- The project is started!"
   ]
  },
  {
   "cell_type": "markdown",
   "metadata": {},
   "source": [
    "------------\n",
    "\n",
    "This package has been designed and written mostly by Jorge I. Zuluaga with advising and contributions by Matías Montesinos (C) 2023\n"
   ]
  }
 ],
 "metadata": {
  "kernelspec": {
   "display_name": "base",
   "language": "python",
   "name": "python3"
  },
  "language_info": {
   "codemirror_mode": {
    "name": "ipython",
    "version": 3
   },
   "file_extension": ".py",
   "mimetype": "text/x-python",
   "name": "python",
   "nbconvert_exporter": "python",
   "pygments_lexer": "ipython3",
   "version": "3.10.12"
  }
 },
 "nbformat": 4,
 "nbformat_minor": 2
}
