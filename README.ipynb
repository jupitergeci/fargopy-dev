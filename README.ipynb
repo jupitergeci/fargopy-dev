{
 "cells": [
  {
   "cell_type": "markdown",
   "metadata": {},
   "source": [
    "# FARGOpy\n",
    "## Wrapping FRAGO3D"
   ]
  },
  {
   "cell_type": "markdown",
   "metadata": {},
   "source": [
    "<!-- This are visual tags that you may add to your package at the beginning with useful information on your package --> \n",
    "[![version](https://img.shields.io/pypi/v/fargopy?color=blue)](https://pypi.org/project/fargopy/)\n",
    "[![downloads](https://img.shields.io/pypi/dw/fargopy)](https://pypi.org/project/fargopy/)"
   ]
  },
  {
   "cell_type": "markdown",
   "metadata": {},
   "source": [
    "`FARGOpy` is a python wrapping for [`FARGO3D`](https://fargo3d.bitbucket.io/intro.html)., the well-knwon hydrodynamics and magnetohydrodynamics parallel code. This wrapping is intended to ensue the interaction with FARGO3D especially for those starting using the code, for instance for teaching and training purposes, but also provide functionalities for most advanced users in tasks related to the postprocessing of output files and plotting.\n",
    "\n",
    "This is an example of what can be done using `FARGOpy`:\n",
    "\n",
    "<p align=\"center\"><img src=\"https://github.com/seap-udea/fargopy/blob/main/gallery/fargo-animation.gif?raw=true\" alt=\"Animation\"\"/></p>"
   ]
  },
  {
   "cell_type": "markdown",
   "metadata": {},
   "source": [
    "## Install `FARGOpy` "
   ]
  },
  {
   "cell_type": "markdown",
   "metadata": {},
   "source": [
    "To install the package run:\n",
    "\n",
    "```bash\n",
    "$ pip3 install fargopy\n",
    "```\n",
    "\n",
    "Since `FARGOpy` is a python wrap for `FARGO3D` the ideal environment to work with the package is `IPython` or other similar environments such as `jupyter-lab`, `Google Colab`, etc. If you are working on a Linux server it is better to run the package for the first time using the `IPython` initialization command:\n",
    "\n",
    "```bash\n",
    "$ ifargopy\n",
    "```\n",
    "\n",
    "The first time you run this command, it will create the configuration directory of `FARGOpy` in `$HOME/.fargopy`. This directory contains a set of basic configuration variables `$HOME/.fargopy/fargopyrc` and the `IPython` initialization script `$HOME/.fargopy/ifargopy.py`.\n",
    "\n",
    "If you are working in `Jupyter` or in `Google Colab`, the configuration directory and its content will be crated the first time you import the package:"
   ]
  },
  {
   "cell_type": "code",
   "execution_count": 1,
   "metadata": {},
   "outputs": [
    {
     "name": "stdout",
     "output_type": "stream",
     "text": [
      "Running FARGOpy version 0.2.1\n"
     ]
    }
   ],
   "source": [
    "import fargopy as fp"
   ]
  },
  {
   "cell_type": "markdown",
   "metadata": {},
   "source": [
    "## Download and install FARGO3D"
   ]
  },
  {
   "cell_type": "markdown",
   "metadata": {},
   "source": [
    "For using `FARGOpy` you first need to download and install `FARGO3D` and all its prerequisites. For a detailed guide please see the [FARGO documentation](https://fargo3d.bitbucket.io/index.html) or the [project repo at bitbucket](https://bitbucket.org/fargo3d/public/src/ae0fcdc67bb7c83aed85fc9a4d4a2d5061324597/?at=release%2Fpublic). Still, `FARGOpy` provides some useful commands and tools to test the platform on which you are working and check if it is prepared to use the whole functionalities of the packages or part of them.\n",
    "\n",
    "> **NOTE**: It is important to understand that `FARGO3D` works especially well on Linux plaforms (including `MacOS`). The same condition applies for `FARGOpy`. Because of that, most internal as well as public features of the packages are designed to work in a `Linux` environment. For working in another operating systems, for instance for teaching or training purposes, please consider to use virtual machines."
   ]
  },
  {
   "cell_type": "markdown",
   "metadata": {},
   "source": [
    "Still, `fargopy` provides a simple way to get the latest version of `FARGO3D`. For this just run in the terminal:\n",
    "\n",
    " ```shell\n",
    "$ ifargopy download\n",
    "```"
   ]
  },
  {
   "cell_type": "markdown",
   "metadata": {},
   "source": [
    "A copy of `FARGO3D` will be download in the directory where the command is executed with the name `./fargo3d/`"
   ]
  },
  {
   "cell_type": "markdown",
   "metadata": {},
   "source": [
    "## Quickstart"
   ]
  },
  {
   "cell_type": "markdown",
   "metadata": {},
   "source": [
    "There are three modalities for using `fargopy`:\n",
    "\n",
    "1. **FARGO3D expert**. In this modality you already have a `FARGO3D` installation and want to use `fargopy` to manipulate input and output files.\n",
    "\n",
    "2. **FARGO3D newbie**. In this modality you are starting to use `FARGO3D` and want to use some of the tools available in `fargopy` to compile, run and analyse the output.\n",
    "\n",
    "3. Something in the middle.\n",
    "\n",
    "In the following we will explain the basic functionalities that might result useful in each modality.\n"
   ]
  },
  {
   "cell_type": "markdown",
   "metadata": {},
   "source": [
    "For this quickstart let's load these utilities:"
   ]
  },
  {
   "cell_type": "code",
   "execution_count": 1,
   "metadata": {},
   "outputs": [],
   "source": [
    "import numpy as np\n",
    "import matplotlib.pyplot as plt\n",
    "from IPython.display import HTML"
   ]
  },
  {
   "cell_type": "markdown",
   "metadata": {},
   "source": [
    "### `FARGO3D` expert mode"
   ]
  },
  {
   "cell_type": "markdown",
   "metadata": {},
   "source": [
    "To use `fargopy` in the case that you already have some simulation results, run the `ifargopy` script:\n",
    "\n",
    "```shell\n",
    "$ ifargopy\n",
    "```"
   ]
  },
  {
   "cell_type": "markdown",
   "metadata": {},
   "source": [
    "This command will start a session of `IPython` and initialize `fargopy`. Alternatively you may prefer to work in a `Jupyter` notebook. In both cases, the first thing to do is to import `fargopy`."
   ]
  },
  {
   "cell_type": "code",
   "execution_count": 2,
   "metadata": {},
   "outputs": [
    {
     "name": "stdout",
     "output_type": "stream",
     "text": [
      "Running FARGOpy version 0.2.1\n"
     ]
    }
   ],
   "source": [
    "import fargopy as fp\n",
    "from fargopy import DEG, RAD\n",
    "%load_ext autoreload\n",
    "%autoreload 2"
   ]
  },
  {
   "cell_type": "markdown",
   "metadata": {},
   "source": [
    "When you run `fargopy` from the command line using `ifargopy` the previous import command is included in the initialization script."
   ]
  },
  {
   "cell_type": "markdown",
   "metadata": {},
   "source": [
    "> **NOTE**: For the purpose of this example, we will assume that you already have a copy of `FARGO3D` in a directory named `./fargo3d/`. Additionally we assume that for illustration purposes you have ran the `fargo` setup and have all or part of the outputs in the folder `./fargo3d/outputs/fargo`. If you have never used fargo3d, and still want to use this part of the Quickstart, ran these commands in the terminal (still, a more detailed guide to `FARGO3D` and how to compile, configure and run it is described in the *newbie* section of this Quickstart):\n",
    "\n",
    "```shell\n",
    "ifargopy download\n",
    "cd fargo3d/\n",
    "make SETUP=fargo\n",
    "./fargo3d setups/fargo/fargo.par\n",
    "```"
   ]
  },
  {
   "cell_type": "markdown",
   "metadata": {},
   "source": [
    "#### Basic commands"
   ]
  },
  {
   "cell_type": "markdown",
   "metadata": {},
   "source": [
    "Any operation in `fargopy` requires the creation of a simulation:"
   ]
  },
  {
   "cell_type": "code",
   "execution_count": 3,
   "metadata": {},
   "outputs": [],
   "source": [
    "sim = fp.Simulation()"
   ]
  },
  {
   "cell_type": "markdown",
   "metadata": {},
   "source": [
    "Set the directory where the outputs are located: "
   ]
  },
  {
   "cell_type": "code",
   "execution_count": 4,
   "metadata": {},
   "outputs": [
    {
     "name": "stdout",
     "output_type": "stream",
     "text": [
      "Now you are connected with output directory './fargo3d/outputs/fargo'\n"
     ]
    }
   ],
   "source": [
    "sim.set_output_dir('./fargo3d/outputs/fargo')"
   ]
  },
  {
   "cell_type": "markdown",
   "metadata": {},
   "source": [
    "List the files available in the output directory:"
   ]
  },
  {
   "cell_type": "code",
   "execution_count": 5,
   "metadata": {},
   "outputs": [
    {
     "name": "stdout",
     "output_type": "stream",
     "text": [
      "271 files in output directory\n",
      "IDL.var, bigplanet0.dat, dims.dat, domain_x.dat, domain_y.dat, domain_z.dat, gasdens0.dat, gasdens0_2d.dat, gasdens1.dat, gasdens10.dat, \n",
      "gasdens11.dat, gasdens12.dat, gasdens13.dat, gasdens14.dat, gasdens15.dat, gasdens16.dat, gasdens17.dat, gasdens18.dat, gasdens19.dat, gasdens2.dat, \n",
      "gasdens20.dat, gasdens21.dat, gasdens22.dat, gasdens23.dat, gasdens24.dat, gasdens25.dat, gasdens26.dat, gasdens27.dat, gasdens28.dat, gasdens29.dat, \n",
      "gasdens3.dat, gasdens30.dat, gasdens31.dat, gasdens32.dat, gasdens33.dat, gasdens34.dat, gasdens35.dat, gasdens36.dat, gasdens37.dat, gasdens38.dat, \n",
      "gasdens39.dat, gasdens4.dat, gasdens40.dat, gasdens41.dat, gasdens42.dat, gasdens43.dat, gasdens44.dat, gasdens45.dat, gasdens46.dat, gasdens47.dat, \n",
      "gasdens48.dat, gasdens49.dat, gasdens5.dat, gasdens50.dat, gasdens6.dat, gasdens7.dat, gasdens8.dat, gasdens9.dat, gasenergy0.dat, gasenergy1.dat, \n",
      "gasenergy10.dat, gasenergy11.dat, gasenergy12.dat, gasenergy13.dat, gasenergy14.dat, gasenergy15.dat, gasenergy16.dat, gasenergy17.dat, gasenergy18.dat, gasenergy19.dat, \n",
      "gasenergy2.dat, gasenergy20.dat, gasenergy21.dat, gasenergy22.dat, gasenergy23.dat, gasenergy24.dat, gasenergy25.dat, gasenergy26.dat, gasenergy27.dat, gasenergy28.dat, \n",
      "gasenergy29.dat, gasenergy3.dat, gasenergy30.dat, gasenergy31.dat, gasenergy32.dat, gasenergy33.dat, gasenergy34.dat, gasenergy35.dat, gasenergy36.dat, gasenergy37.dat, \n",
      "gasenergy38.dat, gasenergy39.dat, gasenergy4.dat, gasenergy40.dat, gasenergy41.dat, gasenergy42.dat, gasenergy43.dat, gasenergy44.dat, gasenergy45.dat, gasenergy46.dat, \n",
      "gasenergy47.dat, gasenergy48.dat, gasenergy49.dat, gasenergy5.dat, gasenergy50.dat, gasenergy6.dat, gasenergy7.dat, gasenergy8.dat, gasenergy9.dat, gasvx0.dat, \n",
      "gasvx0_2d.dat, gasvx1.dat, gasvx10.dat, gasvx11.dat, gasvx12.dat, gasvx13.dat, gasvx14.dat, gasvx15.dat, gasvx16.dat, gasvx17.dat, \n",
      "gasvx18.dat, gasvx19.dat, gasvx2.dat, gasvx20.dat, gasvx21.dat, gasvx22.dat, gasvx23.dat, gasvx24.dat, gasvx25.dat, gasvx26.dat, \n",
      "gasvx27.dat, gasvx28.dat, gasvx29.dat, gasvx3.dat, gasvx30.dat, gasvx31.dat, gasvx32.dat, gasvx33.dat, gasvx34.dat, gasvx35.dat, \n",
      "gasvx36.dat, gasvx37.dat, gasvx38.dat, gasvx39.dat, gasvx4.dat, gasvx40.dat, gasvx41.dat, gasvx42.dat, gasvx43.dat, gasvx44.dat, \n",
      "gasvx45.dat, gasvx46.dat, gasvx47.dat, gasvx48.dat, gasvx49.dat, gasvx5.dat, gasvx50.dat, gasvx6.dat, gasvx7.dat, gasvx8.dat, \n",
      "gasvx9.dat, gasvy0.dat, gasvy0_2d.dat, gasvy1.dat, gasvy10.dat, gasvy11.dat, gasvy12.dat, gasvy13.dat, gasvy14.dat, gasvy15.dat, \n",
      "gasvy16.dat, gasvy17.dat, gasvy18.dat, gasvy19.dat, gasvy2.dat, gasvy20.dat, gasvy21.dat, gasvy22.dat, gasvy23.dat, gasvy24.dat, \n",
      "gasvy25.dat, gasvy26.dat, gasvy27.dat, gasvy28.dat, gasvy29.dat, gasvy3.dat, gasvy30.dat, gasvy31.dat, gasvy32.dat, gasvy33.dat, \n",
      "gasvy34.dat, gasvy35.dat, gasvy36.dat, gasvy37.dat, gasvy38.dat, gasvy39.dat, gasvy4.dat, gasvy40.dat, gasvy41.dat, gasvy42.dat, \n",
      "gasvy43.dat, gasvy44.dat, gasvy45.dat, gasvy46.dat, gasvy47.dat, gasvy48.dat, gasvy49.dat, gasvy5.dat, gasvy50.dat, gasvy6.dat, \n",
      "gasvy7.dat, gasvy8.dat, gasvy9.dat, monitor, orbit0.dat, outputgas.dat, planet0.dat, summary0.dat, summary1.dat, summary10.dat, \n",
      "summary11.dat, summary12.dat, summary13.dat, summary14.dat, summary15.dat, summary16.dat, summary17.dat, summary18.dat, summary19.dat, summary2.dat, \n",
      "summary20.dat, summary21.dat, summary22.dat, summary23.dat, summary24.dat, summary25.dat, summary26.dat, summary27.dat, summary28.dat, summary29.dat, \n",
      "summary3.dat, summary30.dat, summary31.dat, summary32.dat, summary33.dat, summary34.dat, summary35.dat, summary36.dat, summary37.dat, summary38.dat, \n",
      "summary39.dat, summary4.dat, summary40.dat, summary41.dat, summary42.dat, summary43.dat, summary44.dat, summary45.dat, summary46.dat, summary47.dat, \n",
      "summary48.dat, summary49.dat, summary5.dat, summary50.dat, summary6.dat, summary7.dat, summary8.dat, summary9.dat, tqwk0.dat, used_rad.dat, \n",
      "variables.par, \n"
     ]
    }
   ],
   "source": [
    "outputs = sim.list_outputs()"
   ]
  },
  {
   "cell_type": "markdown",
   "metadata": {},
   "source": [
    "The files describing the basic properties of the simulations are `dims.dat`, `variables.par` and `domain_*.dat`. You may load the information in these files:"
   ]
  },
  {
   "cell_type": "code",
   "execution_count": 6,
   "metadata": {},
   "outputs": [
    {
     "name": "stdout",
     "output_type": "stream",
     "text": [
      "Loading variables\n",
      "84 variables loaded\n",
      "Simulation in 2 dimensions\n",
      "Loading domain in cylindrical coordinates:\n",
      "\tVariable phi: 384 [[0, -3.1334114227210694], [-1, 3.1334114227210694]]\n",
      "\tVariable r: 128 [[0, 0.408203125], [-1, 2.491796875]]\n",
      "\tVariable z: 1 [[0, 0.0], [-1, 0.0]]\n",
      "Configuration variables and domains load into the object. See e.g. <sim>.vars\n"
     ]
    }
   ],
   "source": [
    "sim.load_properties()"
   ]
  },
  {
   "cell_type": "markdown",
   "metadata": {},
   "source": [
    "#### Load field data into memory"
   ]
  },
  {
   "cell_type": "markdown",
   "metadata": {},
   "source": [
    "The outputs of a simulation are given as datafiles containing the value of different fields in the coordinate grid. You can load a single field:"
   ]
  },
  {
   "cell_type": "code",
   "execution_count": 7,
   "metadata": {},
   "outputs": [
    {
     "data": {
      "text/plain": [
       "([[[0.00063662 0.00063662 0.00063662 ... 0.00063662 0.00063662 0.00063662]\n",
       "   [0.00063662 0.00063662 0.00063662 ... 0.00063662 0.00063662 0.00063662]\n",
       "   [0.00063662 0.00063662 0.00063662 ... 0.00063662 0.00063662 0.00063662]\n",
       "   ...\n",
       "   [0.00063662 0.00063662 0.00063662 ... 0.00063662 0.00063662 0.00063662]\n",
       "   [0.00063662 0.00063662 0.00063662 ... 0.00063662 0.00063662 0.00063662]\n",
       "   [0.00063662 0.00063662 0.00063662 ... 0.00063662 0.00063662 0.00063662]]],\n",
       " (1, 128, 384))"
      ]
     },
     "execution_count": 7,
     "metadata": {},
     "output_type": "execute_result"
    }
   ],
   "source": [
    "gasdens0 = sim.load_field('gasdens',snapshot=0)\n",
    "gasdens0, gasdens0.data.shape"
   ]
  },
  {
   "cell_type": "markdown",
   "metadata": {},
   "source": [
    "As you can see, fields are loaded as special `Field` objects (see `fp.Field?` for a list of attributes and methods), whose most important attribute is `data` which is the `numpy` array containing the values of the field in the coordinate domain."
   ]
  },
  {
   "cell_type": "markdown",
   "metadata": {},
   "source": [
    "Vectorial fields are special cases. In `FARGO3D` each component of the field is separated by file suffixes such as `x`, `y` and `z` (even if you are working in different coordinate systems). `fargopy` is able to load all components if a vector field using:"
   ]
  },
  {
   "cell_type": "code",
   "execution_count": 8,
   "metadata": {},
   "outputs": [
    {
     "data": {
      "text/plain": [
       "(2, 1, 128, 384)"
      ]
     },
     "execution_count": 8,
     "metadata": {},
     "output_type": "execute_result"
    }
   ],
   "source": [
    "vel = sim.load_field('gasv',snapshot=0,type='vector')\n",
    "vel.data.shape"
   ]
  },
  {
   "cell_type": "markdown",
   "metadata": {},
   "source": [
    "As you can see, the first index correspond to the component of the field (`x` and `y` in the `FARGO3D` convention, but actually `phi` and `r` in cylindrical coordinates). The second index is the `z` coordinate, the third the `y` coordinate (`r` in the cylindrical system of coordinates) and the fourh is the `z` coordinate (`phi` in the cylindrical system of coordinates)."
   ]
  },
  {
   "cell_type": "markdown",
   "metadata": {},
   "source": [
    "Depending on the size of the outputs, you can also load all physical fields in the output associated to a given fluid. Use this method with caution:"
   ]
  },
  {
   "cell_type": "code",
   "execution_count": 9,
   "metadata": {},
   "outputs": [
    {
     "data": {
      "text/plain": [
       "(['gasdens', 'gasenergy', 'gasvx', 'gasvy', 'size'], 1.5)"
      ]
     },
     "execution_count": 9,
     "metadata": {},
     "output_type": "execute_result"
    }
   ],
   "source": [
    "fields0 = sim.load_allfields('gas',snapshot=0)\n",
    "fields0.keys(), fields0.size"
   ]
  },
  {
   "cell_type": "markdown",
   "metadata": {},
   "source": [
    "Size here is given in Megabytes."
   ]
  },
  {
   "cell_type": "markdown",
   "metadata": {},
   "source": [
    "If you want all the fields drop the `snapshot` option (or set in `None`):"
   ]
  },
  {
   "cell_type": "code",
   "execution_count": 10,
   "metadata": {},
   "outputs": [
    {
     "name": "stdout",
     "output_type": "stream",
     "text": [
      "0, 1, 10, 11, 12, 13, 14, 15, 16, 17, \n",
      "18, 19, 2, 20, 21, 22, 23, 24, 25, 26, \n",
      "27, 28, 29, 3, 30, 31, 32, 33, 34, 35, \n",
      "36, 37, 38, 39, 4, 40, 41, 42, 43, 44, \n",
      "45, 46, 47, 48, 49, 5, 50, 6, 7, 8, \n",
      "9, snapshots, size\n"
     ]
    },
    {
     "data": {
      "text/plain": [
       "(['gasdens', 'gasenergy', 'gasvx', 'gasvy'], 76.5)"
      ]
     },
     "execution_count": 10,
     "metadata": {},
     "output_type": "execute_result"
    }
   ],
   "source": [
    "fields = sim.load_allfields('gas')\n",
    "fields.print_keys()\n",
    "fields.item('0').keys(), fields.size"
   ]
  },
  {
   "cell_type": "code",
   "execution_count": 11,
   "metadata": {},
   "outputs": [
    {
     "data": {
      "text/plain": [
       "(1, 128, 384)"
      ]
     },
     "execution_count": 11,
     "metadata": {},
     "output_type": "execute_result"
    }
   ],
   "source": [
    "fields.item('0').gasdens.data.shape"
   ]
  },
  {
   "cell_type": "markdown",
   "metadata": {},
   "source": [
    "As you may see, the size of the fields start to be considerable large (36 MB in this case), so it is important to not abusing of this command."
   ]
  },
  {
   "cell_type": "markdown",
   "metadata": {},
   "source": [
    "#### Field slices"
   ]
  },
  {
   "cell_type": "markdown",
   "metadata": {},
   "source": [
    "Once you have loaded a given field you may want to extract a slice for plotting. Let's for instance plot the density as a function of distance in the example simulation at a given snapshot:"
   ]
  },
  {
   "cell_type": "code",
   "execution_count": 12,
   "metadata": {},
   "outputs": [
    {
     "data": {
      "text/plain": [
       "(1, 128, 384)"
      ]
     },
     "execution_count": 12,
     "metadata": {},
     "output_type": "execute_result"
    }
   ],
   "source": [
    "gasdens10 = sim.load_field('gasdens',snapshot=10)\n",
    "gasdens10.data.shape"
   ]
  },
  {
   "cell_type": "markdown",
   "metadata": {},
   "source": [
    "Let's extract the density of the gas at `phi=0` and `z=0`:"
   ]
  },
  {
   "cell_type": "code",
   "execution_count": 13,
   "metadata": {},
   "outputs": [
    {
     "data": {
      "text/plain": [
       "(128,)"
      ]
     },
     "execution_count": 13,
     "metadata": {},
     "output_type": "execute_result"
    }
   ],
   "source": [
    "gasdens_r = gasdens10.slice(phi=0,z=0)\n",
    "gasdens_r.shape"
   ]
  },
  {
   "cell_type": "markdown",
   "metadata": {},
   "source": [
    "And plot:"
   ]
  },
  {
   "cell_type": "code",
   "execution_count": 14,
   "metadata": {},
   "outputs": [
    {
     "data": {
      "image/png": "[encoded data removed]",
      "text/plain": [
       "<Figure size 640x480 with 1 Axes>"
      ]
     },
     "metadata": {},
     "output_type": "display_data"
    }
   ],
   "source": [
    "plt.ioff()\n",
    "fig,ax = plt.subplots()\n",
    "ax.semilogy(sim.domains.r,gasdens_r)\n",
    "ax.set_xlabel(r\"$r$ [cu]\")\n",
    "ax.set_ylabel(r\"$\\rho$ [cu]\")\n",
    "fp.Util.fargopy_mark(ax);\n",
    "fig.savefig('gallery/example-dens_r.png')"
   ]
  },
  {
   "cell_type": "markdown",
   "metadata": {},
   "source": [
    "<p align=\"center\"><img src=\"https://github.com/seap-udea/fargopy/blob/main/gallery/example-dens_r.png?raw=true\" alt=\"Animation\"\"/></p>"
   ]
  },
  {
   "cell_type": "markdown",
   "metadata": {},
   "source": [
    "We can do this in a single step with `fargopy`:"
   ]
  },
  {
   "cell_type": "code",
   "execution_count": 15,
   "metadata": {},
   "outputs": [],
   "source": [
    "gasdens, mesh = gasdens10.meshslice(slice='z=0,phi=0')"
   ]
  },
  {
   "cell_type": "markdown",
   "metadata": {},
   "source": [
    "The object `mesh` now contains matrices of the coordinates:"
   ]
  },
  {
   "cell_type": "code",
   "execution_count": 16,
   "metadata": {},
   "outputs": [
    {
     "data": {
      "text/plain": [
       "['r', 'phi', 'x', 'y', 'z']"
      ]
     },
     "execution_count": 16,
     "metadata": {},
     "output_type": "execute_result"
    }
   ],
   "source": [
    "mesh.keys()"
   ]
  },
  {
   "cell_type": "markdown",
   "metadata": {},
   "source": [
    "If you are plotting `r` vs. `gasdens` the plot will be:"
   ]
  },
  {
   "cell_type": "code",
   "execution_count": 17,
   "metadata": {},
   "outputs": [],
   "source": [
    "plt.ioff()\n",
    "fig,ax = plt.subplots()\n",
    "ax.semilogy(mesh.r,gasdens)\n",
    "ax.set_xlabel(r\"$r$ [cu]\")\n",
    "ax.set_ylabel(r\"$\\rho$ [cu]\")\n",
    "fp.Util.fargopy_mark(ax)\n",
    "fig.savefig('gallery/example-dens_r.png')"
   ]
  },
  {
   "cell_type": "markdown",
   "metadata": {},
   "source": [
    "<p align=\"center\"><img src=\"https://github.com/seap-udea/fargopy/blob/main/gallery/example-dens_r.png?raw=true\" alt=\"Animation\"\"/></p>"
   ]
  },
  {
   "cell_type": "markdown",
   "metadata": {},
   "source": [
    "This simple procedure reduce considerably the creation of more complex plots, for instance, a map of the density in different planes:"
   ]
  },
  {
   "cell_type": "code",
   "execution_count": 18,
   "metadata": {},
   "outputs": [],
   "source": [
    "gasdens, mesh = gasdens10.meshslice(slice='z=0')"
   ]
  },
  {
   "cell_type": "markdown",
   "metadata": {},
   "source": [
    "And plot it:"
   ]
  },
  {
   "cell_type": "code",
   "execution_count": 19,
   "metadata": {},
   "outputs": [],
   "source": [
    "plt.ioff()\n",
    "fig,axs = plt.subplots(1,2,figsize=(12,6))\n",
    "\n",
    "ax = axs[0]\n",
    "ax.pcolormesh(mesh.phi*RAD,mesh.r*sim.UL/fp.AU,gasdens,cmap='prism')\n",
    "ax.set_xlabel('$\\phi$ [deg]')\n",
    "ax.set_ylabel('$r$ [au]')\n",
    "fp.Util.fargopy_mark(ax)\n",
    "\n",
    "ax = axs[1]\n",
    "ax.pcolormesh(mesh.x*sim.UL/fp.AU,mesh.y*sim.UL/fp.AU,\n",
    "              gasdens,cmap='prism')\n",
    "ax.set_xlabel('$x$ [au]')\n",
    "ax.set_ylabel('$y$ [au]')\n",
    "fp.Util.fargopy_mark(ax)\n",
    "ax.axis('equal')\n",
    "fig.savefig('gallery/example-dens_disk.png')"
   ]
  },
  {
   "cell_type": "markdown",
   "metadata": {},
   "source": [
    "<p align=\"center\"><img src=\"https://github.com/seap-udea/fargopy/blob/main/gallery/example-dens_disk.png?raw=true\" alt=\"Animation\"\"/></p>"
   ]
  },
  {
   "cell_type": "markdown",
   "metadata": {},
   "source": [
    "Let's create an animation for illustrating how easy `FARGOpy` make life:"
   ]
  },
  {
   "cell_type": "code",
   "execution_count": 39,
   "metadata": {},
   "outputs": [
    {
     "name": "stdout",
     "output_type": "stream",
     "text": [
      "Now you are connected with output directory './fargo3d/outputs/fargo'\n",
      "Loading variables\n",
      "84 variables loaded\n",
      "Simulation in 2 dimensions\n",
      "Loading domain in cylindrical coordinates:\n",
      "\tVariable phi: 384 [[0, -3.1334114227210694], [-1, 3.1334114227210694]]\n",
      "\tVariable r: 128 [[0, 0.408203125], [-1, 2.491796875]]\n",
      "\tVariable z: 1 [[0, 0.0], [-1, 0.0]]\n",
      "Configuration variables and domains load into the object. See e.g. <sim>.vars\n"
     ]
    },
    {
     "name": "stderr",
     "output_type": "stream",
     "text": [
      "100%|██████████| 51/51 [00:01<00:00, 38.16it/s]\n"
     ]
    }
   ],
   "source": [
    "plt.ioff()\n",
    "from celluloid import Camera\n",
    "from tqdm import tqdm\n",
    "\n",
    "sim = fp.Simulation()\n",
    "sim.set_output_dir('./fargo3d/outputs/fargo')\n",
    "sim.load_properties()\n",
    "\n",
    "gasdens_all = sim.load_allfields('gasdens')\n",
    "fig,axs = plt.subplots(1,2,figsize=(12,6))\n",
    "\n",
    "cmap = 'prism'\n",
    "camera = Camera(fig)\n",
    "for snapshot in tqdm(gasdens_all.snapshots):\n",
    "    gasdens_snap = gasdens_all.item(str(snapshot)).gasdens\n",
    "    gasdens,mesh = gasdens_snap.meshslice(slice='z=0')\n",
    "\n",
    "    ax = axs[0]\n",
    "    ax.pcolormesh(mesh.phi*RAD,mesh.r*sim.UL/fp.AU,gasdens,cmap=cmap)\n",
    "    ax.set_xlabel('$\\phi$ [deg]')\n",
    "    ax.set_ylabel('$r$ [au]')\n",
    "\n",
    "    ax = axs[1]\n",
    "    ax.pcolormesh(mesh.x*sim.UL/fp.AU,mesh.y*sim.UL/fp.AU,gasdens,cmap=cmap)\n",
    "    ax.set_xlabel('$x$ [au]')\n",
    "    ax.set_ylabel('$y$ [au]')\n",
    "    fp.Util.fargopy_mark(ax)\n",
    "\n",
    "    camera.snap()\n",
    "\n",
    "animation = camera.animate()\n",
    "animation.save('gallery/fargo-animation.gif')"
   ]
  },
  {
   "cell_type": "markdown",
   "metadata": {},
   "source": [
    "<p align=\"center\"><img src=\"https://github.com/seap-udea/fargopy/blob/main/gallery/fargo-animation.gif?raw=true\" alt=\"Animation\"\"/></p>"
   ]
  },
  {
   "cell_type": "markdown",
   "metadata": {},
   "source": [
    "### `FARGO3D` for newbies"
   ]
  },
  {
   "cell_type": "markdown",
   "metadata": {},
   "source": [
    "This section is under development."
   ]
  },
  {
   "cell_type": "markdown",
   "metadata": {},
   "source": [
    "## What's new\n"
   ]
  },
  {
   "cell_type": "markdown",
   "metadata": {},
   "source": [
    "Version 0.2.*:\n",
    "\n",
    "- First real applications tested with FARGOpy.\n",
    "- All basic routines for reading output created.\n",
    "- Major refactoring. \n",
    "\n",
    "Version 0.1.*:\n",
    "\n",
    "- Package is now provided with a script 'ifargopy' to run 'ipython' with fargopy initialized.\n",
    "- A new 'progress' mode has been added to status method.\n",
    "- All the dynamics of loading/compiling/running/stoppìng/resuming FARGO3D has been developed.\n",
    "\n",
    "Version 0.0.*:\n",
    "\n",
    "- First classes created.\n",
    "- The project is started!"
   ]
  },
  {
   "cell_type": "markdown",
   "metadata": {},
   "source": [
    "------------\n",
    "\n",
    "This package has been designed and written mostly by Jorge I. Zuluaga with advising and contributions by Matías Montesinos (C) 2023\n"
   ]
  }
 ],
 "metadata": {
  "kernelspec": {
   "display_name": "base",
   "language": "python",
   "name": "python3"
  },
  "language_info": {
   "codemirror_mode": {
    "name": "ipython",
    "version": 3
   },
   "file_extension": ".py",
   "mimetype": "text/x-python",
   "name": "python",
   "nbconvert_exporter": "python",
   "pygments_lexer": "ipython3",
   "version": "3.10.12"
  }
 },
 "nbformat": 4,
 "nbformat_minor": 2
}
