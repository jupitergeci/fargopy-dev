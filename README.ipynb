{
 "cells": [
  {
   "cell_type": "markdown",
   "metadata": {},
   "source": [
    "# FARGOpy\n",
    "## Wrapping FRAGO3D"
   ]
  },
  {
   "cell_type": "markdown",
   "metadata": {},
   "source": [
    "<!-- This are visual tags that you may add to your package at the beginning with useful information on your package --> \n",
    "[![version](https://img.shields.io/pypi/v/fargopy?color=blue)](https://pypi.org/project/fargopy/)\n",
    "[![downloads](https://img.shields.io/pypi/dw/fargopy)](https://pypi.org/project/fargopy/)"
   ]
  },
  {
   "cell_type": "markdown",
   "metadata": {},
   "source": [
    "`FARGOpy` is a python wrapping for [`FARGO3D`](https://fargo3d.bitbucket.io/intro.html), the well-knwon hydrodynamics and magnetohydrodynamics parallel code. This wrapping is intended to facillitate the interaction with FARGO3D, especially for those starting using the code. `FARGOpy` may be also useful for teaching and training purposes. For advanced users, `FARGOpy` provides useful functionalities in the postprocessing of simulation results, derivative calculations and plots.\n",
    "\n",
    "This is an animation created with a few lines of code using `FARGOpy` (for the code and other examples see [this tutorial](TUTORIAL.md)):\n",
    "\n",
    "<p align=\"center\"><img src=\"https://github.com/seap-udea/fargopy/blob/main/gallery/fargo-animation.gif?raw=true\" alt=\"Animation\"\"/></p>"
   ]
  },
  {
   "cell_type": "markdown",
   "metadata": {},
   "source": [
    "## Installing `FARGOpy` "
   ]
  },
  {
   "cell_type": "markdown",
   "metadata": {},
   "source": [
    "`FARGOpy` is available at the `Python` package index and can be installed using:\n",
    "\n",
    "```bash\n",
    "$ pip install fargopy\n",
    "```\n",
    "as usual this command will install all dependencies (excluding `FARGO3D` which must be installed indepently as explained before) and download some useful data, scripts and constants.\n",
    "\n",
    "Since `FARGOpy` is a python wrap for `FARGO3D` the ideal environment to work with the package is `IPython`/`Jupyter`. It works really fine in `Google Colab` ensuing training and demonstration purposes. \n",
    "\n",
    "If you are working in `Jupyter` or in `Google Colab`, the configuration directory and its content will be crated the first time you import the package:"
   ]
  },
  {
   "cell_type": "code",
   "execution_count": 1,
   "metadata": {},
   "outputs": [
    {
     "name": "stdout",
     "output_type": "stream",
     "text": [
      "Running FARGOpy version 0.3.0\n"
     ]
    }
   ],
   "source": [
    "import fargopy as fp\n",
    "\n",
    "# These lines are intented for developing purposes; drop them in your code\n",
    "%load_ext autoreload \n",
    "%autoreload 2"
   ]
  },
  {
   "cell_type": "markdown",
   "metadata": {},
   "source": [
    "If you are working on a remote Linux server, it is better to run the package using `IPython`. For this purpose, after installation, `FARGOpy` provides a special initialization command:\n",
    "\n",
    "```bash\n",
    "$ ifargopy\n",
    "```\n",
    "\n",
    "The first time you run this script, it will create a configuration directory `~/.fargopy` (with `~` the abbreviation for the home directory). This directory contains a set of basic configuration variables which are stored in the file `~/.fargopy/fargopyrc`. You may change this file if you want to customize the installation. The configuration directory also contains the `IPython` initialization script `~/.fargopy/ifargopy.py`."
   ]
  },
  {
   "cell_type": "markdown",
   "metadata": {},
   "source": [
    "## Downloading and installing FARGO3D"
   ]
  },
  {
   "cell_type": "markdown",
   "metadata": {},
   "source": [
    "It is important to understand that `FARGO3D` works especially well on Linux plaforms (including `MacOS`). The same condition applies for `FARGOpy`. Because of that, most of the internal as well as the public features of the packages are designed to work in a `Linux` environment. For working in other operating systems, especially on MS Windows, please consider using virtual machines ow WSL."
   ]
  },
  {
   "cell_type": "markdown",
   "metadata": {},
   "source": [
    "Being an independent project, `FARGOpy` is not provided with a working version of `FARGO3D`. You need to download the C package and their prerequisites (compilers, third-party libraries, etc.) and configure them, by yourself. For a detailed guide please see the [FARGO3D documentation](https://fargo3d.bitbucket.io/index.html) or the [project repo at bitbucket](https://bitbucket.org/fargo3d/public/src/ae0fcdc67bb7c83aed85fc9a4d4a2d5061324597/?at=release%2Fpublic). "
   ]
  },
  {
   "cell_type": "markdown",
   "metadata": {},
   "source": [
    "Still `FARGOpy` provides a simple way to get the latest version of the source code of `FARGO3D` from its public GitHub repository. The source code will be downloaded into the home directory and stored as `~/fargo3d/`. \n",
    "\n",
    "> **WARNING**: If you want to change the final location of the source code or the name of the `FARGO3D` directory,  before executing the following command, please change the corresponding configuration variables in `~/.fargopy/fargopyrc`"
   ]
  },
  {
   "cell_type": "markdown",
   "metadata": {},
   "source": [
    "To download the `FARGO3D` source code execute:"
   ]
  },
  {
   "cell_type": "code",
   "execution_count": 41,
   "metadata": {},
   "outputs": [
    {
     "name": "stdout",
     "output_type": "stream",
     "text": [
      "Running FARGOpy version 0.3.0\n",
      "Downloading FARGOpy...\n",
      "Directory '/home/jzuluaga/fargo3d/' already exists. Removing it...\n"
     ]
    },
    {
     "name": "stderr",
     "output_type": "stream",
     "text": [
      "Cloning into 'fargo3d'...\n"
     ]
    },
    {
     "name": "stdout",
     "output_type": "stream",
     "text": [
      "\tFARGO3D downloaded to /home/jzuluaga/fargo3d/\n",
      "Header file for FARGO3D found in the fargo directory /home/jzuluaga/fargo3d/\n"
     ]
    }
   ],
   "source": [
    "fp.initialize('download',force=True)"
   ]
  },
  {
   "cell_type": "markdown",
   "metadata": {},
   "source": [
    "Once download it you may check if the source code is compiling in your machine. For that purpose run:"
   ]
  },
  {
   "cell_type": "code",
   "execution_count": 42,
   "metadata": {},
   "outputs": [
    {
     "name": "stdout",
     "output_type": "stream",
     "text": [
      "Test compilation of FARGO3D\n",
      "\tChecking normal compilation.\n",
      "\tRunning 'make -C /home/jzuluaga/fargo3d/ clean mrproper all PARALLEL=0 GPU=0 2>&1 |tee /tmp/fargo_regular.log':\n",
      "\t\tCompilation in mode regular successful.\n",
      "\tChecking normal compilation.\n",
      "\tRunning 'make -C /home/jzuluaga/fargo3d/ clean mrproper all PARALLEL=0 GPU=1 2>&1 |tee /tmp/fargo_gpu.log':\n",
      "\t\tCompilation in mode gpu successful.\n",
      "\tChecking normal compilation.\n",
      "\tRunning 'make -C /home/jzuluaga/fargo3d/ clean mrproper all PARALLEL=1 GPU=0 2>&1 |tee /tmp/fargo_parallel.log':\n",
      "\t\tCompilation in mode parallel successful.\n",
      "Summary of compilation modes:\n",
      "\tRegular: 1\n",
      "\tGPU: 1\n",
      "\tParallel: 1\n"
     ]
    }
   ],
   "source": [
    "fp.initialize('check')"
   ]
  },
  {
   "cell_type": "markdown",
   "metadata": {},
   "source": [
    "If you have some error at compiling `FARGO3D` in some of the possible modes (regular, gpu and/or parallel) please check the corresponding logfile and correct the problems. Compiling problems will normally arise because of a lacking of an important dependency, for instance a compiler, a driver (in the case of GPU) or a third-party library or tool (eg. openmpi). "
   ]
  },
  {
   "cell_type": "markdown",
   "metadata": {},
   "source": [
    "## Quickstart"
   ]
  },
  {
   "cell_type": "markdown",
   "metadata": {},
   "source": [
    "Here we will illustrate the minimal commands you may run to test the package. A more detailed set of examples can be found in [this tutorial](TUTORIAL.md). In depth examples are available in the [examples directory]() of the `GitHub` repository. \n",
    "\n",
    "For this example we will assume that you already have a set of FARGO3D simulation results. You may download a precomputed set of results prepared by the developers of `FARGOpy` using the command: "
   ]
  },
  {
   "cell_type": "code",
   "execution_count": 5,
   "metadata": {},
   "outputs": [
    {
     "name": "stdout",
     "output_type": "stream",
     "text": [
      "Precomputed output directory '/tmp/fargo' already exist\n"
     ]
    },
    {
     "data": {
      "text/plain": [
       "'/tmp/fargo'"
      ]
     },
     "execution_count": 5,
     "metadata": {},
     "output_type": "execute_result"
    }
   ],
   "source": [
    "fp.Simulation.download_precomputed(setup='fargo')"
   ]
  },
  {
   "cell_type": "markdown",
   "metadata": {},
   "source": [
    "Create a simulation object:"
   ]
  },
  {
   "cell_type": "code",
   "execution_count": 6,
   "metadata": {},
   "outputs": [
    {
     "name": "stdout",
     "output_type": "stream",
     "text": [
      "Your simulation is now connected with '/home/jzuluaga/fargo3d/'\n"
     ]
    }
   ],
   "source": [
    "sim = fp.Simulation()"
   ]
  },
  {
   "cell_type": "markdown",
   "metadata": {},
   "source": [
    "Set the output directory (in this case, the directory where the precomputed simulation has been stored):"
   ]
  },
  {
   "cell_type": "code",
   "execution_count": 7,
   "metadata": {},
   "outputs": [
    {
     "name": "stdout",
     "output_type": "stream",
     "text": [
      "Now you are connected with output directory '/tmp/fargo'\n"
     ]
    }
   ],
   "source": [
    "sim.set_output_dir('/tmp/fargo')"
   ]
  },
  {
   "cell_type": "markdown",
   "metadata": {},
   "source": [
    "Load the properties of the simulation:"
   ]
  },
  {
   "cell_type": "code",
   "execution_count": 8,
   "metadata": {},
   "outputs": [
    {
     "name": "stdout",
     "output_type": "stream",
     "text": [
      "Loading variables\n",
      "84 variables loaded\n",
      "Simulation in 2 dimensions\n",
      "Loading domain in cylindrical coordinates:\n",
      "\tVariable phi: 384 [[0, -3.1334114227210694], [-1, 3.1334114227210694]]\n",
      "\tVariable r: 128 [[0, 0.408203125], [-1, 2.491796875]]\n",
      "\tVariable z: 1 [[0, 0.0], [-1, 0.0]]\n",
      "Number of snapshots in output directory: 51\n",
      "Configuration variables and domains load into the object. See e.g. <sim>.vars\n"
     ]
    }
   ],
   "source": [
    "sim.load_properties()"
   ]
  },
  {
   "cell_type": "markdown",
   "metadata": {},
   "source": [
    "Load gas density from a given snapshot:"
   ]
  },
  {
   "cell_type": "code",
   "execution_count": 9,
   "metadata": {},
   "outputs": [],
   "source": [
    "gasdens = sim.load_field('gasdens',snapshot=20)"
   ]
  },
  {
   "cell_type": "markdown",
   "metadata": {},
   "source": [
    "Create a `meshslice` of the field:"
   ]
  },
  {
   "cell_type": "code",
   "execution_count": 10,
   "metadata": {},
   "outputs": [],
   "source": [
    "gasdens_r, mesh = gasdens.meshslice(slice='z=0,phi=0')"
   ]
  },
  {
   "cell_type": "markdown",
   "metadata": {},
   "source": [
    "And plot the slice:"
   ]
  },
  {
   "cell_type": "code",
   "execution_count": 12,
   "metadata": {},
   "outputs": [],
   "source": [
    "import matplotlib.pyplot as plt\n",
    "plt.ioff() # Drop this out of this tutorial\n",
    "fig,ax = plt.subplots()\n",
    "ax.semilogy(mesh.r,gasdens_r)\n",
    "ax.set_xlabel(r\"$r$ [cu]\")\n",
    "ax.set_ylabel(r\"$\\rho$ [cu]\")\n",
    "fp.Util.fargopy_mark(ax)\n",
    "fig.savefig('gallery/example-dens_r.png') # Drop this out of this tutorial"
   ]
  },
  {
   "cell_type": "markdown",
   "metadata": {},
   "source": [
    "<p align=\"center\"><img src=\"https://github.com/seap-udea/fargopy/blob/main/gallery/example-dens_r.png?raw=true\" alt=\"Animation\"\"/></p>"
   ]
  },
  {
   "cell_type": "markdown",
   "metadata": {},
   "source": [
    "You may also create a 2-dimensional slice:"
   ]
  },
  {
   "cell_type": "code",
   "execution_count": 96,
   "metadata": {},
   "outputs": [],
   "source": [
    "gasdens_plane, mesh = gasdens.meshslice(slice='z=0')"
   ]
  },
  {
   "cell_type": "markdown",
   "metadata": {},
   "source": [
    "And plot it:"
   ]
  },
  {
   "cell_type": "code",
   "execution_count": 97,
   "metadata": {},
   "outputs": [],
   "source": [
    "plt.ioff() # Drop this out of this tutorial\n",
    "fig,axs = plt.subplots(1,2,figsize=(12,6))\n",
    "\n",
    "ax = axs[0]\n",
    "ax.pcolormesh(mesh.phi,mesh.r,gasdens_plane,cmap='prism')\n",
    "ax.set_xlabel('$\\phi$ [rad]')\n",
    "ax.set_ylabel('$r$ [UL]')\n",
    "fp.Util.fargopy_mark(ax)\n",
    "\n",
    "ax = axs[1]\n",
    "ax.pcolormesh(mesh.x,mesh.y,gasdens_plane,cmap='prism')\n",
    "ax.set_xlabel('$x$ [UL]')\n",
    "ax.set_ylabel('$y$ [UL]')\n",
    "fp.Util.fargopy_mark(ax)\n",
    "ax.axis('equal')\n",
    "fig.savefig('gallery/example-dens_disk.png') # Drop this out of this tutorial"
   ]
  },
  {
   "cell_type": "markdown",
   "metadata": {},
   "source": [
    "<p align=\"center\"><img src=\"https://github.com/seap-udea/fargopy/blob/main/gallery/example-dens_disk.png?raw=true\" alt=\"Animation\"\"/></p>"
   ]
  },
  {
   "cell_type": "markdown",
   "metadata": {},
   "source": [
    "## What's new\n"
   ]
  },
  {
   "cell_type": "markdown",
   "metadata": {},
   "source": [
    "Version 0.3.*:\n",
    "\n",
    "- Refactoring of initializing routines.\n",
    "- Improvements in documentation of basic classes in `__init__.py`.\n",
    "\n",
    "Version 0.2.*:\n",
    "\n",
    "- First real applications tested with FARGOpy.\n",
    "- All basic routines for reading output created.\n",
    "- Major refactoring. \n",
    "\n",
    "Version 0.1.*:\n",
    "\n",
    "- Package is now provided with a script 'ifargopy' to run 'ipython' with fargopy initialized.\n",
    "- A new 'progress' mode has been added to status method.\n",
    "- All the dynamics of loading/compiling/running/stoppìng/resuming FARGO3D has been developed.\n",
    "\n",
    "Version 0.0.*:\n",
    "\n",
    "- First classes created.\n",
    "- The project is started!"
   ]
  },
  {
   "cell_type": "markdown",
   "metadata": {},
   "source": [
    "------------\n",
    "\n",
    "This package has been designed and written mostly by Jorge I. Zuluaga with advising and contributions by Matías Montesinos (C) 2023\n"
   ]
  }
 ],
 "metadata": {
  "kernelspec": {
   "display_name": "base",
   "language": "python",
   "name": "python3"
  },
  "language_info": {
   "codemirror_mode": {
    "name": "ipython",
    "version": 3
   },
   "file_extension": ".py",
   "mimetype": "text/x-python",
   "name": "python",
   "nbconvert_exporter": "python",
   "pygments_lexer": "ipython3",
   "version": "3.10.12"
  }
 },
 "nbformat": 4,
 "nbformat_minor": 2
}
